{
 "cells": [
  {
   "cell_type": "markdown",
   "id": "297391d2-b508-4517-a808-9bf0219c3e65",
   "metadata": {},
   "source": [
    "<h1>Understanding the Data</h1>\n",
    "This notebook reviews the audio attributes available from Spotify and how to retrieve them. I also provide an explanation as to why I chose to utilize the audio feature <b>timbre</b> for this project."
   ]
  },
  {
   "cell_type": "markdown",
   "id": "b79934c4-c45f-48a9-83f8-45a30a6f61c0",
   "metadata": {},
   "source": [
    "<h2>Prerequisites</h2>\n",
    "\n",
    "<ol>\n",
    "<li><a href = 'http://localhost:8888/notebooks/Documents%2FProjects%2Fspotify%2F3.%20Understanding%20the%20Data.ipynb'>Setting Up Your API Connection</a></li>\n",
    "<li><a href = 'http://localhost:8888/notebooks/Documents%2FProjects%2Fspotify%2F3.%20Understanding%20the%20Data.ipynb'>Using the API</a></li>\n",
    "</ol>"
   ]
  },
  {
   "cell_type": "markdown",
   "id": "c6821253-a8b0-4cb7-98d8-c86d9359b236",
   "metadata": {},
   "source": [
    "<h2>Audio Features</h2>\n",
    "Audio features are attributes of a song such as tempo, loudness, danceability, etc. A breakdown of each of the 13 audio features and their definitions can be found on <a href = 'https://developer.spotify.com/documentation/web-api/reference/get-audio-features'>Spotify's Developer Site</a>. \n",
    "This project does not utilize any of the audio features, but I have used them on another project and can say they are a great, fun, and easy way to start to dive into musical attribute analyses.<br>\n",
    "<br>\n",
    "Even though we are not using them, we will still see how to retrieve the audio features using the Spotipy API."
   ]
  },
  {
   "cell_type": "markdown",
   "id": "d8073ae0-cf8e-4a69-8f28-008c85fe0721",
   "metadata": {},
   "source": [
    "<h4>Connect to Spotify Using Spotipy</h4>"
   ]
  },
  {
   "cell_type": "code",
   "execution_count": 1,
   "id": "50bf5dd4-66ad-4963-acd2-33a0f668340a",
   "metadata": {},
   "outputs": [
    {
     "name": "stdin",
     "output_type": "stream",
     "text": [
      "Enter your Spotify Client ID:  ab2b3366a21b4079a62dc532ab756e5e\n",
      "Enter your Spotify Secret Token:  3b9f64d4cec3421f8d63d375fa3118f7\n"
     ]
    },
    {
     "name": "stdout",
     "output_type": "stream",
     "text": [
      "Connected to Spotify!\n"
     ]
    }
   ],
   "source": [
    "import spotipy\n",
    "from spotipy.oauth2 import SpotifyClientCredentials\n",
    "\n",
    "\n",
    "sp_client_id = input(\"Enter your Spotify Client ID: \")\n",
    "sp_client_secret = input(\"Enter your Spotify Secret Token: \")\n",
    "\n",
    "credentials = SpotifyClientCredentials(client_id = sp_client_id,\n",
    "                                       client_secret = sp_client_secret)\n",
    "\n",
    "sp = spotipy.Spotify(client_credentials_manager = credentials)\n",
    "\n",
    "print(\"Connected to Spotify!\")"
   ]
  },
  {
   "cell_type": "markdown",
   "id": "025e6cc0-cc8e-4a51-a89b-5f98e99eb77a",
   "metadata": {},
   "source": [
    "<br>\n",
    "We will use the following song for this example:<br>\n",
    "Artist: <b>Radiohead</b><br>\n",
    "Song: <b>Karma Police</b><br>\n",
    "<br>"
   ]
  },
  {
   "cell_type": "markdown",
   "id": "19ea52b0-1777-46a3-89e9-585cf277d465",
   "metadata": {},
   "source": [
    "<h4>Find Track URI</h4>\n",
    "First, we find the track URI using the track search."
   ]
  },
  {
   "cell_type": "code",
   "execution_count": 2,
   "id": "9deeed09-0b22-4076-93aa-88b65d44ac3a",
   "metadata": {},
   "outputs": [
    {
     "ename": "SpotifyOauthError",
     "evalue": "error: invalid_client, error_description: Failed to get client",
     "output_type": "error",
     "traceback": [
      "\u001b[0;31m---------------------------------------------------------------------------\u001b[0m",
      "\u001b[0;31mHTTPError\u001b[0m                                 Traceback (most recent call last)",
      "File \u001b[0;32m/opt/anaconda3/envs/model_env/lib/python3.12/site-packages/spotipy/oauth2.py:265\u001b[0m, in \u001b[0;36mSpotifyClientCredentials._request_access_token\u001b[0;34m(self)\u001b[0m\n\u001b[1;32m    257\u001b[0m response \u001b[38;5;241m=\u001b[39m \u001b[38;5;28mself\u001b[39m\u001b[38;5;241m.\u001b[39m_session\u001b[38;5;241m.\u001b[39mpost(\n\u001b[1;32m    258\u001b[0m     \u001b[38;5;28mself\u001b[39m\u001b[38;5;241m.\u001b[39mOAUTH_TOKEN_URL,\n\u001b[1;32m    259\u001b[0m     data\u001b[38;5;241m=\u001b[39mpayload,\n\u001b[0;32m   (...)\u001b[0m\n\u001b[1;32m    263\u001b[0m     timeout\u001b[38;5;241m=\u001b[39m\u001b[38;5;28mself\u001b[39m\u001b[38;5;241m.\u001b[39mrequests_timeout,\n\u001b[1;32m    264\u001b[0m )\n\u001b[0;32m--> 265\u001b[0m response\u001b[38;5;241m.\u001b[39mraise_for_status()\n\u001b[1;32m    266\u001b[0m token_info \u001b[38;5;241m=\u001b[39m response\u001b[38;5;241m.\u001b[39mjson()\n",
      "File \u001b[0;32m/opt/anaconda3/envs/model_env/lib/python3.12/site-packages/requests/models.py:1021\u001b[0m, in \u001b[0;36mResponse.raise_for_status\u001b[0;34m(self)\u001b[0m\n\u001b[1;32m   1020\u001b[0m \u001b[38;5;28;01mif\u001b[39;00m http_error_msg:\n\u001b[0;32m-> 1021\u001b[0m     \u001b[38;5;28;01mraise\u001b[39;00m HTTPError(http_error_msg, response\u001b[38;5;241m=\u001b[39m\u001b[38;5;28mself\u001b[39m)\n",
      "\u001b[0;31mHTTPError\u001b[0m: 400 Client Error: Bad Request for url: https://accounts.spotify.com/api/token",
      "\nDuring handling of the above exception, another exception occurred:\n",
      "\u001b[0;31mSpotifyOauthError\u001b[0m                         Traceback (most recent call last)",
      "Cell \u001b[0;32mIn[2], line 2\u001b[0m\n\u001b[1;32m      1\u001b[0m \u001b[38;5;66;03m# Note that I have already parsed the JSON to retrieve the first result of the search\u001b[39;00m\n\u001b[0;32m----> 2\u001b[0m search_result \u001b[38;5;241m=\u001b[39m sp\u001b[38;5;241m.\u001b[39msearch(\u001b[38;5;124mf\u001b[39m\u001b[38;5;124m'\u001b[39m\u001b[38;5;124martist:Radiohead track:Karma Police\u001b[39m\u001b[38;5;124m'\u001b[39m, \u001b[38;5;28mtype\u001b[39m \u001b[38;5;241m=\u001b[39m \u001b[38;5;124m'\u001b[39m\u001b[38;5;124mtrack\u001b[39m\u001b[38;5;124m'\u001b[39m)[\u001b[38;5;124m'\u001b[39m\u001b[38;5;124mtracks\u001b[39m\u001b[38;5;124m'\u001b[39m][\u001b[38;5;124m'\u001b[39m\u001b[38;5;124mitems\u001b[39m\u001b[38;5;124m'\u001b[39m][\u001b[38;5;241m0\u001b[39m]\n\u001b[1;32m      4\u001b[0m \u001b[38;5;66;03m# Let's store the artist and song name retrieved to ensure we got the right result. \u001b[39;00m\n\u001b[1;32m      5\u001b[0m \u001b[38;5;66;03m#Again, JSON has been parsed\u001b[39;00m\n\u001b[1;32m      6\u001b[0m \n\u001b[1;32m      7\u001b[0m \u001b[38;5;66;03m# Artist\u001b[39;00m\n\u001b[1;32m      8\u001b[0m track_artist \u001b[38;5;241m=\u001b[39m search_result[\u001b[38;5;124m'\u001b[39m\u001b[38;5;124martists\u001b[39m\u001b[38;5;124m'\u001b[39m][\u001b[38;5;241m0\u001b[39m][\u001b[38;5;124m'\u001b[39m\u001b[38;5;124mname\u001b[39m\u001b[38;5;124m'\u001b[39m]\n",
      "File \u001b[0;32m/opt/anaconda3/envs/model_env/lib/python3.12/site-packages/spotipy/client.py:587\u001b[0m, in \u001b[0;36mSpotify.search\u001b[0;34m(self, q, limit, offset, type, market)\u001b[0m\n\u001b[1;32m    572\u001b[0m \u001b[38;5;28;01mdef\u001b[39;00m \u001b[38;5;21msearch\u001b[39m(\u001b[38;5;28mself\u001b[39m, q, limit\u001b[38;5;241m=\u001b[39m\u001b[38;5;241m10\u001b[39m, offset\u001b[38;5;241m=\u001b[39m\u001b[38;5;241m0\u001b[39m, \u001b[38;5;28mtype\u001b[39m\u001b[38;5;241m=\u001b[39m\u001b[38;5;124m\"\u001b[39m\u001b[38;5;124mtrack\u001b[39m\u001b[38;5;124m\"\u001b[39m, market\u001b[38;5;241m=\u001b[39m\u001b[38;5;28;01mNone\u001b[39;00m):\n\u001b[1;32m    573\u001b[0m \u001b[38;5;250m    \u001b[39m\u001b[38;5;124;03m\"\"\" searches for an item\u001b[39;00m\n\u001b[1;32m    574\u001b[0m \n\u001b[1;32m    575\u001b[0m \u001b[38;5;124;03m        Parameters:\u001b[39;00m\n\u001b[0;32m   (...)\u001b[0m\n\u001b[1;32m    585\u001b[0m \u001b[38;5;124;03m                       from_token.\u001b[39;00m\n\u001b[1;32m    586\u001b[0m \u001b[38;5;124;03m    \"\"\"\u001b[39;00m\n\u001b[0;32m--> 587\u001b[0m     \u001b[38;5;28;01mreturn\u001b[39;00m \u001b[38;5;28mself\u001b[39m\u001b[38;5;241m.\u001b[39m_get(\n\u001b[1;32m    588\u001b[0m         \u001b[38;5;124m\"\u001b[39m\u001b[38;5;124msearch\u001b[39m\u001b[38;5;124m\"\u001b[39m, q\u001b[38;5;241m=\u001b[39mq, limit\u001b[38;5;241m=\u001b[39mlimit, offset\u001b[38;5;241m=\u001b[39moffset, \u001b[38;5;28mtype\u001b[39m\u001b[38;5;241m=\u001b[39m\u001b[38;5;28mtype\u001b[39m, market\u001b[38;5;241m=\u001b[39mmarket\n\u001b[1;32m    589\u001b[0m     )\n",
      "File \u001b[0;32m/opt/anaconda3/envs/model_env/lib/python3.12/site-packages/spotipy/client.py:323\u001b[0m, in \u001b[0;36mSpotify._get\u001b[0;34m(self, url, args, payload, **kwargs)\u001b[0m\n\u001b[1;32m    320\u001b[0m \u001b[38;5;28;01mif\u001b[39;00m args:\n\u001b[1;32m    321\u001b[0m     kwargs\u001b[38;5;241m.\u001b[39mupdate(args)\n\u001b[0;32m--> 323\u001b[0m \u001b[38;5;28;01mreturn\u001b[39;00m \u001b[38;5;28mself\u001b[39m\u001b[38;5;241m.\u001b[39m_internal_call(\u001b[38;5;124m\"\u001b[39m\u001b[38;5;124mGET\u001b[39m\u001b[38;5;124m\"\u001b[39m, url, payload, kwargs)\n",
      "File \u001b[0;32m/opt/anaconda3/envs/model_env/lib/python3.12/site-packages/spotipy/client.py:247\u001b[0m, in \u001b[0;36mSpotify._internal_call\u001b[0;34m(self, method, url, payload, params)\u001b[0m\n\u001b[1;32m    245\u001b[0m \u001b[38;5;28;01mif\u001b[39;00m \u001b[38;5;129;01mnot\u001b[39;00m url\u001b[38;5;241m.\u001b[39mstartswith(\u001b[38;5;124m\"\u001b[39m\u001b[38;5;124mhttp\u001b[39m\u001b[38;5;124m\"\u001b[39m):\n\u001b[1;32m    246\u001b[0m     url \u001b[38;5;241m=\u001b[39m \u001b[38;5;28mself\u001b[39m\u001b[38;5;241m.\u001b[39mprefix \u001b[38;5;241m+\u001b[39m url\n\u001b[0;32m--> 247\u001b[0m headers \u001b[38;5;241m=\u001b[39m \u001b[38;5;28mself\u001b[39m\u001b[38;5;241m.\u001b[39m_auth_headers()\n\u001b[1;32m    249\u001b[0m \u001b[38;5;28;01mif\u001b[39;00m \u001b[38;5;124m\"\u001b[39m\u001b[38;5;124mcontent_type\u001b[39m\u001b[38;5;124m\"\u001b[39m \u001b[38;5;129;01min\u001b[39;00m args[\u001b[38;5;124m\"\u001b[39m\u001b[38;5;124mparams\u001b[39m\u001b[38;5;124m\"\u001b[39m]:\n\u001b[1;32m    250\u001b[0m     headers[\u001b[38;5;124m\"\u001b[39m\u001b[38;5;124mContent-Type\u001b[39m\u001b[38;5;124m\"\u001b[39m] \u001b[38;5;241m=\u001b[39m args[\u001b[38;5;124m\"\u001b[39m\u001b[38;5;124mparams\u001b[39m\u001b[38;5;124m\"\u001b[39m][\u001b[38;5;124m\"\u001b[39m\u001b[38;5;124mcontent_type\u001b[39m\u001b[38;5;124m\"\u001b[39m]\n",
      "File \u001b[0;32m/opt/anaconda3/envs/model_env/lib/python3.12/site-packages/spotipy/client.py:238\u001b[0m, in \u001b[0;36mSpotify._auth_headers\u001b[0;34m(self)\u001b[0m\n\u001b[1;32m    236\u001b[0m     \u001b[38;5;28;01mreturn\u001b[39;00m {}\n\u001b[1;32m    237\u001b[0m \u001b[38;5;28;01mtry\u001b[39;00m:\n\u001b[0;32m--> 238\u001b[0m     token \u001b[38;5;241m=\u001b[39m \u001b[38;5;28mself\u001b[39m\u001b[38;5;241m.\u001b[39mauth_manager\u001b[38;5;241m.\u001b[39mget_access_token(as_dict\u001b[38;5;241m=\u001b[39m\u001b[38;5;28;01mFalse\u001b[39;00m)\n\u001b[1;32m    239\u001b[0m \u001b[38;5;28;01mexcept\u001b[39;00m \u001b[38;5;167;01mTypeError\u001b[39;00m:\n\u001b[1;32m    240\u001b[0m     token \u001b[38;5;241m=\u001b[39m \u001b[38;5;28mself\u001b[39m\u001b[38;5;241m.\u001b[39mauth_manager\u001b[38;5;241m.\u001b[39mget_access_token()\n",
      "File \u001b[0;32m/opt/anaconda3/envs/model_env/lib/python3.12/site-packages/spotipy/oauth2.py:238\u001b[0m, in \u001b[0;36mSpotifyClientCredentials.get_access_token\u001b[0;34m(self, as_dict, check_cache)\u001b[0m\n\u001b[1;32m    235\u001b[0m     \u001b[38;5;28;01mif\u001b[39;00m token_info \u001b[38;5;129;01mand\u001b[39;00m \u001b[38;5;129;01mnot\u001b[39;00m \u001b[38;5;28mself\u001b[39m\u001b[38;5;241m.\u001b[39mis_token_expired(token_info):\n\u001b[1;32m    236\u001b[0m         \u001b[38;5;28;01mreturn\u001b[39;00m token_info \u001b[38;5;28;01mif\u001b[39;00m as_dict \u001b[38;5;28;01melse\u001b[39;00m token_info[\u001b[38;5;124m\"\u001b[39m\u001b[38;5;124maccess_token\u001b[39m\u001b[38;5;124m\"\u001b[39m]\n\u001b[0;32m--> 238\u001b[0m token_info \u001b[38;5;241m=\u001b[39m \u001b[38;5;28mself\u001b[39m\u001b[38;5;241m.\u001b[39m_request_access_token()\n\u001b[1;32m    239\u001b[0m token_info \u001b[38;5;241m=\u001b[39m \u001b[38;5;28mself\u001b[39m\u001b[38;5;241m.\u001b[39m_add_custom_values_to_token_info(token_info)\n\u001b[1;32m    240\u001b[0m \u001b[38;5;28mself\u001b[39m\u001b[38;5;241m.\u001b[39mcache_handler\u001b[38;5;241m.\u001b[39msave_token_to_cache(token_info)\n",
      "File \u001b[0;32m/opt/anaconda3/envs/model_env/lib/python3.12/site-packages/spotipy/oauth2.py:269\u001b[0m, in \u001b[0;36mSpotifyClientCredentials._request_access_token\u001b[0;34m(self)\u001b[0m\n\u001b[1;32m    267\u001b[0m     \u001b[38;5;28;01mreturn\u001b[39;00m token_info\n\u001b[1;32m    268\u001b[0m \u001b[38;5;28;01mexcept\u001b[39;00m requests\u001b[38;5;241m.\u001b[39mexceptions\u001b[38;5;241m.\u001b[39mHTTPError \u001b[38;5;28;01mas\u001b[39;00m http_error:\n\u001b[0;32m--> 269\u001b[0m     \u001b[38;5;28mself\u001b[39m\u001b[38;5;241m.\u001b[39m_handle_oauth_error(http_error)\n",
      "File \u001b[0;32m/opt/anaconda3/envs/model_env/lib/python3.12/site-packages/spotipy/oauth2.py:146\u001b[0m, in \u001b[0;36mSpotifyAuthBase._handle_oauth_error\u001b[0;34m(self, http_error)\u001b[0m\n\u001b[1;32m    143\u001b[0m     error \u001b[38;5;241m=\u001b[39m response\u001b[38;5;241m.\u001b[39mtext \u001b[38;5;129;01mor\u001b[39;00m \u001b[38;5;28;01mNone\u001b[39;00m\n\u001b[1;32m    144\u001b[0m     error_description \u001b[38;5;241m=\u001b[39m \u001b[38;5;28;01mNone\u001b[39;00m\n\u001b[0;32m--> 146\u001b[0m \u001b[38;5;28;01mraise\u001b[39;00m SpotifyOauthError(\n\u001b[1;32m    147\u001b[0m     \u001b[38;5;124m'\u001b[39m\u001b[38;5;124merror: \u001b[39m\u001b[38;5;132;01m{0}\u001b[39;00m\u001b[38;5;124m, error_description: \u001b[39m\u001b[38;5;132;01m{1}\u001b[39;00m\u001b[38;5;124m'\u001b[39m\u001b[38;5;241m.\u001b[39mformat(\n\u001b[1;32m    148\u001b[0m         error, error_description\n\u001b[1;32m    149\u001b[0m     ),\n\u001b[1;32m    150\u001b[0m     error\u001b[38;5;241m=\u001b[39merror,\n\u001b[1;32m    151\u001b[0m     error_description\u001b[38;5;241m=\u001b[39merror_description\n\u001b[1;32m    152\u001b[0m )\n",
      "\u001b[0;31mSpotifyOauthError\u001b[0m: error: invalid_client, error_description: Failed to get client"
     ]
    }
   ],
   "source": [
    "# Note that I have already parsed the JSON to retrieve the first result of the search\n",
    "search_result = sp.search(f'artist:Radiohead track:Karma Police', type = 'track')['tracks']['items'][0]\n",
    "\n",
    "# Let's store the artist and song name retrieved to ensure we got the right result. \n",
    "#Again, JSON has been parsed\n",
    "\n",
    "# Artist\n",
    "track_artist = search_result['artists'][0]['name']\n",
    "\n",
    "# Track\n",
    "track_name = search_result['name']\n",
    "\n",
    "# URI\n",
    "track_uri = search_result['uri']\n",
    "\n",
    "print(f'\\nArtist Name: {track_artist}')\n",
    "print(f'Track Title: {track_name}')\n",
    "print(f'Track URI: {track_uri}')"
   ]
  },
  {
   "cell_type": "markdown",
   "id": "0001ce0e-5a8c-446a-873f-4dcc4d4eab90",
   "metadata": {},
   "source": [
    "<h4>Retrieve Audio Features</h4>\n",
    "Next, use the track URI to retrieve the audio features. The spotipy object, <b>sp</b>, has a built-in method for this, <b>audio_features</b>.\n",
    "<br>The only required parameter for <b>audio_features</b> is the URI."
   ]
  },
  {
   "cell_type": "code",
   "execution_count": 42,
   "id": "e591586e-ede5-4853-bc1b-ba75983a828a",
   "metadata": {},
   "outputs": [
    {
     "data": {
      "text/plain": [
       "[{'danceability': 0.36,\n",
       "  'energy': 0.501,\n",
       "  'key': 7,\n",
       "  'loudness': -9.129,\n",
       "  'mode': 1,\n",
       "  'speechiness': 0.0258,\n",
       "  'acousticness': 0.0638,\n",
       "  'instrumentalness': 9.32e-05,\n",
       "  'liveness': 0.172,\n",
       "  'valence': 0.324,\n",
       "  'tempo': 74.807,\n",
       "  'type': 'audio_features',\n",
       "  'id': '63OQupATfueTdZMWTxW03A',\n",
       "  'uri': 'spotify:track:63OQupATfueTdZMWTxW03A',\n",
       "  'track_href': 'https://api.spotify.com/v1/tracks/63OQupATfueTdZMWTxW03A',\n",
       "  'analysis_url': 'https://api.spotify.com/v1/audio-analysis/63OQupATfueTdZMWTxW03A',\n",
       "  'duration_ms': 264067,\n",
       "  'time_signature': 4}]"
      ]
     },
     "execution_count": 42,
     "metadata": {},
     "output_type": "execute_result"
    }
   ],
   "source": [
    "# Use the track URI to retrieve audio features\n",
    "audio_features = sp.audio_features(track_uri)\n",
    "\n",
    "audio_features"
   ]
  },
  {
   "cell_type": "markdown",
   "id": "f13c504f-9f71-4200-aa79-d59aacef14e1",
   "metadata": {},
   "source": [
    "<h4>Building an Audio Feature DataFrame</h4>\n",
    "Finally, if desired we can use the result above to make a nice dataframe for analyses and visuals."
   ]
  },
  {
   "cell_type": "code",
   "execution_count": 43,
   "id": "150ccc2c-8771-4854-83d8-fd11546fc61d",
   "metadata": {},
   "outputs": [
    {
     "data": {
      "text/html": [
       "<div>\n",
       "<style scoped>\n",
       "    .dataframe tbody tr th:only-of-type {\n",
       "        vertical-align: middle;\n",
       "    }\n",
       "\n",
       "    .dataframe tbody tr th {\n",
       "        vertical-align: top;\n",
       "    }\n",
       "\n",
       "    .dataframe thead th {\n",
       "        text-align: right;\n",
       "    }\n",
       "</style>\n",
       "<table border=\"1\" class=\"dataframe\">\n",
       "  <thead>\n",
       "    <tr style=\"text-align: right;\">\n",
       "      <th></th>\n",
       "      <th>danceability</th>\n",
       "      <th>energy</th>\n",
       "      <th>key</th>\n",
       "      <th>loudness</th>\n",
       "      <th>mode</th>\n",
       "      <th>speechiness</th>\n",
       "      <th>acousticness</th>\n",
       "      <th>instrumentalness</th>\n",
       "      <th>liveness</th>\n",
       "      <th>valence</th>\n",
       "      <th>tempo</th>\n",
       "      <th>duration_ms</th>\n",
       "      <th>time_signature</th>\n",
       "    </tr>\n",
       "  </thead>\n",
       "  <tbody>\n",
       "    <tr>\n",
       "      <th>0</th>\n",
       "      <td>0.36</td>\n",
       "      <td>0.501</td>\n",
       "      <td>7</td>\n",
       "      <td>-9.129</td>\n",
       "      <td>1</td>\n",
       "      <td>0.0258</td>\n",
       "      <td>0.0638</td>\n",
       "      <td>0.000093</td>\n",
       "      <td>0.172</td>\n",
       "      <td>0.324</td>\n",
       "      <td>74.807</td>\n",
       "      <td>264067</td>\n",
       "      <td>4</td>\n",
       "    </tr>\n",
       "  </tbody>\n",
       "</table>\n",
       "</div>"
      ],
      "text/plain": [
       "   danceability  energy  key  loudness  mode  speechiness  acousticness  \\\n",
       "0          0.36   0.501    7    -9.129     1       0.0258        0.0638   \n",
       "\n",
       "   instrumentalness  liveness  valence   tempo  duration_ms  time_signature  \n",
       "0          0.000093     0.172    0.324  74.807       264067               4  "
      ]
     },
     "execution_count": 43,
     "metadata": {},
     "output_type": "execute_result"
    }
   ],
   "source": [
    "import pandas as pd\n",
    "\n",
    "# Dropping a few unnecessary columns for readability\n",
    "audio_features_df = pd.DataFrame(audio_features).drop(['id', 'uri', 'type', 'track_href', 'analysis_url'], axis = 1)\n",
    "\n",
    "audio_features_df"
   ]
  },
  {
   "cell_type": "markdown",
   "id": "5ec07a05-8313-4b1d-a0df-254f266445f3",
   "metadata": {},
   "source": [
    "From here we can easily add the artist and song name to the dataframe using the <b>track_artist</b> and <b>track_name</b> variables from first step."
   ]
  },
  {
   "cell_type": "code",
   "execution_count": 44,
   "id": "cafb6a56-07ad-489d-8299-da854917655c",
   "metadata": {},
   "outputs": [
    {
     "data": {
      "text/html": [
       "<div>\n",
       "<style scoped>\n",
       "    .dataframe tbody tr th:only-of-type {\n",
       "        vertical-align: middle;\n",
       "    }\n",
       "\n",
       "    .dataframe tbody tr th {\n",
       "        vertical-align: top;\n",
       "    }\n",
       "\n",
       "    .dataframe thead th {\n",
       "        text-align: right;\n",
       "    }\n",
       "</style>\n",
       "<table border=\"1\" class=\"dataframe\">\n",
       "  <thead>\n",
       "    <tr style=\"text-align: right;\">\n",
       "      <th></th>\n",
       "      <th>artist</th>\n",
       "      <th>song_title</th>\n",
       "      <th>danceability</th>\n",
       "      <th>energy</th>\n",
       "      <th>key</th>\n",
       "      <th>loudness</th>\n",
       "      <th>mode</th>\n",
       "      <th>speechiness</th>\n",
       "      <th>acousticness</th>\n",
       "      <th>instrumentalness</th>\n",
       "      <th>liveness</th>\n",
       "      <th>valence</th>\n",
       "      <th>tempo</th>\n",
       "      <th>duration_ms</th>\n",
       "      <th>time_signature</th>\n",
       "    </tr>\n",
       "  </thead>\n",
       "  <tbody>\n",
       "    <tr>\n",
       "      <th>0</th>\n",
       "      <td>Radiohead</td>\n",
       "      <td>Karma Police</td>\n",
       "      <td>0.36</td>\n",
       "      <td>0.501</td>\n",
       "      <td>7</td>\n",
       "      <td>-9.129</td>\n",
       "      <td>1</td>\n",
       "      <td>0.0258</td>\n",
       "      <td>0.0638</td>\n",
       "      <td>0.000093</td>\n",
       "      <td>0.172</td>\n",
       "      <td>0.324</td>\n",
       "      <td>74.807</td>\n",
       "      <td>264067</td>\n",
       "      <td>4</td>\n",
       "    </tr>\n",
       "  </tbody>\n",
       "</table>\n",
       "</div>"
      ],
      "text/plain": [
       "      artist    song_title  danceability  energy  key  loudness  mode  \\\n",
       "0  Radiohead  Karma Police          0.36   0.501    7    -9.129     1   \n",
       "\n",
       "   speechiness  acousticness  instrumentalness  liveness  valence   tempo  \\\n",
       "0       0.0258        0.0638          0.000093     0.172    0.324  74.807   \n",
       "\n",
       "   duration_ms  time_signature  \n",
       "0       264067               4  "
      ]
     },
     "execution_count": 44,
     "metadata": {},
     "output_type": "execute_result"
    }
   ],
   "source": [
    "# Add artist name. Again, JSON has been parsed for convenience\n",
    "audio_features_df.insert(0, 'artist', track_artist)\n",
    "\n",
    "# Add track name\n",
    "audio_features_df.insert(1, 'song_title', track_name)\n",
    "\n",
    "# Final result\n",
    "audio_features_df"
   ]
  },
  {
   "cell_type": "markdown",
   "id": "839f9d3f-e5a8-4fa8-a7cb-d50587222d70",
   "metadata": {},
   "source": [
    "<br>\n",
    "With that we have a template by which we can build out a dataframe or dataframes! Again, we're not using this on this particular project, but it's a fun and easy share."
   ]
  },
  {
   "cell_type": "markdown",
   "id": "17a47fea-3145-4c54-8679-702537c7d25c",
   "metadata": {},
   "source": [
    "<h2>Audio Analysis</h2>\n",
    " "
   ]
  },
  {
   "cell_type": "code",
   "execution_count": 18,
   "id": "b4514b5a-7eb2-492e-a491-2a34679ab1f1",
   "metadata": {},
   "outputs": [
    {
     "data": {
      "text/plain": [
       "[{'start': 0.0,\n",
       "  'duration': 0.11134,\n",
       "  'confidence': 0.0,\n",
       "  'loudness_start': -60.0,\n",
       "  'loudness_max_time': 0.0,\n",
       "  'loudness_max': -60.0,\n",
       "  'loudness_end': 0.0,\n",
       "  'pitches': [1.0,\n",
       "   0.725,\n",
       "   0.337,\n",
       "   0.371,\n",
       "   0.431,\n",
       "   0.408,\n",
       "   0.569,\n",
       "   0.603,\n",
       "   0.69,\n",
       "   0.674,\n",
       "   0.686,\n",
       "   0.12],\n",
       "  'timbre': [0.05,\n",
       "   169.954,\n",
       "   8.395,\n",
       "   -29.988,\n",
       "   56.787,\n",
       "   -50.228,\n",
       "   14.894,\n",
       "   3.851,\n",
       "   -27.467,\n",
       "   0.92,\n",
       "   -10.538,\n",
       "   -6.641]},\n",
       " {'start': 0.11134,\n",
       "  'duration': 0.84522,\n",
       "  'confidence': 1.0,\n",
       "  'loudness_start': -60.0,\n",
       "  'loudness_max_time': 0.05445,\n",
       "  'loudness_max': -19.323,\n",
       "  'loudness_end': 0.0,\n",
       "  'pitches': [0.038,\n",
       "   0.03,\n",
       "   0.006,\n",
       "   0.01,\n",
       "   0.101,\n",
       "   0.013,\n",
       "   0.034,\n",
       "   0.048,\n",
       "   0.031,\n",
       "   1.0,\n",
       "   0.042,\n",
       "   0.016],\n",
       "  'timbre': [33.644,\n",
       "   -23.384,\n",
       "   -74.375,\n",
       "   34.627,\n",
       "   18.404,\n",
       "   63.062,\n",
       "   7.419,\n",
       "   -30.435,\n",
       "   -15.794,\n",
       "   48.255,\n",
       "   36.766,\n",
       "   -8.482]},\n",
       " {'start': 0.95655,\n",
       "  'duration': 0.57519,\n",
       "  'confidence': 1.0,\n",
       "  'loudness_start': -34.527,\n",
       "  'loudness_max_time': 0.04297,\n",
       "  'loudness_max': -15.601,\n",
       "  'loudness_end': 0.0,\n",
       "  'pitches': [0.099,\n",
       "   0.042,\n",
       "   0.018,\n",
       "   0.017,\n",
       "   0.124,\n",
       "   0.028,\n",
       "   0.121,\n",
       "   0.221,\n",
       "   0.07,\n",
       "   1.0,\n",
       "   0.063,\n",
       "   0.053],\n",
       "  'timbre': [40.11,\n",
       "   5.728,\n",
       "   -22.954,\n",
       "   30.254,\n",
       "   10.283,\n",
       "   -4.349,\n",
       "   -4.717,\n",
       "   -0.904,\n",
       "   -1.862,\n",
       "   -9.79,\n",
       "   -17.182,\n",
       "   5.178]}]"
      ]
     },
     "execution_count": 18,
     "metadata": {},
     "output_type": "execute_result"
    }
   ],
   "source": [
    "sp.audio_analysis('spotify:track:63OQupATfueTdZMWTxW03A')['segments'][0:3]"
   ]
  },
  {
   "cell_type": "code",
   "execution_count": 19,
   "id": "91f455c0-0958-4098-9bb1-63e2b8cbb4e0",
   "metadata": {},
   "outputs": [
    {
     "data": {
      "text/html": [
       "<div>\n",
       "<style scoped>\n",
       "    .dataframe tbody tr th:only-of-type {\n",
       "        vertical-align: middle;\n",
       "    }\n",
       "\n",
       "    .dataframe tbody tr th {\n",
       "        vertical-align: top;\n",
       "    }\n",
       "\n",
       "    .dataframe thead th {\n",
       "        text-align: right;\n",
       "    }\n",
       "</style>\n",
       "<table border=\"1\" class=\"dataframe\">\n",
       "  <thead>\n",
       "    <tr style=\"text-align: right;\">\n",
       "      <th></th>\n",
       "      <th>start</th>\n",
       "      <th>duration</th>\n",
       "      <th>confidence</th>\n",
       "      <th>loudness_start</th>\n",
       "      <th>loudness_max_time</th>\n",
       "      <th>loudness_max</th>\n",
       "      <th>loudness_end</th>\n",
       "      <th>pitches</th>\n",
       "      <th>timbre</th>\n",
       "    </tr>\n",
       "  </thead>\n",
       "  <tbody>\n",
       "    <tr>\n",
       "      <th>0</th>\n",
       "      <td>0.00000</td>\n",
       "      <td>0.11134</td>\n",
       "      <td>0.0</td>\n",
       "      <td>-60.000</td>\n",
       "      <td>0.00000</td>\n",
       "      <td>-60.000</td>\n",
       "      <td>0.0</td>\n",
       "      <td>[1.0, 0.725, 0.337, 0.371, 0.431, 0.408, 0.569...</td>\n",
       "      <td>[0.05, 169.954, 8.395, -29.988, 56.787, -50.22...</td>\n",
       "    </tr>\n",
       "    <tr>\n",
       "      <th>1</th>\n",
       "      <td>0.11134</td>\n",
       "      <td>0.84522</td>\n",
       "      <td>1.0</td>\n",
       "      <td>-60.000</td>\n",
       "      <td>0.05445</td>\n",
       "      <td>-19.323</td>\n",
       "      <td>0.0</td>\n",
       "      <td>[0.038, 0.03, 0.006, 0.01, 0.101, 0.013, 0.034...</td>\n",
       "      <td>[33.644, -23.384, -74.375, 34.627, 18.404, 63....</td>\n",
       "    </tr>\n",
       "    <tr>\n",
       "      <th>2</th>\n",
       "      <td>0.95655</td>\n",
       "      <td>0.57519</td>\n",
       "      <td>1.0</td>\n",
       "      <td>-34.527</td>\n",
       "      <td>0.04297</td>\n",
       "      <td>-15.601</td>\n",
       "      <td>0.0</td>\n",
       "      <td>[0.099, 0.042, 0.018, 0.017, 0.124, 0.028, 0.1...</td>\n",
       "      <td>[40.11, 5.728, -22.954, 30.254, 10.283, -4.349...</td>\n",
       "    </tr>\n",
       "  </tbody>\n",
       "</table>\n",
       "</div>"
      ],
      "text/plain": [
       "     start  duration  confidence  loudness_start  loudness_max_time  \\\n",
       "0  0.00000   0.11134         0.0         -60.000            0.00000   \n",
       "1  0.11134   0.84522         1.0         -60.000            0.05445   \n",
       "2  0.95655   0.57519         1.0         -34.527            0.04297   \n",
       "\n",
       "   loudness_max  loudness_end  \\\n",
       "0       -60.000           0.0   \n",
       "1       -19.323           0.0   \n",
       "2       -15.601           0.0   \n",
       "\n",
       "                                             pitches  \\\n",
       "0  [1.0, 0.725, 0.337, 0.371, 0.431, 0.408, 0.569...   \n",
       "1  [0.038, 0.03, 0.006, 0.01, 0.101, 0.013, 0.034...   \n",
       "2  [0.099, 0.042, 0.018, 0.017, 0.124, 0.028, 0.1...   \n",
       "\n",
       "                                              timbre  \n",
       "0  [0.05, 169.954, 8.395, -29.988, 56.787, -50.22...  \n",
       "1  [33.644, -23.384, -74.375, 34.627, 18.404, 63....  \n",
       "2  [40.11, 5.728, -22.954, 30.254, 10.283, -4.349...  "
      ]
     },
     "execution_count": 19,
     "metadata": {},
     "output_type": "execute_result"
    }
   ],
   "source": [
    "pd.DataFrame(sp.audio_analysis('spotify:track:63OQupATfueTdZMWTxW03A')['segments'][0:3])"
   ]
  },
  {
   "cell_type": "markdown",
   "id": "6489b753-adc5-4f52-8b0e-5c9944dd0a89",
   "metadata": {},
   "source": [
    "Now that we know what we are looking for and how to obtain it, we will move on to the next step where I will show you how to create the timbre model."
   ]
  },
  {
   "cell_type": "code",
   "execution_count": null,
   "id": "e49c8397-7fcf-4d91-9d4d-37184ba83763",
   "metadata": {},
   "outputs": [],
   "source": []
  }
 ],
 "metadata": {
  "kernelspec": {
   "display_name": "Python 3 (ipykernel)",
   "language": "python",
   "name": "python3"
  },
  "language_info": {
   "codemirror_mode": {
    "name": "ipython",
    "version": 3
   },
   "file_extension": ".py",
   "mimetype": "text/x-python",
   "name": "python",
   "nbconvert_exporter": "python",
   "pygments_lexer": "ipython3",
   "version": "3.12.3"
  }
 },
 "nbformat": 4,
 "nbformat_minor": 5
}
