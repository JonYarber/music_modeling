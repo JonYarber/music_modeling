{
 "cells": [
  {
   "cell_type": "markdown",
   "id": "297391d2-b508-4517-a808-9bf0219c3e65",
   "metadata": {},
   "source": [
    "<h1>Understanding the Data</h1>\n",
    "This notebook reviews the audio attributes available from Spotify and how to retrieve them. I also provide an explanation as to why I chose to utilize the audio feature <b>timbre</b> for this project."
   ]
  },
  {
   "cell_type": "markdown",
   "id": "0709fde2-57d2-4221-8f1e-6615b6be35f1",
   "metadata": {},
   "source": [
    "----"
   ]
  },
  {
   "cell_type": "markdown",
   "id": "b79934c4-c45f-48a9-83f8-45a30a6f61c0",
   "metadata": {},
   "source": [
    "<h2>Prerequisites</h2>\n",
    "<ol>\n",
    "<li><a href = 'https://nbviewer.org/github/JonYarber/music_modeling/blob/main/1.%20Setting%20Up%20the%20API%20Connection.ipynb'>Setting Up the API Connection</a></li>\n",
    "<li><a href = 'https://nbviewer.org/github/JonYarber/music_modeling/blob/main/2.%20Using%20the%20Spotify%20API.ipynb'>Using the Spotify API</a></li>\n",
    "</ol>"
   ]
  },
  {
   "cell_type": "markdown",
   "id": "5f48bd07-e9fc-4dde-a845-1c5c936a6279",
   "metadata": {},
   "source": [
    "---"
   ]
  },
  {
   "cell_type": "markdown",
   "id": "c6821253-a8b0-4cb7-98d8-c86d9359b236",
   "metadata": {},
   "source": [
    "<h2>Audio Features</h2>\n",
    "Audio features are attributes of a song such as tempo, loudness, danceability, etc. A breakdown of each of the 13 audio features and their definitions can be found on <a href = 'https://developer.spotify.com/documentation/web-api/reference/get-audio-features'>Spotify's Developer Site</a>. \n",
    "This project does not utilize any of the audio features, but I have used them on another project and can say they are a great, fun, and easy way to start to dive into musical attribute analyses.<br>\n",
    "<br>\n",
    "Even though we are not using them, we will still see how to retrieve the audio features using the Spotipy API."
   ]
  },
  {
   "cell_type": "markdown",
   "id": "d8073ae0-cf8e-4a69-8f28-008c85fe0721",
   "metadata": {},
   "source": [
    "<h4>Connect to Spotify Using Spotipy</h4>"
   ]
  },
  {
   "cell_type": "code",
   "execution_count": 1,
   "id": "50bf5dd4-66ad-4963-acd2-33a0f668340a",
   "metadata": {},
   "outputs": [
    {
     "name": "stdin",
     "output_type": "stream",
     "text": [
      "Enter your Spotify Client ID:  ed9307841d3542df8819aec9a4f0ec84\n",
      "Enter your Spotify Secret Token:  8208717955574be6a24163ed59675094\n"
     ]
    },
    {
     "name": "stdout",
     "output_type": "stream",
     "text": [
      "Connected to Spotify!\n"
     ]
    }
   ],
   "source": [
    "import spotipy\n",
    "from spotipy.oauth2 import SpotifyClientCredentials\n",
    "\n",
    "\n",
    "sp_client_id = input(\"Enter your Spotify Client ID: \")\n",
    "sp_client_secret = input(\"Enter your Spotify Secret Token: \")\n",
    "\n",
    "credentials = SpotifyClientCredentials(client_id = sp_client_id,\n",
    "                                       client_secret = sp_client_secret)\n",
    "\n",
    "sp = spotipy.Spotify(client_credentials_manager = credentials)\n",
    "\n",
    "print(\"Connected to Spotify!\")"
   ]
  },
  {
   "cell_type": "markdown",
   "id": "025e6cc0-cc8e-4a51-a89b-5f98e99eb77a",
   "metadata": {},
   "source": [
    "<br>\n",
    "We will use the following song for this example:<br>\n",
    "Artist: <b>Radiohead</b><br>\n",
    "Song: <b>Karma Police</b><br>\n",
    "<br>"
   ]
  },
  {
   "cell_type": "markdown",
   "id": "19ea52b0-1777-46a3-89e9-585cf277d465",
   "metadata": {},
   "source": [
    "<h4>Find Track URI</h4>\n",
    "First, we find the track URI using the track search."
   ]
  },
  {
   "cell_type": "code",
   "execution_count": 2,
   "id": "9deeed09-0b22-4076-93aa-88b65d44ac3a",
   "metadata": {},
   "outputs": [
    {
     "name": "stdout",
     "output_type": "stream",
     "text": [
      "\n",
      "Artist Name: Radiohead\n",
      "Track Title: Karma Police\n",
      "Track URI: spotify:track:63OQupATfueTdZMWTxW03A\n"
     ]
    }
   ],
   "source": [
    "# Note that I have already parsed the JSON to retrieve the first result of the search\n",
    "search_result = sp.search(f'artist:Radiohead track:Karma Police', type = 'track')['tracks']['items'][0]\n",
    "\n",
    "# Let's store the artist and song name retrieved to ensure we got the right result. \n",
    "#Again, JSON has been parsed\n",
    "\n",
    "# Artist\n",
    "track_artist = search_result['artists'][0]['name']\n",
    "\n",
    "# Track\n",
    "track_name = search_result['name']\n",
    "\n",
    "# URI\n",
    "track_uri = search_result['uri']\n",
    "\n",
    "print(f'\\nArtist Name: {track_artist}')\n",
    "print(f'Track Title: {track_name}')\n",
    "print(f'Track URI: {track_uri}')"
   ]
  },
  {
   "cell_type": "markdown",
   "id": "0001ce0e-5a8c-446a-873f-4dcc4d4eab90",
   "metadata": {},
   "source": [
    "<h4>Retrieve Audio Features</h4>\n",
    "Next, use the track URI to retrieve the audio features. The spotipy object, <b>sp</b>, has a built-in method for this, <b>audio_features</b>.\n",
    "<br>The only required parameter for <b>audio_features</b> is the URI."
   ]
  },
  {
   "cell_type": "code",
   "execution_count": 3,
   "id": "e591586e-ede5-4853-bc1b-ba75983a828a",
   "metadata": {},
   "outputs": [
    {
     "data": {
      "text/plain": [
       "[{'danceability': 0.36,\n",
       "  'energy': 0.501,\n",
       "  'key': 7,\n",
       "  'loudness': -9.129,\n",
       "  'mode': 1,\n",
       "  'speechiness': 0.0258,\n",
       "  'acousticness': 0.0638,\n",
       "  'instrumentalness': 9.32e-05,\n",
       "  'liveness': 0.172,\n",
       "  'valence': 0.324,\n",
       "  'tempo': 74.807,\n",
       "  'type': 'audio_features',\n",
       "  'id': '63OQupATfueTdZMWTxW03A',\n",
       "  'uri': 'spotify:track:63OQupATfueTdZMWTxW03A',\n",
       "  'track_href': 'https://api.spotify.com/v1/tracks/63OQupATfueTdZMWTxW03A',\n",
       "  'analysis_url': 'https://api.spotify.com/v1/audio-analysis/63OQupATfueTdZMWTxW03A',\n",
       "  'duration_ms': 264067,\n",
       "  'time_signature': 4}]"
      ]
     },
     "execution_count": 3,
     "metadata": {},
     "output_type": "execute_result"
    }
   ],
   "source": [
    "# Use the track URI to retrieve audio features\n",
    "audio_features = sp.audio_features(track_uri)\n",
    "\n",
    "audio_features"
   ]
  },
  {
   "cell_type": "markdown",
   "id": "f13c504f-9f71-4200-aa79-d59aacef14e1",
   "metadata": {},
   "source": [
    "<h4>Building an Audio Feature DataFrame</h4>\n",
    "Finally, if desired we can use the result above to make a nice dataframe for analyses and visuals."
   ]
  },
  {
   "cell_type": "code",
   "execution_count": 4,
   "id": "150ccc2c-8771-4854-83d8-fd11546fc61d",
   "metadata": {},
   "outputs": [
    {
     "data": {
      "text/html": [
       "<div>\n",
       "<style scoped>\n",
       "    .dataframe tbody tr th:only-of-type {\n",
       "        vertical-align: middle;\n",
       "    }\n",
       "\n",
       "    .dataframe tbody tr th {\n",
       "        vertical-align: top;\n",
       "    }\n",
       "\n",
       "    .dataframe thead th {\n",
       "        text-align: right;\n",
       "    }\n",
       "</style>\n",
       "<table border=\"1\" class=\"dataframe\">\n",
       "  <thead>\n",
       "    <tr style=\"text-align: right;\">\n",
       "      <th></th>\n",
       "      <th>danceability</th>\n",
       "      <th>energy</th>\n",
       "      <th>key</th>\n",
       "      <th>loudness</th>\n",
       "      <th>mode</th>\n",
       "      <th>speechiness</th>\n",
       "      <th>acousticness</th>\n",
       "      <th>instrumentalness</th>\n",
       "      <th>liveness</th>\n",
       "      <th>valence</th>\n",
       "      <th>tempo</th>\n",
       "      <th>duration_ms</th>\n",
       "      <th>time_signature</th>\n",
       "    </tr>\n",
       "  </thead>\n",
       "  <tbody>\n",
       "    <tr>\n",
       "      <th>0</th>\n",
       "      <td>0.36</td>\n",
       "      <td>0.501</td>\n",
       "      <td>7</td>\n",
       "      <td>-9.129</td>\n",
       "      <td>1</td>\n",
       "      <td>0.0258</td>\n",
       "      <td>0.0638</td>\n",
       "      <td>0.000093</td>\n",
       "      <td>0.172</td>\n",
       "      <td>0.324</td>\n",
       "      <td>74.807</td>\n",
       "      <td>264067</td>\n",
       "      <td>4</td>\n",
       "    </tr>\n",
       "  </tbody>\n",
       "</table>\n",
       "</div>"
      ],
      "text/plain": [
       "   danceability  energy  key  loudness  mode  speechiness  acousticness  \\\n",
       "0          0.36   0.501    7    -9.129     1       0.0258        0.0638   \n",
       "\n",
       "   instrumentalness  liveness  valence   tempo  duration_ms  time_signature  \n",
       "0          0.000093     0.172    0.324  74.807       264067               4  "
      ]
     },
     "execution_count": 4,
     "metadata": {},
     "output_type": "execute_result"
    }
   ],
   "source": [
    "import pandas as pd\n",
    "\n",
    "# Dropping a few unnecessary columns for readability\n",
    "audio_features_df = pd.DataFrame(audio_features).drop(['id', 'uri', 'type', 'track_href', 'analysis_url'], axis = 1)\n",
    "\n",
    "audio_features_df"
   ]
  },
  {
   "cell_type": "markdown",
   "id": "5ec07a05-8313-4b1d-a0df-254f266445f3",
   "metadata": {},
   "source": [
    "From here we can easily add the artist and song name to the dataframe using the <b>track_artist</b> and <b>track_name</b> variables from first step."
   ]
  },
  {
   "cell_type": "code",
   "execution_count": 5,
   "id": "cafb6a56-07ad-489d-8299-da854917655c",
   "metadata": {},
   "outputs": [
    {
     "data": {
      "text/html": [
       "<div>\n",
       "<style scoped>\n",
       "    .dataframe tbody tr th:only-of-type {\n",
       "        vertical-align: middle;\n",
       "    }\n",
       "\n",
       "    .dataframe tbody tr th {\n",
       "        vertical-align: top;\n",
       "    }\n",
       "\n",
       "    .dataframe thead th {\n",
       "        text-align: right;\n",
       "    }\n",
       "</style>\n",
       "<table border=\"1\" class=\"dataframe\">\n",
       "  <thead>\n",
       "    <tr style=\"text-align: right;\">\n",
       "      <th></th>\n",
       "      <th>artist</th>\n",
       "      <th>song_title</th>\n",
       "      <th>danceability</th>\n",
       "      <th>energy</th>\n",
       "      <th>key</th>\n",
       "      <th>loudness</th>\n",
       "      <th>mode</th>\n",
       "      <th>speechiness</th>\n",
       "      <th>acousticness</th>\n",
       "      <th>instrumentalness</th>\n",
       "      <th>liveness</th>\n",
       "      <th>valence</th>\n",
       "      <th>tempo</th>\n",
       "      <th>duration_ms</th>\n",
       "      <th>time_signature</th>\n",
       "    </tr>\n",
       "  </thead>\n",
       "  <tbody>\n",
       "    <tr>\n",
       "      <th>0</th>\n",
       "      <td>Radiohead</td>\n",
       "      <td>Karma Police</td>\n",
       "      <td>0.36</td>\n",
       "      <td>0.501</td>\n",
       "      <td>7</td>\n",
       "      <td>-9.129</td>\n",
       "      <td>1</td>\n",
       "      <td>0.0258</td>\n",
       "      <td>0.0638</td>\n",
       "      <td>0.000093</td>\n",
       "      <td>0.172</td>\n",
       "      <td>0.324</td>\n",
       "      <td>74.807</td>\n",
       "      <td>264067</td>\n",
       "      <td>4</td>\n",
       "    </tr>\n",
       "  </tbody>\n",
       "</table>\n",
       "</div>"
      ],
      "text/plain": [
       "      artist    song_title  danceability  energy  key  loudness  mode  \\\n",
       "0  Radiohead  Karma Police          0.36   0.501    7    -9.129     1   \n",
       "\n",
       "   speechiness  acousticness  instrumentalness  liveness  valence   tempo  \\\n",
       "0       0.0258        0.0638          0.000093     0.172    0.324  74.807   \n",
       "\n",
       "   duration_ms  time_signature  \n",
       "0       264067               4  "
      ]
     },
     "execution_count": 5,
     "metadata": {},
     "output_type": "execute_result"
    }
   ],
   "source": [
    "# Add artist name. Again, JSON has been parsed for convenience\n",
    "audio_features_df.insert(0, 'artist', track_artist)\n",
    "\n",
    "# Add track name\n",
    "audio_features_df.insert(1, 'song_title', track_name)\n",
    "\n",
    "# Final result\n",
    "audio_features_df"
   ]
  },
  {
   "cell_type": "markdown",
   "id": "839f9d3f-e5a8-4fa8-a7cb-d50587222d70",
   "metadata": {},
   "source": [
    "<br>\n",
    "With that we have a template by which we can build out a dataframe or dataframes! Again, we're not using this on this particular project, but it's a fun and easy share."
   ]
  },
  {
   "cell_type": "markdown",
   "id": "17a47fea-3145-4c54-8679-702537c7d25c",
   "metadata": {},
   "source": [
    "<h2>Audio Analysis</h2>\n",
    " "
   ]
  },
  {
   "cell_type": "code",
   "execution_count": 6,
   "id": "b4514b5a-7eb2-492e-a491-2a34679ab1f1",
   "metadata": {},
   "outputs": [
    {
     "data": {
      "text/plain": [
       "[{'start': 0.0,\n",
       "  'duration': 0.11134,\n",
       "  'confidence': 0.0,\n",
       "  'loudness_start': -60.0,\n",
       "  'loudness_max_time': 0.0,\n",
       "  'loudness_max': -60.0,\n",
       "  'loudness_end': 0.0,\n",
       "  'pitches': [1.0,\n",
       "   0.725,\n",
       "   0.337,\n",
       "   0.371,\n",
       "   0.431,\n",
       "   0.408,\n",
       "   0.569,\n",
       "   0.603,\n",
       "   0.69,\n",
       "   0.674,\n",
       "   0.686,\n",
       "   0.12],\n",
       "  'timbre': [0.05,\n",
       "   169.954,\n",
       "   8.395,\n",
       "   -29.988,\n",
       "   56.787,\n",
       "   -50.228,\n",
       "   14.894,\n",
       "   3.851,\n",
       "   -27.467,\n",
       "   0.92,\n",
       "   -10.538,\n",
       "   -6.641]},\n",
       " {'start': 0.11134,\n",
       "  'duration': 0.84522,\n",
       "  'confidence': 1.0,\n",
       "  'loudness_start': -60.0,\n",
       "  'loudness_max_time': 0.05445,\n",
       "  'loudness_max': -19.323,\n",
       "  'loudness_end': 0.0,\n",
       "  'pitches': [0.038,\n",
       "   0.03,\n",
       "   0.006,\n",
       "   0.01,\n",
       "   0.101,\n",
       "   0.013,\n",
       "   0.034,\n",
       "   0.048,\n",
       "   0.031,\n",
       "   1.0,\n",
       "   0.042,\n",
       "   0.016],\n",
       "  'timbre': [33.644,\n",
       "   -23.384,\n",
       "   -74.375,\n",
       "   34.627,\n",
       "   18.404,\n",
       "   63.062,\n",
       "   7.419,\n",
       "   -30.435,\n",
       "   -15.794,\n",
       "   48.255,\n",
       "   36.766,\n",
       "   -8.482]},\n",
       " {'start': 0.95655,\n",
       "  'duration': 0.57519,\n",
       "  'confidence': 1.0,\n",
       "  'loudness_start': -34.527,\n",
       "  'loudness_max_time': 0.04297,\n",
       "  'loudness_max': -15.601,\n",
       "  'loudness_end': 0.0,\n",
       "  'pitches': [0.099,\n",
       "   0.042,\n",
       "   0.018,\n",
       "   0.017,\n",
       "   0.124,\n",
       "   0.028,\n",
       "   0.121,\n",
       "   0.221,\n",
       "   0.07,\n",
       "   1.0,\n",
       "   0.063,\n",
       "   0.053],\n",
       "  'timbre': [40.11,\n",
       "   5.728,\n",
       "   -22.954,\n",
       "   30.254,\n",
       "   10.283,\n",
       "   -4.349,\n",
       "   -4.717,\n",
       "   -0.904,\n",
       "   -1.862,\n",
       "   -9.79,\n",
       "   -17.182,\n",
       "   5.178]}]"
      ]
     },
     "execution_count": 6,
     "metadata": {},
     "output_type": "execute_result"
    }
   ],
   "source": [
    "sp.audio_analysis('spotify:track:63OQupATfueTdZMWTxW03A')['segments'][0:3]"
   ]
  },
  {
   "cell_type": "code",
   "execution_count": 7,
   "id": "91f455c0-0958-4098-9bb1-63e2b8cbb4e0",
   "metadata": {},
   "outputs": [
    {
     "data": {
      "text/html": [
       "<div>\n",
       "<style scoped>\n",
       "    .dataframe tbody tr th:only-of-type {\n",
       "        vertical-align: middle;\n",
       "    }\n",
       "\n",
       "    .dataframe tbody tr th {\n",
       "        vertical-align: top;\n",
       "    }\n",
       "\n",
       "    .dataframe thead th {\n",
       "        text-align: right;\n",
       "    }\n",
       "</style>\n",
       "<table border=\"1\" class=\"dataframe\">\n",
       "  <thead>\n",
       "    <tr style=\"text-align: right;\">\n",
       "      <th></th>\n",
       "      <th>start</th>\n",
       "      <th>duration</th>\n",
       "      <th>confidence</th>\n",
       "      <th>loudness_start</th>\n",
       "      <th>loudness_max_time</th>\n",
       "      <th>loudness_max</th>\n",
       "      <th>loudness_end</th>\n",
       "      <th>pitches</th>\n",
       "      <th>timbre</th>\n",
       "    </tr>\n",
       "  </thead>\n",
       "  <tbody>\n",
       "    <tr>\n",
       "      <th>0</th>\n",
       "      <td>0.00000</td>\n",
       "      <td>0.11134</td>\n",
       "      <td>0.0</td>\n",
       "      <td>-60.000</td>\n",
       "      <td>0.00000</td>\n",
       "      <td>-60.000</td>\n",
       "      <td>0.0</td>\n",
       "      <td>[1.0, 0.725, 0.337, 0.371, 0.431, 0.408, 0.569...</td>\n",
       "      <td>[0.05, 169.954, 8.395, -29.988, 56.787, -50.22...</td>\n",
       "    </tr>\n",
       "    <tr>\n",
       "      <th>1</th>\n",
       "      <td>0.11134</td>\n",
       "      <td>0.84522</td>\n",
       "      <td>1.0</td>\n",
       "      <td>-60.000</td>\n",
       "      <td>0.05445</td>\n",
       "      <td>-19.323</td>\n",
       "      <td>0.0</td>\n",
       "      <td>[0.038, 0.03, 0.006, 0.01, 0.101, 0.013, 0.034...</td>\n",
       "      <td>[33.644, -23.384, -74.375, 34.627, 18.404, 63....</td>\n",
       "    </tr>\n",
       "    <tr>\n",
       "      <th>2</th>\n",
       "      <td>0.95655</td>\n",
       "      <td>0.57519</td>\n",
       "      <td>1.0</td>\n",
       "      <td>-34.527</td>\n",
       "      <td>0.04297</td>\n",
       "      <td>-15.601</td>\n",
       "      <td>0.0</td>\n",
       "      <td>[0.099, 0.042, 0.018, 0.017, 0.124, 0.028, 0.1...</td>\n",
       "      <td>[40.11, 5.728, -22.954, 30.254, 10.283, -4.349...</td>\n",
       "    </tr>\n",
       "  </tbody>\n",
       "</table>\n",
       "</div>"
      ],
      "text/plain": [
       "     start  duration  confidence  loudness_start  loudness_max_time  \\\n",
       "0  0.00000   0.11134         0.0         -60.000            0.00000   \n",
       "1  0.11134   0.84522         1.0         -60.000            0.05445   \n",
       "2  0.95655   0.57519         1.0         -34.527            0.04297   \n",
       "\n",
       "   loudness_max  loudness_end  \\\n",
       "0       -60.000           0.0   \n",
       "1       -19.323           0.0   \n",
       "2       -15.601           0.0   \n",
       "\n",
       "                                             pitches  \\\n",
       "0  [1.0, 0.725, 0.337, 0.371, 0.431, 0.408, 0.569...   \n",
       "1  [0.038, 0.03, 0.006, 0.01, 0.101, 0.013, 0.034...   \n",
       "2  [0.099, 0.042, 0.018, 0.017, 0.124, 0.028, 0.1...   \n",
       "\n",
       "                                              timbre  \n",
       "0  [0.05, 169.954, 8.395, -29.988, 56.787, -50.22...  \n",
       "1  [33.644, -23.384, -74.375, 34.627, 18.404, 63....  \n",
       "2  [40.11, 5.728, -22.954, 30.254, 10.283, -4.349...  "
      ]
     },
     "execution_count": 7,
     "metadata": {},
     "output_type": "execute_result"
    }
   ],
   "source": [
    "pd.DataFrame(sp.audio_analysis('spotify:track:63OQupATfueTdZMWTxW03A')['segments'][0:3])"
   ]
  },
  {
   "cell_type": "markdown",
   "id": "6489b753-adc5-4f52-8b0e-5c9944dd0a89",
   "metadata": {},
   "source": [
    "Now that we know what we are looking for and how to obtain it, we will move on to the next step where I will show you how to create the timbre model."
   ]
  }
 ],
 "metadata": {
  "kernelspec": {
   "display_name": "Python 3 (ipykernel)",
   "language": "python",
   "name": "python3"
  },
  "language_info": {
   "codemirror_mode": {
    "name": "ipython",
    "version": 3
   },
   "file_extension": ".py",
   "mimetype": "text/x-python",
   "name": "python",
   "nbconvert_exporter": "python",
   "pygments_lexer": "ipython3",
   "version": "3.12.3"
  }
 },
 "nbformat": 4,
 "nbformat_minor": 5
}
