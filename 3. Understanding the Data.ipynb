{
 "cells": [
  {
   "cell_type": "markdown",
   "id": "297391d2-b508-4517-a808-9bf0219c3e65",
   "metadata": {},
   "source": [
    "<h1>Understanding the Data</h1>\n",
    "This notebook reviews the audio attributes available from Spotify and how to retrieve them. I also provide an explanation as to why I chose to utilize the audio feature <b>timbre</b> for this project."
   ]
  },
  {
   "cell_type": "markdown",
   "id": "0709fde2-57d2-4221-8f1e-6615b6be35f1",
   "metadata": {},
   "source": [
    "----"
   ]
  },
  {
   "cell_type": "markdown",
   "id": "b79934c4-c45f-48a9-83f8-45a30a6f61c0",
   "metadata": {},
   "source": [
    "<h2>Prerequisites</h2>\n",
    "<ol>\n",
    "<li><a href = 'https://nbviewer.org/github/JonYarber/music_modeling/blob/main/1.%20Setting%20Up%20the%20API%20Connection.ipynb'>Setting Up the API Connection</a></li>\n",
    "<li><a href = 'https://nbviewer.org/github/JonYarber/music_modeling/blob/main/2.%20Using%20the%20Spotify%20API.ipynb'>Using the Spotify API</a></li>\n",
    "</ol>"
   ]
  },
  {
   "cell_type": "markdown",
   "id": "5f48bd07-e9fc-4dde-a845-1c5c936a6279",
   "metadata": {},
   "source": [
    "---"
   ]
  },
  {
   "cell_type": "markdown",
   "id": "c6821253-a8b0-4cb7-98d8-c86d9359b236",
   "metadata": {},
   "source": [
    "<h2>Audio Features</h2>\n",
    "Audio features are attributes of a song such as tempo, loudness, danceability, etc. A breakdown of each of the 13 audio features and their definitions can be found on <a href = 'https://developer.spotify.com/documentation/web-api/reference/get-audio-features'>Spotify's Developer Site</a>. \n",
    "This project does not utilize any of the audio features, but I have used them on another project and can say they are a great, fun, and easy way to start to dive into musical attribute analyses.<br>\n",
    "Even though we are not using them, we will still see how to retrieve the audio features using the Spotipy API."
   ]
  },
  {
   "cell_type": "markdown",
   "id": "d8073ae0-cf8e-4a69-8f28-008c85fe0721",
   "metadata": {},
   "source": [
    "<h4>Connect to Spotify Using Spotipy</h4>\n",
    "Let's create a function that will conveniently get us connected to the Spotify API using the method outlined in the <a href = 'https://nbviewer.org/github/JonYarber/music_modeling/blob/main/1.%20Setting%20Up%20the%20API%20Connection.ipynb'>Setting up the API Connection</a>."
   ]
  },
  {
   "cell_type": "code",
   "execution_count": 4,
   "id": "50bf5dd4-66ad-4963-acd2-33a0f668340a",
   "metadata": {},
   "outputs": [],
   "source": [
    "import spotipy\n",
    "from spotipy.oauth2 import SpotifyClientCredentials\n",
    "\n",
    "def connect_to_spotify():\n",
    "    sp_client_id = input(\"Enter your Spotify Client ID: \")\n",
    "    sp_client_secret = input(\"Enter your Spotify Secret Token: \")\n",
    "    \n",
    "    credentials = SpotifyClientCredentials(client_id = sp_client_id,\n",
    "                                           client_secret = sp_client_secret)\n",
    "    \n",
    "    sp = spotipy.Spotify(client_credentials_manager = credentials)\n",
    "    \n",
    "    print(\"Connected to Spotify!\")\n",
    "\n",
    "    return sp"
   ]
  },
  {
   "cell_type": "code",
   "execution_count": 5,
   "id": "c5462469-b9dc-488e-b10b-97619822f969",
   "metadata": {},
   "outputs": [
    {
     "name": "stdin",
     "output_type": "stream",
     "text": [
      "Enter your Spotify Client ID:  ed9307841d3542df8819aec9a4f0ec84\n",
      "Enter your Spotify Secret Token:  8208717955574be6a24163ed59675094\n"
     ]
    },
    {
     "name": "stdout",
     "output_type": "stream",
     "text": [
      "Connected to Spotify!\n"
     ]
    }
   ],
   "source": [
    "sp = connect_to_spotify()"
   ]
  },
  {
   "cell_type": "markdown",
   "id": "19ea52b0-1777-46a3-89e9-585cf277d465",
   "metadata": {},
   "source": [
    "<h4>Find Track URI</h4>\n",
    "Using the method outlined in <a href='https://nbviewer.org/github/JonYarber/music_modeling/blob/main/2.%20Using%20the%20Spotify%20API%20.ipynb'>Using the Spotify API</a>, let's create a function that will take an artist and song name and return the track URI."
   ]
  },
  {
   "cell_type": "code",
   "execution_count": 7,
   "id": "9deeed09-0b22-4076-93aa-88b65d44ac3a",
   "metadata": {},
   "outputs": [],
   "source": [
    "def get_uri():\n",
    "\n",
    "    artist = input(\"Input artist name: \")\n",
    "    track = input(\"Input song name: \")\n",
    "\n",
    "    search_term = f'artist:{artist} track:{track}'\n",
    "\n",
    "    result = sp.search(search_term, type = 'track', limit = 1)['tracks']['items'][0]\n",
    "\n",
    "    track_uri = result['uri']\n",
    "    artist_name = result['artists'][0]['name']\n",
    "    track_name = result['name']\n",
    "\n",
    "    print(f'\\nTrack name: {track_name}')\n",
    "    print(f'Artist name: {artist_name}')\n",
    "    print(f'Track URI: {track_uri}')\n",
    "\n",
    "    return track_uri"
   ]
  },
  {
   "cell_type": "markdown",
   "id": "1fea7dbf-0e94-4e1a-8e16-ec5eacd4615a",
   "metadata": {},
   "source": [
    "<br>\n",
    "For this example, we will use the song <i>Karma Police</i> by Radiohead."
   ]
  },
  {
   "cell_type": "code",
   "execution_count": 8,
   "id": "d803629c-36e9-423a-addb-75a7bd829877",
   "metadata": {},
   "outputs": [
    {
     "name": "stdin",
     "output_type": "stream",
     "text": [
      "Input artist name:  Radiohead\n",
      "Input song name:  Karma Police\n"
     ]
    },
    {
     "name": "stdout",
     "output_type": "stream",
     "text": [
      "\n",
      "Track name: Karma Police\n",
      "Artist name: Radiohead\n",
      "Track URI: spotify:track:63OQupATfueTdZMWTxW03A\n"
     ]
    }
   ],
   "source": [
    "track_uri = get_uri()"
   ]
  },
  {
   "cell_type": "markdown",
   "id": "0001ce0e-5a8c-446a-873f-4dcc4d4eab90",
   "metadata": {},
   "source": [
    "<h4>Retrieve Audio Features</h4>\n",
    "Next, we use the track URI to retrieve the audio features. The spotipy object, <b>sp</b>, has a built-in method for this, <b>audio_features</b>.\n",
    "<br>The only required parameter for <b>audio_features</b> is the track URI."
   ]
  },
  {
   "cell_type": "code",
   "execution_count": 9,
   "id": "e591586e-ede5-4853-bc1b-ba75983a828a",
   "metadata": {},
   "outputs": [
    {
     "data": {
      "text/plain": [
       "[{'danceability': 0.36,\n",
       "  'energy': 0.501,\n",
       "  'key': 7,\n",
       "  'loudness': -9.129,\n",
       "  'mode': 1,\n",
       "  'speechiness': 0.0258,\n",
       "  'acousticness': 0.0638,\n",
       "  'instrumentalness': 9.32e-05,\n",
       "  'liveness': 0.172,\n",
       "  'valence': 0.324,\n",
       "  'tempo': 74.807,\n",
       "  'type': 'audio_features',\n",
       "  'id': '63OQupATfueTdZMWTxW03A',\n",
       "  'uri': 'spotify:track:63OQupATfueTdZMWTxW03A',\n",
       "  'track_href': 'https://api.spotify.com/v1/tracks/63OQupATfueTdZMWTxW03A',\n",
       "  'analysis_url': 'https://api.spotify.com/v1/audio-analysis/63OQupATfueTdZMWTxW03A',\n",
       "  'duration_ms': 264067,\n",
       "  'time_signature': 4}]"
      ]
     },
     "execution_count": 9,
     "metadata": {},
     "output_type": "execute_result"
    }
   ],
   "source": [
    "# Use the track URI to retrieve audio features\n",
    "audio_features = sp.audio_features(track_uri)\n",
    "\n",
    "audio_features"
   ]
  },
  {
   "cell_type": "markdown",
   "id": "f13c504f-9f71-4200-aa79-d59aacef14e1",
   "metadata": {},
   "source": [
    "<h4>Building an Audio Feature DataFrame</h4>\n",
    "Finally, if desired we can use the result above to make a nice dataframe for analyses and visuals."
   ]
  },
  {
   "cell_type": "code",
   "execution_count": 4,
   "id": "150ccc2c-8771-4854-83d8-fd11546fc61d",
   "metadata": {},
   "outputs": [
    {
     "data": {
      "text/html": [
       "<div>\n",
       "<style scoped>\n",
       "    .dataframe tbody tr th:only-of-type {\n",
       "        vertical-align: middle;\n",
       "    }\n",
       "\n",
       "    .dataframe tbody tr th {\n",
       "        vertical-align: top;\n",
       "    }\n",
       "\n",
       "    .dataframe thead th {\n",
       "        text-align: right;\n",
       "    }\n",
       "</style>\n",
       "<table border=\"1\" class=\"dataframe\">\n",
       "  <thead>\n",
       "    <tr style=\"text-align: right;\">\n",
       "      <th></th>\n",
       "      <th>danceability</th>\n",
       "      <th>energy</th>\n",
       "      <th>key</th>\n",
       "      <th>loudness</th>\n",
       "      <th>mode</th>\n",
       "      <th>speechiness</th>\n",
       "      <th>acousticness</th>\n",
       "      <th>instrumentalness</th>\n",
       "      <th>liveness</th>\n",
       "      <th>valence</th>\n",
       "      <th>tempo</th>\n",
       "      <th>duration_ms</th>\n",
       "      <th>time_signature</th>\n",
       "    </tr>\n",
       "  </thead>\n",
       "  <tbody>\n",
       "    <tr>\n",
       "      <th>0</th>\n",
       "      <td>0.36</td>\n",
       "      <td>0.501</td>\n",
       "      <td>7</td>\n",
       "      <td>-9.129</td>\n",
       "      <td>1</td>\n",
       "      <td>0.0258</td>\n",
       "      <td>0.0638</td>\n",
       "      <td>0.000093</td>\n",
       "      <td>0.172</td>\n",
       "      <td>0.324</td>\n",
       "      <td>74.807</td>\n",
       "      <td>264067</td>\n",
       "      <td>4</td>\n",
       "    </tr>\n",
       "  </tbody>\n",
       "</table>\n",
       "</div>"
      ],
      "text/plain": [
       "   danceability  energy  key  loudness  mode  speechiness  acousticness  \\\n",
       "0          0.36   0.501    7    -9.129     1       0.0258        0.0638   \n",
       "\n",
       "   instrumentalness  liveness  valence   tempo  duration_ms  time_signature  \n",
       "0          0.000093     0.172    0.324  74.807       264067               4  "
      ]
     },
     "execution_count": 4,
     "metadata": {},
     "output_type": "execute_result"
    }
   ],
   "source": [
    "import pandas as pd\n",
    "\n",
    "# Dropping a few unnecessary columns for readability\n",
    "audio_features_df = pd.DataFrame(audio_features).drop(['id', 'uri', 'type', 'track_href', 'analysis_url'], axis = 1)\n",
    "\n",
    "audio_features_df"
   ]
  },
  {
   "cell_type": "markdown",
   "id": "5ec07a05-8313-4b1d-a0df-254f266445f3",
   "metadata": {},
   "source": [
    "From here we can easily add the artist and song name to the dataframe using the <b>track_artist</b> and <b>track_name</b> variables from first step."
   ]
  },
  {
   "cell_type": "code",
   "execution_count": 5,
   "id": "cafb6a56-07ad-489d-8299-da854917655c",
   "metadata": {},
   "outputs": [
    {
     "data": {
      "text/html": [
       "<div>\n",
       "<style scoped>\n",
       "    .dataframe tbody tr th:only-of-type {\n",
       "        vertical-align: middle;\n",
       "    }\n",
       "\n",
       "    .dataframe tbody tr th {\n",
       "        vertical-align: top;\n",
       "    }\n",
       "\n",
       "    .dataframe thead th {\n",
       "        text-align: right;\n",
       "    }\n",
       "</style>\n",
       "<table border=\"1\" class=\"dataframe\">\n",
       "  <thead>\n",
       "    <tr style=\"text-align: right;\">\n",
       "      <th></th>\n",
       "      <th>artist</th>\n",
       "      <th>song_title</th>\n",
       "      <th>danceability</th>\n",
       "      <th>energy</th>\n",
       "      <th>key</th>\n",
       "      <th>loudness</th>\n",
       "      <th>mode</th>\n",
       "      <th>speechiness</th>\n",
       "      <th>acousticness</th>\n",
       "      <th>instrumentalness</th>\n",
       "      <th>liveness</th>\n",
       "      <th>valence</th>\n",
       "      <th>tempo</th>\n",
       "      <th>duration_ms</th>\n",
       "      <th>time_signature</th>\n",
       "    </tr>\n",
       "  </thead>\n",
       "  <tbody>\n",
       "    <tr>\n",
       "      <th>0</th>\n",
       "      <td>Radiohead</td>\n",
       "      <td>Karma Police</td>\n",
       "      <td>0.36</td>\n",
       "      <td>0.501</td>\n",
       "      <td>7</td>\n",
       "      <td>-9.129</td>\n",
       "      <td>1</td>\n",
       "      <td>0.0258</td>\n",
       "      <td>0.0638</td>\n",
       "      <td>0.000093</td>\n",
       "      <td>0.172</td>\n",
       "      <td>0.324</td>\n",
       "      <td>74.807</td>\n",
       "      <td>264067</td>\n",
       "      <td>4</td>\n",
       "    </tr>\n",
       "  </tbody>\n",
       "</table>\n",
       "</div>"
      ],
      "text/plain": [
       "      artist    song_title  danceability  energy  key  loudness  mode  \\\n",
       "0  Radiohead  Karma Police          0.36   0.501    7    -9.129     1   \n",
       "\n",
       "   speechiness  acousticness  instrumentalness  liveness  valence   tempo  \\\n",
       "0       0.0258        0.0638          0.000093     0.172    0.324  74.807   \n",
       "\n",
       "   duration_ms  time_signature  \n",
       "0       264067               4  "
      ]
     },
     "execution_count": 5,
     "metadata": {},
     "output_type": "execute_result"
    }
   ],
   "source": [
    "# Add previously stored artist name\n",
    "audio_features_df.insert(0, 'artist', track_artist)\n",
    "\n",
    "# Add previously stored track name\n",
    "audio_features_df.insert(1, 'song_title', track_name)\n",
    "\n",
    "# Final result\n",
    "audio_features_df"
   ]
  },
  {
   "cell_type": "markdown",
   "id": "839f9d3f-e5a8-4fa8-a7cb-d50587222d70",
   "metadata": {},
   "source": [
    "<br>\n",
    "With that we have a template by which we can build out a dataframe or dataframes! Again, we're not using this on this particular project, but it is a fun and easy share."
   ]
  },
  {
   "cell_type": "markdown",
   "id": "8d060817-7f2a-4bd5-8d25-c745fcdd5b13",
   "metadata": {},
   "source": [
    "---"
   ]
  },
  {
   "cell_type": "markdown",
   "id": "17a47fea-3145-4c54-8679-702537c7d25c",
   "metadata": {},
   "source": [
    "<h2>Audio Analysis</h2>\n",
    "By comparison, the audio analysis provides a breakdown of a song's <i>rhythm</i>, <i>pitch</i>, and <i>timbre</i>. <br>\n",
    "<br>\n",
    "For this project, we will instead be using Spotify's audio analysis. According to <a href ='https://developer.spotify.com/documentation/web-api/reference/get-audio-analysis'>Spotify Developer's Site</a>, the audio analysis describes a track's musical structure, including rhythm, pitch, and <u><b>timbre</i></u>. Let's look closer at the latter two:<br>\n"
   ]
  },
  {
   "cell_type": "code",
   "execution_count": 39,
   "id": "fe127891-13f3-483b-b20a-3480b81e1076",
   "metadata": {},
   "outputs": [
    {
     "data": {
      "text/html": [
       "<div>\n",
       "<style scoped>\n",
       "    .dataframe tbody tr th:only-of-type {\n",
       "        vertical-align: middle;\n",
       "    }\n",
       "\n",
       "    .dataframe tbody tr th {\n",
       "        vertical-align: top;\n",
       "    }\n",
       "\n",
       "    .dataframe thead th {\n",
       "        text-align: right;\n",
       "    }\n",
       "</style>\n",
       "<table border=\"1\" class=\"dataframe\">\n",
       "  <thead>\n",
       "    <tr style=\"text-align: right;\">\n",
       "      <th></th>\n",
       "      <th>start</th>\n",
       "      <th>duration</th>\n",
       "      <th>confidence</th>\n",
       "      <th>loudness_start</th>\n",
       "      <th>loudness_max_time</th>\n",
       "      <th>loudness_max</th>\n",
       "      <th>loudness_end</th>\n",
       "      <th>pitches</th>\n",
       "      <th>timbre</th>\n",
       "    </tr>\n",
       "  </thead>\n",
       "  <tbody>\n",
       "    <tr>\n",
       "      <th>0</th>\n",
       "      <td>0.00000</td>\n",
       "      <td>0.11134</td>\n",
       "      <td>0.000</td>\n",
       "      <td>-60.000</td>\n",
       "      <td>0.00000</td>\n",
       "      <td>-60.000</td>\n",
       "      <td>0.0</td>\n",
       "      <td>[1.0, 0.725, 0.337, 0.371, 0.431, 0.408, 0.569...</td>\n",
       "      <td>[0.05, 169.954, 8.395, -29.988, 56.787, -50.22...</td>\n",
       "    </tr>\n",
       "    <tr>\n",
       "      <th>1</th>\n",
       "      <td>0.11134</td>\n",
       "      <td>0.84522</td>\n",
       "      <td>1.000</td>\n",
       "      <td>-60.000</td>\n",
       "      <td>0.05445</td>\n",
       "      <td>-19.323</td>\n",
       "      <td>0.0</td>\n",
       "      <td>[0.038, 0.03, 0.006, 0.01, 0.101, 0.013, 0.034...</td>\n",
       "      <td>[33.644, -23.384, -74.375, 34.627, 18.404, 63....</td>\n",
       "    </tr>\n",
       "    <tr>\n",
       "      <th>2</th>\n",
       "      <td>0.95655</td>\n",
       "      <td>0.57519</td>\n",
       "      <td>1.000</td>\n",
       "      <td>-34.527</td>\n",
       "      <td>0.04297</td>\n",
       "      <td>-15.601</td>\n",
       "      <td>0.0</td>\n",
       "      <td>[0.099, 0.042, 0.018, 0.017, 0.124, 0.028, 0.1...</td>\n",
       "      <td>[40.11, 5.728, -22.954, 30.254, 10.283, -4.349...</td>\n",
       "    </tr>\n",
       "    <tr>\n",
       "      <th>3</th>\n",
       "      <td>1.53175</td>\n",
       "      <td>0.23787</td>\n",
       "      <td>0.696</td>\n",
       "      <td>-29.430</td>\n",
       "      <td>0.10532</td>\n",
       "      <td>-22.314</td>\n",
       "      <td>0.0</td>\n",
       "      <td>[0.135, 0.064, 0.053, 0.038, 0.17, 0.044, 0.11...</td>\n",
       "      <td>[34.347, -6.78, 5.479, -62.715, 3.666, -8.412,...</td>\n",
       "    </tr>\n",
       "    <tr>\n",
       "      <th>4</th>\n",
       "      <td>1.76961</td>\n",
       "      <td>0.44463</td>\n",
       "      <td>0.447</td>\n",
       "      <td>-26.881</td>\n",
       "      <td>0.03024</td>\n",
       "      <td>-20.798</td>\n",
       "      <td>0.0</td>\n",
       "      <td>[0.032, 0.084, 0.02, 0.024, 0.056, 0.214, 1.0,...</td>\n",
       "      <td>[33.805, -53.703, -75.956, 43.627, -25.619, -4...</td>\n",
       "    </tr>\n",
       "  </tbody>\n",
       "</table>\n",
       "</div>"
      ],
      "text/plain": [
       "     start  duration  confidence  loudness_start  loudness_max_time  \\\n",
       "0  0.00000   0.11134       0.000         -60.000            0.00000   \n",
       "1  0.11134   0.84522       1.000         -60.000            0.05445   \n",
       "2  0.95655   0.57519       1.000         -34.527            0.04297   \n",
       "3  1.53175   0.23787       0.696         -29.430            0.10532   \n",
       "4  1.76961   0.44463       0.447         -26.881            0.03024   \n",
       "\n",
       "   loudness_max  loudness_end  \\\n",
       "0       -60.000           0.0   \n",
       "1       -19.323           0.0   \n",
       "2       -15.601           0.0   \n",
       "3       -22.314           0.0   \n",
       "4       -20.798           0.0   \n",
       "\n",
       "                                             pitches  \\\n",
       "0  [1.0, 0.725, 0.337, 0.371, 0.431, 0.408, 0.569...   \n",
       "1  [0.038, 0.03, 0.006, 0.01, 0.101, 0.013, 0.034...   \n",
       "2  [0.099, 0.042, 0.018, 0.017, 0.124, 0.028, 0.1...   \n",
       "3  [0.135, 0.064, 0.053, 0.038, 0.17, 0.044, 0.11...   \n",
       "4  [0.032, 0.084, 0.02, 0.024, 0.056, 0.214, 1.0,...   \n",
       "\n",
       "                                              timbre  \n",
       "0  [0.05, 169.954, 8.395, -29.988, 56.787, -50.22...  \n",
       "1  [33.644, -23.384, -74.375, 34.627, 18.404, 63....  \n",
       "2  [40.11, 5.728, -22.954, 30.254, 10.283, -4.349...  \n",
       "3  [34.347, -6.78, 5.479, -62.715, 3.666, -8.412,...  \n",
       "4  [33.805, -53.703, -75.956, 43.627, -25.619, -4...  "
      ]
     },
     "execution_count": 39,
     "metadata": {},
     "output_type": "execute_result"
    }
   ],
   "source": [
    "track_analysis_df = pd.DataFrame(sp.audio_analysis('spotify:track:63OQupATfueTdZMWTxW03A')['segments'])\n",
    "\n",
    "track_analysis_df.head()"
   ]
  },
  {
   "cell_type": "markdown",
   "id": "e3dbe996-a070-4032-802a-a2485c6602e8",
   "metadata": {},
   "source": [
    "<h3>Pitch</h3>\n",
    "Imagine hitting a key on a piano. When you strike the key, the piano produces a sound wave which you perceive as the note played, say C. Now, imagine playing a different C key on the piano. It will sound the same but the note will be higher or lower depending on which C you played. That's pitch. Pitch is simply how high or low a note sounds. A higher pitch produces a sound wave with a shorter wavelength which results in a higher note while a lower pitch produces a sound wave with a longer wavelength resulting in a lower note.<br>\n",
    "There are 12 pitch classes, or semitones, in Western Music: C, C#, D, D#, E, F, F#, G, G#, A, A#, B. When we examine the individual song segments of the audio analysis, each one of these semitones is evaluated on a scale of 0 to 1 which represents how prevalent the pitch is in that segment. Let's use the audio analysis of our song as an example."
   ]
  },
  {
   "cell_type": "markdown",
   "id": "d1c019c6-a08d-43c8-b7de-7bca54ca46d5",
   "metadata": {},
   "source": [
    "<h4>Examine the pitches of the first 5 segments</h4>\n",
    "We will need to use this again later on, so we will create a function for this method."
   ]
  },
  {
   "cell_type": "code",
   "execution_count": 63,
   "id": "f69ddafb-da81-4ed4-92c7-8bd01cb56930",
   "metadata": {},
   "outputs": [
    {
     "data": {
      "text/html": [
       "<div>\n",
       "<style scoped>\n",
       "    .dataframe tbody tr th:only-of-type {\n",
       "        vertical-align: middle;\n",
       "    }\n",
       "\n",
       "    .dataframe tbody tr th {\n",
       "        vertical-align: top;\n",
       "    }\n",
       "\n",
       "    .dataframe thead th {\n",
       "        text-align: right;\n",
       "    }\n",
       "</style>\n",
       "<table border=\"1\" class=\"dataframe\">\n",
       "  <thead>\n",
       "    <tr style=\"text-align: right;\">\n",
       "      <th></th>\n",
       "      <th>duration</th>\n",
       "      <th>C</th>\n",
       "      <th>C#</th>\n",
       "      <th>D</th>\n",
       "      <th>D#</th>\n",
       "      <th>E</th>\n",
       "      <th>F</th>\n",
       "      <th>F#</th>\n",
       "      <th>G</th>\n",
       "      <th>G#</th>\n",
       "      <th>A</th>\n",
       "      <th>A#</th>\n",
       "      <th>B</th>\n",
       "    </tr>\n",
       "  </thead>\n",
       "  <tbody>\n",
       "    <tr>\n",
       "      <th>0</th>\n",
       "      <td>0.11134</td>\n",
       "      <td>1.000</td>\n",
       "      <td>0.725</td>\n",
       "      <td>0.337</td>\n",
       "      <td>0.371</td>\n",
       "      <td>0.431</td>\n",
       "      <td>0.408</td>\n",
       "      <td>0.569</td>\n",
       "      <td>0.603</td>\n",
       "      <td>0.690</td>\n",
       "      <td>0.674</td>\n",
       "      <td>0.686</td>\n",
       "      <td>0.120</td>\n",
       "    </tr>\n",
       "    <tr>\n",
       "      <th>1</th>\n",
       "      <td>0.84522</td>\n",
       "      <td>0.038</td>\n",
       "      <td>0.030</td>\n",
       "      <td>0.006</td>\n",
       "      <td>0.010</td>\n",
       "      <td>0.101</td>\n",
       "      <td>0.013</td>\n",
       "      <td>0.034</td>\n",
       "      <td>0.048</td>\n",
       "      <td>0.031</td>\n",
       "      <td>1.000</td>\n",
       "      <td>0.042</td>\n",
       "      <td>0.016</td>\n",
       "    </tr>\n",
       "    <tr>\n",
       "      <th>2</th>\n",
       "      <td>0.57519</td>\n",
       "      <td>0.099</td>\n",
       "      <td>0.042</td>\n",
       "      <td>0.018</td>\n",
       "      <td>0.017</td>\n",
       "      <td>0.124</td>\n",
       "      <td>0.028</td>\n",
       "      <td>0.121</td>\n",
       "      <td>0.221</td>\n",
       "      <td>0.070</td>\n",
       "      <td>1.000</td>\n",
       "      <td>0.063</td>\n",
       "      <td>0.053</td>\n",
       "    </tr>\n",
       "    <tr>\n",
       "      <th>3</th>\n",
       "      <td>0.23787</td>\n",
       "      <td>0.135</td>\n",
       "      <td>0.064</td>\n",
       "      <td>0.053</td>\n",
       "      <td>0.038</td>\n",
       "      <td>0.170</td>\n",
       "      <td>0.044</td>\n",
       "      <td>0.116</td>\n",
       "      <td>0.127</td>\n",
       "      <td>0.149</td>\n",
       "      <td>1.000</td>\n",
       "      <td>0.248</td>\n",
       "      <td>0.035</td>\n",
       "    </tr>\n",
       "    <tr>\n",
       "      <th>4</th>\n",
       "      <td>0.44463</td>\n",
       "      <td>0.032</td>\n",
       "      <td>0.084</td>\n",
       "      <td>0.020</td>\n",
       "      <td>0.024</td>\n",
       "      <td>0.056</td>\n",
       "      <td>0.214</td>\n",
       "      <td>1.000</td>\n",
       "      <td>0.139</td>\n",
       "      <td>0.029</td>\n",
       "      <td>0.032</td>\n",
       "      <td>0.022</td>\n",
       "      <td>0.013</td>\n",
       "    </tr>\n",
       "  </tbody>\n",
       "</table>\n",
       "</div>"
      ],
      "text/plain": [
       "   duration      C     C#      D     D#      E      F     F#      G     G#  \\\n",
       "0   0.11134  1.000  0.725  0.337  0.371  0.431  0.408  0.569  0.603  0.690   \n",
       "1   0.84522  0.038  0.030  0.006  0.010  0.101  0.013  0.034  0.048  0.031   \n",
       "2   0.57519  0.099  0.042  0.018  0.017  0.124  0.028  0.121  0.221  0.070   \n",
       "3   0.23787  0.135  0.064  0.053  0.038  0.170  0.044  0.116  0.127  0.149   \n",
       "4   0.44463  0.032  0.084  0.020  0.024  0.056  0.214  1.000  0.139  0.029   \n",
       "\n",
       "       A     A#      B  \n",
       "0  0.674  0.686  0.120  \n",
       "1  1.000  0.042  0.016  \n",
       "2  1.000  0.063  0.053  \n",
       "3  1.000  0.248  0.035  \n",
       "4  0.032  0.022  0.013  "
      ]
     },
     "execution_count": 63,
     "metadata": {},
     "output_type": "execute_result"
    }
   ],
   "source": [
    "def create_pitch_df(uri):\n",
    "\n",
    "    # Create the audio analysis dataframe\n",
    "    audio_analysis_df = pd.DataFrame(sp.audio_analysis(uri)['segments'])\n",
    "    \n",
    "    # Create a list of the 12 pitch classes\n",
    "    semitones = ['C', 'C#', 'D', 'D#', 'E', 'F', 'F#', 'G', 'G#', 'A', 'A#', 'B']\n",
    "\n",
    "    # Create a pitch dataframe \n",
    "    pitch_df = audio_analysis_df[['duration', 'pitches']].copy()\n",
    "\n",
    "    # Expand the pitches and label by class\n",
    "    for i in range(12):\n",
    "        pitch_df[semitones[i]] = pitch_df['pitches'].apply(lambda x: x[i])\n",
    "\n",
    "    # Drop the pitches column\n",
    "    pitch_df.drop(['pitches'], axis = 1, inplace = True)\n",
    "\n",
    "    return pitch_df\n",
    "\n",
    "\n",
    "# Radiohead Karma Police Pitch DF\n",
    "rh_kp_pitch_df = create_pitch_df(track_uri)\n",
    "\n",
    "rh_kp_pitch_df.head(5)"
   ]
  },
  {
   "cell_type": "markdown",
   "id": "674dfd65-a7fc-449f-a4bb-12fec9b0f186",
   "metadata": {},
   "source": [
    "According to the documentation, pitches are normalized to 1 by their strongest dimension. Looking at the dataframe above we see the prevalent first 5 notes are C, A, A, A, F#.<br>\n",
    "<br>\n",
    "Like the audio features, I've seen a ton of work done with this data. However, it still doesn't quite fit what we're after. <i><b>Why?</b></i> Even though they can produce the same pitch, a note played on a piano will obviously sound different than the same note played on, say, a guitar. What element creates that distinction? <b>Timbre</b>."
   ]
  },
  {
   "cell_type": "markdown",
   "id": "7bb859f5-ba2a-4b7d-9f70-d7be22303776",
   "metadata": {},
   "source": [
    "<h3>Timbre</h3>\n",
    "Timbre (pronounced tam-ber) is the color of music. It describes the tone color and tone quality of music. I personally like to describe it as how a song feels. The best way to think about timbre is to imagine two people, a man and a woman, singing the <i>exact</i> same notes at the exact same pitch. They will produce all the same musical attributes, but they will obviously not sound the same. That's timbre.<br>\n",
    "I chose timbre for this project because to me this is why we prefer particular songs to others. Rhythm may play some part in it as some people may prefer slow songs to more upbeat songs or maybe even prefer some keys to others, but there are still distinctions between the slow songs in the same key and that distinction lies in the timbre. \n",
    "Looking at a 3D model of timbre, then, means we are looking at how a song <i>feels</i>. That's exactly what we are after.<br>\n",
    "Furthermore, it will be timbre that will help us find songs that sound like one another when we build our deep learning model. Look no further than the <a href='https://developer.spotify.com/documentation/web-api/reference/get-audio-analysis'>audio analysis documentation on Spotify's Developer Site</a> on timbre for verification of this: <i>\"Timbre vectors are best used in comparison with each another.\"</i>"
   ]
  },
  {
   "cell_type": "markdown",
   "id": "3abc3c8c-ba4c-434a-b2b1-f36ee5a46e07",
   "metadata": {},
   "source": [
    "<h4>A quick look at timbre values</h4>\n",
    "We will see a lot more of this in the next notebook, <a href='https://nbviewer.org/github/JonYarber/music_modeling/blob/main/4.%20Creating%20a%203D%20Music%20Model.ipynb'>Creating a 3D Music Model</a>."
   ]
  },
  {
   "cell_type": "code",
   "execution_count": 62,
   "id": "c4e9f5b7-ccab-4187-a7be-c17ae658113e",
   "metadata": {},
   "outputs": [
    {
     "data": {
      "text/html": [
       "<div>\n",
       "<style scoped>\n",
       "    .dataframe tbody tr th:only-of-type {\n",
       "        vertical-align: middle;\n",
       "    }\n",
       "\n",
       "    .dataframe tbody tr th {\n",
       "        vertical-align: top;\n",
       "    }\n",
       "\n",
       "    .dataframe thead th {\n",
       "        text-align: right;\n",
       "    }\n",
       "</style>\n",
       "<table border=\"1\" class=\"dataframe\">\n",
       "  <thead>\n",
       "    <tr style=\"text-align: right;\">\n",
       "      <th></th>\n",
       "      <th>duration</th>\n",
       "      <th>timbre_1</th>\n",
       "      <th>timbre_2</th>\n",
       "      <th>timbre_3</th>\n",
       "      <th>timbre_4</th>\n",
       "      <th>timbre_5</th>\n",
       "      <th>timbre_6</th>\n",
       "      <th>timbre_7</th>\n",
       "      <th>timbre_8</th>\n",
       "      <th>timbre_9</th>\n",
       "      <th>timbre_10</th>\n",
       "      <th>timbre_11</th>\n",
       "      <th>timbre_12</th>\n",
       "    </tr>\n",
       "  </thead>\n",
       "  <tbody>\n",
       "    <tr>\n",
       "      <th>0</th>\n",
       "      <td>0.11134</td>\n",
       "      <td>0.050</td>\n",
       "      <td>169.954</td>\n",
       "      <td>8.395</td>\n",
       "      <td>-29.988</td>\n",
       "      <td>56.787</td>\n",
       "      <td>-50.228</td>\n",
       "      <td>14.894</td>\n",
       "      <td>3.851</td>\n",
       "      <td>-27.467</td>\n",
       "      <td>0.920</td>\n",
       "      <td>-10.538</td>\n",
       "      <td>-6.641</td>\n",
       "    </tr>\n",
       "    <tr>\n",
       "      <th>1</th>\n",
       "      <td>0.84522</td>\n",
       "      <td>33.644</td>\n",
       "      <td>-23.384</td>\n",
       "      <td>-74.375</td>\n",
       "      <td>34.627</td>\n",
       "      <td>18.404</td>\n",
       "      <td>63.062</td>\n",
       "      <td>7.419</td>\n",
       "      <td>-30.435</td>\n",
       "      <td>-15.794</td>\n",
       "      <td>48.255</td>\n",
       "      <td>36.766</td>\n",
       "      <td>-8.482</td>\n",
       "    </tr>\n",
       "    <tr>\n",
       "      <th>2</th>\n",
       "      <td>0.57519</td>\n",
       "      <td>40.110</td>\n",
       "      <td>5.728</td>\n",
       "      <td>-22.954</td>\n",
       "      <td>30.254</td>\n",
       "      <td>10.283</td>\n",
       "      <td>-4.349</td>\n",
       "      <td>-4.717</td>\n",
       "      <td>-0.904</td>\n",
       "      <td>-1.862</td>\n",
       "      <td>-9.790</td>\n",
       "      <td>-17.182</td>\n",
       "      <td>5.178</td>\n",
       "    </tr>\n",
       "    <tr>\n",
       "      <th>3</th>\n",
       "      <td>0.23787</td>\n",
       "      <td>34.347</td>\n",
       "      <td>-6.780</td>\n",
       "      <td>5.479</td>\n",
       "      <td>-62.715</td>\n",
       "      <td>3.666</td>\n",
       "      <td>-8.412</td>\n",
       "      <td>-9.065</td>\n",
       "      <td>4.048</td>\n",
       "      <td>4.949</td>\n",
       "      <td>-0.829</td>\n",
       "      <td>-11.058</td>\n",
       "      <td>0.388</td>\n",
       "    </tr>\n",
       "    <tr>\n",
       "      <th>4</th>\n",
       "      <td>0.44463</td>\n",
       "      <td>33.805</td>\n",
       "      <td>-53.703</td>\n",
       "      <td>-75.956</td>\n",
       "      <td>43.627</td>\n",
       "      <td>-25.619</td>\n",
       "      <td>-46.175</td>\n",
       "      <td>7.318</td>\n",
       "      <td>-32.674</td>\n",
       "      <td>-14.825</td>\n",
       "      <td>25.307</td>\n",
       "      <td>-9.279</td>\n",
       "      <td>18.329</td>\n",
       "    </tr>\n",
       "  </tbody>\n",
       "</table>\n",
       "</div>"
      ],
      "text/plain": [
       "   duration  timbre_1  timbre_2  timbre_3  timbre_4  timbre_5  timbre_6  \\\n",
       "0   0.11134     0.050   169.954     8.395   -29.988    56.787   -50.228   \n",
       "1   0.84522    33.644   -23.384   -74.375    34.627    18.404    63.062   \n",
       "2   0.57519    40.110     5.728   -22.954    30.254    10.283    -4.349   \n",
       "3   0.23787    34.347    -6.780     5.479   -62.715     3.666    -8.412   \n",
       "4   0.44463    33.805   -53.703   -75.956    43.627   -25.619   -46.175   \n",
       "\n",
       "   timbre_7  timbre_8  timbre_9  timbre_10  timbre_11  timbre_12  \n",
       "0    14.894     3.851   -27.467      0.920    -10.538     -6.641  \n",
       "1     7.419   -30.435   -15.794     48.255     36.766     -8.482  \n",
       "2    -4.717    -0.904    -1.862     -9.790    -17.182      5.178  \n",
       "3    -9.065     4.048     4.949     -0.829    -11.058      0.388  \n",
       "4     7.318   -32.674   -14.825     25.307     -9.279     18.329  "
      ]
     },
     "execution_count": 62,
     "metadata": {},
     "output_type": "execute_result"
    }
   ],
   "source": [
    "# Create the audio analysis dataframe\n",
    "audio_analysis_df = pd.DataFrame(sp.audio_analysis(track_uri)['segments'])\n",
    "    \n",
    "# Create a pitch dataframe \n",
    "timbre_df = audio_analysis_df[['duration', 'timbre']].copy()\n",
    "\n",
    "# Expand the timbres and label\n",
    "for i in range(12):\n",
    "    timbre_df[f'timbre_{i + 1}'] = timbre_df['timbre'].apply(lambda x: x[i])\n",
    "\n",
    "# Drop the original timbre column\n",
    "timbre_df.drop(['timbre'], axis = 1, inplace = True)\n",
    "\n",
    "# Look at first 5 timbre vectors\n",
    "timbre_df.head()"
   ]
  },
  {
   "cell_type": "markdown",
   "id": "6489b753-adc5-4f52-8b0e-5c9944dd0a89",
   "metadata": {},
   "source": [
    "Now that we know what we are looking for and how to obtain it, we will move on to the next step where I will show you how to create the 3D timbre model."
   ]
  },
  {
   "cell_type": "code",
   "execution_count": null,
   "id": "6f807a4d-dda7-4d3f-b2b5-fc928294bbab",
   "metadata": {},
   "outputs": [],
   "source": []
  }
 ],
 "metadata": {
  "kernelspec": {
   "display_name": "Python 3 (ipykernel)",
   "language": "python",
   "name": "python3"
  },
  "language_info": {
   "codemirror_mode": {
    "name": "ipython",
    "version": 3
   },
   "file_extension": ".py",
   "mimetype": "text/x-python",
   "name": "python",
   "nbconvert_exporter": "python",
   "pygments_lexer": "ipython3",
   "version": "3.12.3"
  }
 },
 "nbformat": 4,
 "nbformat_minor": 5
}
