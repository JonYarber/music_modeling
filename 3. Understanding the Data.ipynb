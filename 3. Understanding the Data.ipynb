{
 "cells": [
  {
   "cell_type": "markdown",
   "id": "297391d2-b508-4517-a808-9bf0219c3e65",
   "metadata": {},
   "source": [
    "<h1>Understanding the Data</h1>\n",
    "<br>\n",
    "Before proceeding, it is important to understand the music metrics available from Spotify and what they all mean.\n",
    "\n"
   ]
  },
  {
   "cell_type": "markdown",
   "id": "c6821253-a8b0-4cb7-98d8-c86d9359b236",
   "metadata": {},
   "source": [
    "<h2>Audio Features</h2>\n",
    "Audio features are track attributes such as tempo, loudness, danceability, etc. A comprehensive breakdown of each of the 16 audio features and their definitions can be found on <a href = 'https://developer.spotify.com/documentation/web-api/reference/get-audio-features'>Spotify's Developer Site</a>. \n",
    "This project does not utilize track audio features, but I have used them on another project and can say it is a great, fun, and easy way to start to dive into musical attribute analyses."
   ]
  },
  {
   "cell_type": "markdown",
   "id": "776c6d8f-97f6-4033-b4e1-b62e15a9e22f",
   "metadata": {},
   "source": [
    "<h3>How to View the Audio Features</h3>\n",
    "Although this project does not utilize audio features, I will provide a quick example of how to acquire them using the Spotipy API."
   ]
  },
  {
   "cell_type": "code",
   "execution_count": 14,
   "id": "65055000-c27c-4fca-b1c8-70edac3d89dc",
   "metadata": {},
   "outputs": [],
   "source": [
    "import pandas as pd\n",
    "import spotipy\n",
    "from spotipy.oauth2 import SpotifyClientCredentials"
   ]
  },
  {
   "cell_type": "code",
   "execution_count": 11,
   "id": "50bf5dd4-66ad-4963-acd2-33a0f668340a",
   "metadata": {},
   "outputs": [
    {
     "name": "stdin",
     "output_type": "stream",
     "text": [
      "Enter your Spotipy Client ID:  ab2b3366a21b4079a62dc532ab756e5e\n",
      "Enter you Spotipy Secret Key:  3b9f64d4cec3421f8d63d375fa3118f7\n"
     ]
    },
    {
     "name": "stdout",
     "output_type": "stream",
     "text": [
      "Connected to Spotify!\n"
     ]
    }
   ],
   "source": [
    "client_id = input(\"Enter your Spotipy Client ID: \")\n",
    "client_secret = input(\"Enter you Spotipy Secret Key: \")\n",
    "\n",
    "credentials = SpotifyClientCredentials(client_id = client_id,\n",
    "                                       client_secret = client_secret)\n",
    "\n",
    "sp = spotipy.Spotify(client_credentials_manager = credentials)\n",
    "\n",
    "print('Connected to Spotify!')"
   ]
  },
  {
   "cell_type": "raw",
   "id": "9027fc56-a998-48e5-ac5c-834782630d61",
   "metadata": {},
   "source": [
    "credentials = SpotifyClientCredentials(client_id = 'ab2b3366a21b4079a62dc532ab756e5e',\n",
    "                                       client_secret = '3b9f64d4cec3421f8d63d375fa3118f7')\n",
    "\n",
    "sp = spotipy.Spotify(client_credentials_manager = credentials)"
   ]
  },
  {
   "cell_type": "markdown",
   "id": "025e6cc0-cc8e-4a51-a89b-5f98e99eb77a",
   "metadata": {},
   "source": [
    "<br>For this example we will use Radiohead's Karma Police<br>\n",
    "Track URI: 63OQupATfueTdZMWTxW03A<br>\n",
    "<br>"
   ]
  },
  {
   "cell_type": "code",
   "execution_count": 12,
   "id": "9deeed09-0b22-4076-93aa-88b65d44ac3a",
   "metadata": {},
   "outputs": [
    {
     "data": {
      "text/plain": [
       "'spotify:track:63OQupATfueTdZMWTxW03A'"
      ]
     },
     "execution_count": 12,
     "metadata": {},
     "output_type": "execute_result"
    }
   ],
   "source": [
    "sp.search(f'artist:Radio Head track:Karma Police')['tracks']['items'][0]['uri']"
   ]
  },
  {
   "cell_type": "code",
   "execution_count": 16,
   "id": "e591586e-ede5-4853-bc1b-ba75983a828a",
   "metadata": {},
   "outputs": [
    {
     "data": {
      "text/plain": [
       "[{'danceability': 0.36,\n",
       "  'energy': 0.501,\n",
       "  'key': 7,\n",
       "  'loudness': -9.129,\n",
       "  'mode': 1,\n",
       "  'speechiness': 0.0258,\n",
       "  'acousticness': 0.0638,\n",
       "  'instrumentalness': 9.32e-05,\n",
       "  'liveness': 0.172,\n",
       "  'valence': 0.324,\n",
       "  'tempo': 74.807,\n",
       "  'type': 'audio_features',\n",
       "  'id': '63OQupATfueTdZMWTxW03A',\n",
       "  'uri': 'spotify:track:63OQupATfueTdZMWTxW03A',\n",
       "  'track_href': 'https://api.spotify.com/v1/tracks/63OQupATfueTdZMWTxW03A',\n",
       "  'analysis_url': 'https://api.spotify.com/v1/audio-analysis/63OQupATfueTdZMWTxW03A',\n",
       "  'duration_ms': 264067,\n",
       "  'time_signature': 4}]"
      ]
     },
     "execution_count": 16,
     "metadata": {},
     "output_type": "execute_result"
    }
   ],
   "source": [
    "sp.audio_features('63OQupATfueTdZMWTxW03A')"
   ]
  },
  {
   "cell_type": "code",
   "execution_count": null,
   "id": "372a3042-6236-40cd-9dde-1a9b7aca8dc1",
   "metadata": {},
   "outputs": [],
   "source": [
    "<h2>Audio Analysis</h2>\n",
    " "
   ]
  },
  {
   "cell_type": "code",
   "execution_count": 18,
   "id": "b4514b5a-7eb2-492e-a491-2a34679ab1f1",
   "metadata": {},
   "outputs": [
    {
     "data": {
      "text/plain": [
       "[{'start': 0.0,\n",
       "  'duration': 0.11134,\n",
       "  'confidence': 0.0,\n",
       "  'loudness_start': -60.0,\n",
       "  'loudness_max_time': 0.0,\n",
       "  'loudness_max': -60.0,\n",
       "  'loudness_end': 0.0,\n",
       "  'pitches': [1.0,\n",
       "   0.725,\n",
       "   0.337,\n",
       "   0.371,\n",
       "   0.431,\n",
       "   0.408,\n",
       "   0.569,\n",
       "   0.603,\n",
       "   0.69,\n",
       "   0.674,\n",
       "   0.686,\n",
       "   0.12],\n",
       "  'timbre': [0.05,\n",
       "   169.954,\n",
       "   8.395,\n",
       "   -29.988,\n",
       "   56.787,\n",
       "   -50.228,\n",
       "   14.894,\n",
       "   3.851,\n",
       "   -27.467,\n",
       "   0.92,\n",
       "   -10.538,\n",
       "   -6.641]},\n",
       " {'start': 0.11134,\n",
       "  'duration': 0.84522,\n",
       "  'confidence': 1.0,\n",
       "  'loudness_start': -60.0,\n",
       "  'loudness_max_time': 0.05445,\n",
       "  'loudness_max': -19.323,\n",
       "  'loudness_end': 0.0,\n",
       "  'pitches': [0.038,\n",
       "   0.03,\n",
       "   0.006,\n",
       "   0.01,\n",
       "   0.101,\n",
       "   0.013,\n",
       "   0.034,\n",
       "   0.048,\n",
       "   0.031,\n",
       "   1.0,\n",
       "   0.042,\n",
       "   0.016],\n",
       "  'timbre': [33.644,\n",
       "   -23.384,\n",
       "   -74.375,\n",
       "   34.627,\n",
       "   18.404,\n",
       "   63.062,\n",
       "   7.419,\n",
       "   -30.435,\n",
       "   -15.794,\n",
       "   48.255,\n",
       "   36.766,\n",
       "   -8.482]},\n",
       " {'start': 0.95655,\n",
       "  'duration': 0.57519,\n",
       "  'confidence': 1.0,\n",
       "  'loudness_start': -34.527,\n",
       "  'loudness_max_time': 0.04297,\n",
       "  'loudness_max': -15.601,\n",
       "  'loudness_end': 0.0,\n",
       "  'pitches': [0.099,\n",
       "   0.042,\n",
       "   0.018,\n",
       "   0.017,\n",
       "   0.124,\n",
       "   0.028,\n",
       "   0.121,\n",
       "   0.221,\n",
       "   0.07,\n",
       "   1.0,\n",
       "   0.063,\n",
       "   0.053],\n",
       "  'timbre': [40.11,\n",
       "   5.728,\n",
       "   -22.954,\n",
       "   30.254,\n",
       "   10.283,\n",
       "   -4.349,\n",
       "   -4.717,\n",
       "   -0.904,\n",
       "   -1.862,\n",
       "   -9.79,\n",
       "   -17.182,\n",
       "   5.178]}]"
      ]
     },
     "execution_count": 18,
     "metadata": {},
     "output_type": "execute_result"
    }
   ],
   "source": [
    "sp.audio_analysis('spotify:track:63OQupATfueTdZMWTxW03A')['segments'][0:3]"
   ]
  },
  {
   "cell_type": "code",
   "execution_count": 19,
   "id": "91f455c0-0958-4098-9bb1-63e2b8cbb4e0",
   "metadata": {},
   "outputs": [
    {
     "data": {
      "text/html": [
       "<div>\n",
       "<style scoped>\n",
       "    .dataframe tbody tr th:only-of-type {\n",
       "        vertical-align: middle;\n",
       "    }\n",
       "\n",
       "    .dataframe tbody tr th {\n",
       "        vertical-align: top;\n",
       "    }\n",
       "\n",
       "    .dataframe thead th {\n",
       "        text-align: right;\n",
       "    }\n",
       "</style>\n",
       "<table border=\"1\" class=\"dataframe\">\n",
       "  <thead>\n",
       "    <tr style=\"text-align: right;\">\n",
       "      <th></th>\n",
       "      <th>start</th>\n",
       "      <th>duration</th>\n",
       "      <th>confidence</th>\n",
       "      <th>loudness_start</th>\n",
       "      <th>loudness_max_time</th>\n",
       "      <th>loudness_max</th>\n",
       "      <th>loudness_end</th>\n",
       "      <th>pitches</th>\n",
       "      <th>timbre</th>\n",
       "    </tr>\n",
       "  </thead>\n",
       "  <tbody>\n",
       "    <tr>\n",
       "      <th>0</th>\n",
       "      <td>0.00000</td>\n",
       "      <td>0.11134</td>\n",
       "      <td>0.0</td>\n",
       "      <td>-60.000</td>\n",
       "      <td>0.00000</td>\n",
       "      <td>-60.000</td>\n",
       "      <td>0.0</td>\n",
       "      <td>[1.0, 0.725, 0.337, 0.371, 0.431, 0.408, 0.569...</td>\n",
       "      <td>[0.05, 169.954, 8.395, -29.988, 56.787, -50.22...</td>\n",
       "    </tr>\n",
       "    <tr>\n",
       "      <th>1</th>\n",
       "      <td>0.11134</td>\n",
       "      <td>0.84522</td>\n",
       "      <td>1.0</td>\n",
       "      <td>-60.000</td>\n",
       "      <td>0.05445</td>\n",
       "      <td>-19.323</td>\n",
       "      <td>0.0</td>\n",
       "      <td>[0.038, 0.03, 0.006, 0.01, 0.101, 0.013, 0.034...</td>\n",
       "      <td>[33.644, -23.384, -74.375, 34.627, 18.404, 63....</td>\n",
       "    </tr>\n",
       "    <tr>\n",
       "      <th>2</th>\n",
       "      <td>0.95655</td>\n",
       "      <td>0.57519</td>\n",
       "      <td>1.0</td>\n",
       "      <td>-34.527</td>\n",
       "      <td>0.04297</td>\n",
       "      <td>-15.601</td>\n",
       "      <td>0.0</td>\n",
       "      <td>[0.099, 0.042, 0.018, 0.017, 0.124, 0.028, 0.1...</td>\n",
       "      <td>[40.11, 5.728, -22.954, 30.254, 10.283, -4.349...</td>\n",
       "    </tr>\n",
       "  </tbody>\n",
       "</table>\n",
       "</div>"
      ],
      "text/plain": [
       "     start  duration  confidence  loudness_start  loudness_max_time  \\\n",
       "0  0.00000   0.11134         0.0         -60.000            0.00000   \n",
       "1  0.11134   0.84522         1.0         -60.000            0.05445   \n",
       "2  0.95655   0.57519         1.0         -34.527            0.04297   \n",
       "\n",
       "   loudness_max  loudness_end  \\\n",
       "0       -60.000           0.0   \n",
       "1       -19.323           0.0   \n",
       "2       -15.601           0.0   \n",
       "\n",
       "                                             pitches  \\\n",
       "0  [1.0, 0.725, 0.337, 0.371, 0.431, 0.408, 0.569...   \n",
       "1  [0.038, 0.03, 0.006, 0.01, 0.101, 0.013, 0.034...   \n",
       "2  [0.099, 0.042, 0.018, 0.017, 0.124, 0.028, 0.1...   \n",
       "\n",
       "                                              timbre  \n",
       "0  [0.05, 169.954, 8.395, -29.988, 56.787, -50.22...  \n",
       "1  [33.644, -23.384, -74.375, 34.627, 18.404, 63....  \n",
       "2  [40.11, 5.728, -22.954, 30.254, 10.283, -4.349...  "
      ]
     },
     "execution_count": 19,
     "metadata": {},
     "output_type": "execute_result"
    }
   ],
   "source": [
    "pd.DataFrame(sp.audio_analysis('spotify:track:63OQupATfueTdZMWTxW03A')['segments'][0:3])"
   ]
  },
  {
   "cell_type": "markdown",
   "id": "6489b753-adc5-4f52-8b0e-5c9944dd0a89",
   "metadata": {},
   "source": [
    "Now that we know what we are looking for and how to obtain it, we will move on to the next step where I will show you how to create the timbre model."
   ]
  },
  {
   "cell_type": "code",
   "execution_count": null,
   "id": "e49c8397-7fcf-4d91-9d4d-37184ba83763",
   "metadata": {},
   "outputs": [],
   "source": []
  }
 ],
 "metadata": {
  "kernelspec": {
   "display_name": "Python 3 (ipykernel)",
   "language": "python",
   "name": "python3"
  },
  "language_info": {
   "codemirror_mode": {
    "name": "ipython",
    "version": 3
   },
   "file_extension": ".py",
   "mimetype": "text/x-python",
   "name": "python",
   "nbconvert_exporter": "python",
   "pygments_lexer": "ipython3",
   "version": "3.12.3"
  }
 },
 "nbformat": 4,
 "nbformat_minor": 5
}
