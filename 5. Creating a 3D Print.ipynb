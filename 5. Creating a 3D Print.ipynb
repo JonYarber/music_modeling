{
 "cells": [
  {
   "cell_type": "markdown",
   "id": "30f01438-e0c9-45c2-947f-1a4e824af6cb",
   "metadata": {},
   "source": [
    "<h1>Creating a 3D Print</h1>\n",
    "In this notebook we will use everything we've learned to create an STL file to send to our 3D printer.<br>\n",
    "The methodology works, but unfortunately the model we created was not able to be printed in it's form."
   ]
  },
  {
   "cell_type": "markdown",
   "id": "6364ef4a-20ed-4e2a-9e87-70e28a8b91d8",
   "metadata": {},
   "source": [
    "---"
   ]
  },
  {
   "cell_type": "markdown",
   "id": "a7ea6088-d677-4f42-9e19-2bd8e8efd816",
   "metadata": {},
   "source": [
    "<h2>Prerequisites</h2>\n",
    "<ol>\n",
    "<li><a href = 'https://nbviewer.org/github/JonYarber/music_modeling/blob/main/1.%20Setting%20Up%20the%20API%20Connection.ipynb'>Setting Up the API Connection</a></li>\n",
    "<li><a href = 'https://nbviewer.org/github/JonYarber/music_modeling/blob/main/2.%20Using%20the%20Spotify%20API.ipynb'>Using the Spotify API</a></li>\n",
    "<li><a href = 'https://nbviewer.org/github/JonYarber/music_modeling/blob/main/3.%20Understanding%20the%20Data.ipynb'>Understanding the Data</a></li>\n",
    "<li><a href = 'https://nbviewer.org/github/JonYarber/music_modeling/blob/main/4.%20Creating%20a%203D%20Music%20Model.ipynb'>Creating a 3D Music Model</a></li>\n",
    "</ol>"
   ]
  },
  {
   "cell_type": "markdown",
   "id": "5663d74b-5a65-4cae-8c35-4ebea080a894",
   "metadata": {},
   "source": [
    "---"
   ]
  },
  {
   "cell_type": "markdown",
   "id": "659969b6-cf86-419f-a79e-52a2d7ad0210",
   "metadata": {},
   "source": [
    "<h2>Create an STL File</h3>"
   ]
  },
  {
   "cell_type": "markdown",
   "id": "69bf6417-18e4-4796-9fef-d85ad76030c0",
   "metadata": {},
   "source": [
    "<h3>Import Libraries</h3>"
   ]
  },
  {
   "cell_type": "code",
   "execution_count": 1,
   "id": "c826d94f-b55a-418f-b901-23671064483e",
   "metadata": {},
   "outputs": [],
   "source": [
    "import math\n",
    "import spotipy\n",
    "import numpy as np\n",
    "import pandas as pd\n",
    "from sklearn.preprocessing import MinMaxScaler\n",
    "from spotipy.oauth2 import SpotifyClientCredentials"
   ]
  },
  {
   "cell_type": "markdown",
   "id": "b4e1ea10-6884-45be-89b3-17d7dc4bf4d5",
   "metadata": {},
   "source": [
    "<h3>Create Functions</h3>\n",
    "We will condense everything we learned in our first 4 notebooks into three, convenient functions."
   ]
  },
  {
   "cell_type": "markdown",
   "id": "c28891ab-5014-45a0-ad93-25ed5dbf7718",
   "metadata": {},
   "source": [
    "<h4>Connect to Spotify API</h4>\n",
    "From <a href = 'https://nbviewer.org/github/JonYarber/music_modeling/blob/main/1.%20Setting%20Up%20the%20API%20Connection.ipynb'>Setting Up the API Connection</a>."
   ]
  },
  {
   "cell_type": "code",
   "execution_count": 2,
   "id": "393dde85-e998-46a0-8944-ea838696e9d5",
   "metadata": {},
   "outputs": [],
   "source": [
    "def connect_to_spotify():\n",
    "    sp_client_id = input(\"Enter your Spotify Client ID: \")\n",
    "    sp_client_secret = input(\"Enter your Spotify Secret Token: \")\n",
    "    \n",
    "    credentials = SpotifyClientCredentials(client_id = sp_client_id,\n",
    "                                           client_secret = sp_client_secret)\n",
    "    \n",
    "    sp = spotipy.Spotify(client_credentials_manager = credentials)\n",
    "    \n",
    "    print(\"Connected to Spotify!\")\n",
    "\n",
    "    return sp"
   ]
  },
  {
   "cell_type": "markdown",
   "id": "7cc79166-6046-4e28-bca2-bbb95c99f4bc",
   "metadata": {},
   "source": [
    "<h4>Get Track URI</h4>\n",
    "From <a href = 'https://nbviewer.org/github/JonYarber/music_modeling/blob/main/2.%20Using%20the%20Spotify%20API.ipynb'>Using the Spotify API</a>."
   ]
  },
  {
   "cell_type": "code",
   "execution_count": 3,
   "id": "e3e376b3-c23a-4e06-8dc3-f456e62e0398",
   "metadata": {},
   "outputs": [],
   "source": [
    "def get_uri(connection):\n",
    "\n",
    "    print('\\nRetrieving Track URI.')\n",
    "\n",
    "    artist = input(\"Input artist name: \")\n",
    "    track = input(\"Input track name: \")\n",
    "\n",
    "    search_term = f'artist:{artist} track:{track}'\n",
    "\n",
    "    result = connection.search(search_term, type = 'track')['tracks']['items'][0]\n",
    "\n",
    "    # If no result, return to user\n",
    "    if not result:\n",
    "        return print(\"Search returned no result\")\n",
    "    else:\n",
    "        print(\"\\nTrack found!\")\n",
    "\n",
    "    track_uri = result['uri']\n",
    "\n",
    "    artist_name = result['artists'][0]['name']\n",
    "\n",
    "    track_name = result['name']\n",
    "\n",
    "    print(f'\\nTrack name: {track_name}')\n",
    "    print(f'Artist name: {artist_name}')\n",
    "    print(f'Track URI: {track_uri}')\n",
    "\n",
    "    return track_uri"
   ]
  },
  {
   "cell_type": "markdown",
   "id": "ea9c6693-cc91-4ecb-b205-772f0550159c",
   "metadata": {},
   "source": [
    "<h4>Create Timbre DataFrame</h4>\n",
    "From <a href = 'https://nbviewer.org/github/JonYarber/music_modeling/blob/main/4.%20Creating%20a%203D%20Music%20Model.ipynb'>Creating a 3D Music Model</a>."
   ]
  },
  {
   "cell_type": "code",
   "execution_count": 4,
   "id": "9251347b-a9ee-4321-b7d8-8fadc1fd92db",
   "metadata": {},
   "outputs": [],
   "source": [
    "def create_timbre_df(uri):\n",
    "\n",
    "   # Use the track URI to get the audio analysis. We only need the 'segments' portion\n",
    "    segments = sp.audio_analysis(uri)['segments']\n",
    "\n",
    "    # Convert it to a dataframe\n",
    "    segment_df = pd.DataFrame(segments)\n",
    "\n",
    "    # Create the timbre dataframe by selecting only the columns we need: start, loudness_start, timbre\n",
    "    timbre_df = segment_df[['start', 'loudness_start', 'timbre']].copy()\n",
    "\n",
    "    # Rename loudness and start columns\n",
    "    timbre_df = timbre_df.rename(columns = {'loudness_start': 'loudness', 'start': 'start_time'})\n",
    "\n",
    "    # Expand timbres\n",
    "    for i in range(12):\n",
    "        timbre_df[f'timbre_{i + 1}'] = timbre_df['timbre'].apply(lambda x: x[i])\n",
    "\n",
    "    # Drop the original timbre column\n",
    "    timbre_df.drop(['timbre'], axis = 1, inplace = True)\n",
    "\n",
    "    # Add '13th timbre'\n",
    "    timbre_df['timbre_13'] = timbre_df.timbre_1\n",
    "\n",
    "    # Create a list of the timbre columns\n",
    "    timbre_cols = [col for col in timbre_df.columns if col.startswith('timbre_')]\n",
    "    \n",
    "    # Melt the timbres\n",
    "    timbre_df = timbre_df.melt(id_vars = ['start_time', 'loudness'],\n",
    "                               value_vars = timbre_cols,\n",
    "                               var_name = 'timbre_which',\n",
    "                               value_name = 'timbre')\n",
    "    \n",
    "    # Create the 'timbre_num' column by removing the the word 'timbre' in the 'timbre_which' column\n",
    "    timbre_df['timbre_num'] = [int(timbre_which.split('_')[1]) for timbre_which in timbre_df['timbre_which']]\n",
    "    \n",
    "    # Drop the timbre_which column\n",
    "    timbre_df.drop(['timbre_which'], axis = 1, inplace = True)\n",
    "    \n",
    "    # Sort the dataframe by start_time and timbre_num\n",
    "    timbre_df = timbre_df.sort_values(by = ['start_time', 'timbre_num']).reset_index(drop = True)\n",
    "\n",
    "    # Apply the log transform\n",
    "    timbre_df['timbre_log'] = np.log10(timbre_df['timbre'] + 400)\n",
    "\n",
    "    # Apply the MinMax scaler to the timbre column\n",
    "    timbre_df['timbre_scaled'] = MinMaxScaler().fit_transform(timbre_df['timbre'].values.reshape(-1, 1))\n",
    "\n",
    "    # Adjust values to bounds [1, 2]\n",
    "    timbre_df['timbre_scaled'] = timbre_df['timbre_scaled'] + 1\n",
    "\n",
    "    # Apply MinMax scaler to the loudness column. \n",
    "    timbre_df['loudness_scaled'] = MinMaxScaler().fit_transform(timbre_df['loudness'].values.reshape(-1, 1))\n",
    "\n",
    "    # Adjust values to bounds [1, 2]\n",
    "    timbre_df['loudness_scaled'] = timbre_df['loudness_scaled'] + 1\n",
    "\n",
    "    #  Scale timbre_log with loudness\n",
    "    timbre_df['timbre_log_w_loud'] = timbre_df['loudness_scaled'] * timbre_df['timbre_log']\n",
    "    \n",
    "    # Scale timbre_scaled with loudness\n",
    "    timbre_df['timbre_scaled_w_loud'] = timbre_df['loudness_scaled'] * timbre_df['timbre_scaled']\n",
    "\n",
    "    # Create a column of angles based on timbre number (timbre_num)\n",
    "    timbre_df['timbre_angle'] = 30 * timbre_df['timbre_num']\n",
    "    \n",
    "    # The sin and cos functions in the math package will only take the angles as radians. \n",
    "    # Convert the column just created to radians\n",
    "    timbre_df['timbre_angle'] = (math.pi * timbre_df['timbre_angle']) / 180\n",
    "    \n",
    "    # Create timbre_X\n",
    "    # For this, we want to use the timbre_log_w_loud variable\n",
    "    timbre_df['timbre_X'] = round(timbre_df['timbre_log_w_loud'] * timbre_df['timbre_angle'].apply(lambda z: math.cos(z)), 3)\n",
    "    \n",
    "    # Create timbre_Y using timbre_log_w_loud\n",
    "    timbre_df['timbre_Y'] = round(timbre_df['timbre_log_w_loud'] * timbre_df['timbre_angle'].apply(lambda z: math.sin(z)), 3)\n",
    "    \n",
    "    # We don't need the angle column anymore\n",
    "    timbre_df.drop(['timbre_angle'], axis = 1, inplace = True)\n",
    "\n",
    "    return timbre_df"
   ]
  },
  {
   "cell_type": "markdown",
   "id": "889520d5-4918-4479-9c89-e85803f45735",
   "metadata": {},
   "source": [
    "<h3>Create the Timbre DataFrame</h3>\n",
    "Now we use our functions to create our timbre dataframe."
   ]
  },
  {
   "cell_type": "code",
   "execution_count": 5,
   "id": "0e318485-ffa9-446f-8a00-a88747ea8c59",
   "metadata": {},
   "outputs": [
    {
     "name": "stdin",
     "output_type": "stream",
     "text": [
      "Enter your Spotify Client ID:  ed9307841d3542df8819aec9a4f0ec84\n",
      "Enter your Spotify Secret Token:  8208717955574be6a24163ed59675094\n"
     ]
    },
    {
     "name": "stdout",
     "output_type": "stream",
     "text": [
      "Connected to Spotify!\n",
      "\n",
      "Retrieving Track URI.\n"
     ]
    },
    {
     "name": "stdin",
     "output_type": "stream",
     "text": [
      "Input artist name:  Bon Jovi\n",
      "Input track name:  Livin On a Prayer\n"
     ]
    },
    {
     "name": "stdout",
     "output_type": "stream",
     "text": [
      "\n",
      "Track found!\n",
      "\n",
      "Track name: Livin' On A Prayer\n",
      "Artist name: Bon Jovi\n",
      "Track URI: spotify:track:37ZJ0p5Jm13JPevGcx4SkF\n"
     ]
    }
   ],
   "source": [
    "# Don't run if already done\n",
    "if 'sp' not in locals():\n",
    "    sp = connect_to_spotify()\n",
    "\n",
    "# Search and retrieve a track URI\n",
    "track_uri = get_uri(sp)\n",
    "\n",
    "# Create timbre dataframe\n",
    "timbre_df = create_timbre_df(track_uri)"
   ]
  },
  {
   "cell_type": "code",
   "execution_count": 6,
   "id": "c6a97976-1e50-46e2-9f8a-cfa6c32214e4",
   "metadata": {},
   "outputs": [
    {
     "data": {
      "text/html": [
       "<div>\n",
       "<style scoped>\n",
       "    .dataframe tbody tr th:only-of-type {\n",
       "        vertical-align: middle;\n",
       "    }\n",
       "\n",
       "    .dataframe tbody tr th {\n",
       "        vertical-align: top;\n",
       "    }\n",
       "\n",
       "    .dataframe thead th {\n",
       "        text-align: right;\n",
       "    }\n",
       "</style>\n",
       "<table border=\"1\" class=\"dataframe\">\n",
       "  <thead>\n",
       "    <tr style=\"text-align: right;\">\n",
       "      <th></th>\n",
       "      <th>start_time</th>\n",
       "      <th>loudness</th>\n",
       "      <th>timbre</th>\n",
       "      <th>timbre_num</th>\n",
       "      <th>timbre_log</th>\n",
       "      <th>timbre_scaled</th>\n",
       "      <th>loudness_scaled</th>\n",
       "      <th>timbre_log_w_loud</th>\n",
       "      <th>timbre_scaled_w_loud</th>\n",
       "      <th>timbre_X</th>\n",
       "      <th>timbre_Y</th>\n",
       "    </tr>\n",
       "  </thead>\n",
       "  <tbody>\n",
       "    <tr>\n",
       "      <th>0</th>\n",
       "      <td>0.0</td>\n",
       "      <td>-60.0</td>\n",
       "      <td>0.171</td>\n",
       "      <td>1</td>\n",
       "      <td>2.602246</td>\n",
       "      <td>1.375222</td>\n",
       "      <td>1.0</td>\n",
       "      <td>2.602246</td>\n",
       "      <td>1.375222</td>\n",
       "      <td>2.254</td>\n",
       "      <td>1.301</td>\n",
       "    </tr>\n",
       "    <tr>\n",
       "      <th>1</th>\n",
       "      <td>0.0</td>\n",
       "      <td>-60.0</td>\n",
       "      <td>170.937</td>\n",
       "      <td>2</td>\n",
       "      <td>2.756588</td>\n",
       "      <td>1.950930</td>\n",
       "      <td>1.0</td>\n",
       "      <td>2.756588</td>\n",
       "      <td>1.950930</td>\n",
       "      <td>1.378</td>\n",
       "      <td>2.387</td>\n",
       "    </tr>\n",
       "    <tr>\n",
       "      <th>2</th>\n",
       "      <td>0.0</td>\n",
       "      <td>-60.0</td>\n",
       "      <td>6.976</td>\n",
       "      <td>3</td>\n",
       "      <td>2.609569</td>\n",
       "      <td>1.398164</td>\n",
       "      <td>1.0</td>\n",
       "      <td>2.609569</td>\n",
       "      <td>1.398164</td>\n",
       "      <td>0.000</td>\n",
       "      <td>2.610</td>\n",
       "    </tr>\n",
       "    <tr>\n",
       "      <th>3</th>\n",
       "      <td>0.0</td>\n",
       "      <td>-60.0</td>\n",
       "      <td>-31.365</td>\n",
       "      <td>4</td>\n",
       "      <td>2.566597</td>\n",
       "      <td>1.268904</td>\n",
       "      <td>1.0</td>\n",
       "      <td>2.566597</td>\n",
       "      <td>1.268904</td>\n",
       "      <td>-1.283</td>\n",
       "      <td>2.223</td>\n",
       "    </tr>\n",
       "    <tr>\n",
       "      <th>4</th>\n",
       "      <td>0.0</td>\n",
       "      <td>-60.0</td>\n",
       "      <td>55.527</td>\n",
       "      <td>5</td>\n",
       "      <td>2.658514</td>\n",
       "      <td>1.561845</td>\n",
       "      <td>1.0</td>\n",
       "      <td>2.658514</td>\n",
       "      <td>1.561845</td>\n",
       "      <td>-2.302</td>\n",
       "      <td>1.329</td>\n",
       "    </tr>\n",
       "  </tbody>\n",
       "</table>\n",
       "</div>"
      ],
      "text/plain": [
       "   start_time  loudness   timbre  timbre_num  timbre_log  timbre_scaled  \\\n",
       "0         0.0     -60.0    0.171           1    2.602246       1.375222   \n",
       "1         0.0     -60.0  170.937           2    2.756588       1.950930   \n",
       "2         0.0     -60.0    6.976           3    2.609569       1.398164   \n",
       "3         0.0     -60.0  -31.365           4    2.566597       1.268904   \n",
       "4         0.0     -60.0   55.527           5    2.658514       1.561845   \n",
       "\n",
       "   loudness_scaled  timbre_log_w_loud  timbre_scaled_w_loud  timbre_X  \\\n",
       "0              1.0           2.602246              1.375222     2.254   \n",
       "1              1.0           2.756588              1.950930     1.378   \n",
       "2              1.0           2.609569              1.398164     0.000   \n",
       "3              1.0           2.566597              1.268904    -1.283   \n",
       "4              1.0           2.658514              1.561845    -2.302   \n",
       "\n",
       "   timbre_Y  \n",
       "0     1.301  \n",
       "1     2.387  \n",
       "2     2.610  \n",
       "3     2.223  \n",
       "4     1.329  "
      ]
     },
     "execution_count": 6,
     "metadata": {},
     "output_type": "execute_result"
    }
   ],
   "source": [
    "# Check \n",
    "timbre_df.head()"
   ]
  },
  {
   "cell_type": "markdown",
   "id": "8ff9ac3d-c595-4cfc-86c3-41abdd686c87",
   "metadata": {},
   "source": [
    "<h3>Set X, Y, and Z Variables</h3>\n",
    "Just like in the Creating a 3D Music Model notebook, we need to get our X, Y, and Z values into 2D arrays."
   ]
  },
  {
   "cell_type": "code",
   "execution_count": 7,
   "id": "3c240a0f-b46a-4423-9591-667c18977532",
   "metadata": {},
   "outputs": [],
   "source": [
    "# Store the number of segments in the song for our reshapes\n",
    "num_segments = len(timbre_df.start_time.unique())\n",
    "\n",
    "X = timbre_df.timbre_X.values.reshape(num_segments, 13).T\n",
    "\n",
    "Y = timbre_df.timbre_Y.values.reshape(num_segments, 13).T\n",
    "\n",
    "Z = timbre_df.start_time.values.reshape(num_segments, 13).T"
   ]
  },
  {
   "cell_type": "markdown",
   "id": "fe2b5a52-8244-43a6-a6e9-b7405871fede",
   "metadata": {},
   "source": [
    "<h3>Create the STL file</h3>\n",
    "This boils down to only 3 lines of code. However, this was the most challenging part of the project by far. At some point I honestly believed there was no way to convert data in a <b>pandas</b> dataframe and create a 3D model with it. There is very literature, if any, on how to do this. While I was able to successfully create this one, I cannot say with completely certainty that would work for any other type of model. For this one though, what it finally came down to was having the right data in right format, and a deep understanding of the <a href = 'https://pyvista.org/'><b>pyvista</b></a> package. "
   ]
  },
  {
   "cell_type": "code",
   "execution_count": 8,
   "id": "e1b5b494-5715-4bb1-ad16-9eb2e2ffeee5",
   "metadata": {},
   "outputs": [],
   "source": [
    "import pyvista as pv\n",
    "\n",
    "# Create Structured Grid\n",
    "mesh = pv.StructuredGrid(X, Y, Z)\n",
    "\n",
    "# Convert to PolyData\n",
    "poly_data = mesh.extract_surface()\n",
    "\n",
    "# Extract to .stl\n",
    "poly_data.save('song_polydata.stl')"
   ]
  },
  {
   "cell_type": "code",
   "execution_count": null,
   "id": "5054236f-bd66-4e19-a955-27da9fd02959",
   "metadata": {},
   "outputs": [],
   "source": []
  }
 ],
 "metadata": {
  "kernelspec": {
   "display_name": "Python 3 (ipykernel)",
   "language": "python",
   "name": "python3"
  },
  "language_info": {
   "codemirror_mode": {
    "name": "ipython",
    "version": 3
   },
   "file_extension": ".py",
   "mimetype": "text/x-python",
   "name": "python",
   "nbconvert_exporter": "python",
   "pygments_lexer": "ipython3",
   "version": "3.12.3"
  }
 },
 "nbformat": 4,
 "nbformat_minor": 5
}
