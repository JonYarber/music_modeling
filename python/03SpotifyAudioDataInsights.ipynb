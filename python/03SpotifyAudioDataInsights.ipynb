{
 "cells": [
  {
   "cell_type": "markdown",
   "id": "297391d2-b508-4517-a808-9bf0219c3e65",
   "metadata": {},
   "source": [
    "<a id='top'></a>\n",
    "\n",
    "# Spotify Audio Data Insights\n",
    "\n",
    "This notebook reviews the audio attributes available from Spotify and how to retrieve them. I also provide an explanation as to why I chose to utilize the audio feature [timbre](#Timbre) for this project."
   ]
  },
  {
   "cell_type": "markdown",
   "id": "0709fde2-57d2-4221-8f1e-6615b6be35f1",
   "metadata": {},
   "source": [
    "----"
   ]
  },
  {
   "cell_type": "markdown",
   "id": "b79934c4-c45f-48a9-83f8-45a30a6f61c0",
   "metadata": {},
   "source": [
    "## Prerequisites\n",
    "[1) Setting Up the API Connection](https://nbviewer.org/github/JonYarber/music_modeling/blob/main/python/01SettingUptheAPIConnection.ipynb)<br>\n",
    "[2) Using the Spotify API](https://nbviewer.org/github/JonYarber/music_modeling/blob/main/python/02UsingtheSpotifyAPI.ipynb)"
   ]
  },
  {
   "cell_type": "markdown",
   "id": "0e067a23",
   "metadata": {},
   "source": [
    "---"
   ]
  },
  {
   "cell_type": "markdown",
   "id": "753d869a",
   "metadata": {},
   "source": [
    "## Table of Contents\n",
    "* [Functions](#Functions)\n",
    "  * [Connect to Spotify](#ConnectToSpotify)\n",
    "  * [Find Track URI](#FindURI)\n",
    "* [Audio Features](#AudioFeatures)\n",
    "  1. [Retrieving Audio Features](#RetrieveAF)\n",
    "  2. [Building an Audio Feature Data Frame](#BuildAFDF)\n",
    "* [Audio Analysis](#AudioAnalysis)\n",
    "  * [Pitch](#Pitch)\n",
    "  * [Timbre](#Timbre)"
   ]
  },
  {
   "cell_type": "markdown",
   "id": "5f48bd07-e9fc-4dde-a845-1c5c936a6279",
   "metadata": {},
   "source": [
    "---"
   ]
  },
  {
   "cell_type": "markdown",
   "id": "d870782d-4a36-4a18-8281-59905e88d850",
   "metadata": {},
   "source": [
    "<a id='Functions'></a> \n",
    "\n",
    "## Functions"
   ]
  },
  {
   "cell_type": "markdown",
   "id": "d8073ae0-cf8e-4a69-8f28-008c85fe0721",
   "metadata": {},
   "source": [
    "<a id='ConnectToSpotify'></a>\n",
    "\n",
    "### Connect to Spotify API\n",
    "Let's create a function that will conveniently get us connected to the Spotify API using the method outlined in the [Setting Up the API Connection](https://nbviewer.org/github/JonYarber/music_modeling/blob/main/python/01SettingUptheAPIConnection.ipynb)."
   ]
  },
  {
   "cell_type": "code",
   "execution_count": 1,
   "id": "50bf5dd4-66ad-4963-acd2-33a0f668340a",
   "metadata": {},
   "outputs": [],
   "source": [
    "import spotipy\n",
    "from spotipy.oauth2 import SpotifyClientCredentials\n",
    "\n",
    "def connect_to_spotify():\n",
    "    sp_client_id = input(\"Enter your Spotify Client ID: \")\n",
    "    sp_client_secret = input(\"Enter your Spotify Secret Token: \")\n",
    "    \n",
    "    credentials = SpotifyClientCredentials(client_id = sp_client_id,\n",
    "                                           client_secret = sp_client_secret)\n",
    "    \n",
    "    sp = spotipy.Spotify(client_credentials_manager = credentials)\n",
    "    \n",
    "    print(\"Connected to Spotify!\")\n",
    "\n",
    "    return sp"
   ]
  },
  {
   "cell_type": "markdown",
   "id": "19ea52b0-1777-46a3-89e9-585cf277d465",
   "metadata": {},
   "source": [
    "<a id='FindURI'></a>\n",
    "\n",
    "### Find Track URI\n",
    "Using the method outlined in [Using the Spotify API](https://nbviewer.org/github/JonYarber/music_modeling/blob/main/python/02UsingtheSpotifyAPI.ipynb), let's create a function that will take an artist and song name and return the track URI."
   ]
  },
  {
   "cell_type": "code",
   "execution_count": 2,
   "id": "9deeed09-0b22-4076-93aa-88b65d44ac3a",
   "metadata": {},
   "outputs": [],
   "source": [
    "def get_uri():\n",
    "\n",
    "    artist = input(\"Input artist name: \")\n",
    "    track = input(\"Input song name: \")\n",
    "\n",
    "    search_term = f'artist:{artist} track:{track}'\n",
    "\n",
    "    result = sp.search(search_term, type = 'track', limit = 1)['tracks']['items'][0]\n",
    "\n",
    "    track_uri = result['uri']\n",
    "    artist_name = result['artists'][0]['name']\n",
    "    track_name = result['name']\n",
    "\n",
    "    print(f'Track name: {track_name}')\n",
    "    print(f'Artist name: {artist_name}')\n",
    "    print(f'Track URI: {track_uri}')\n",
    "\n",
    "    return track_uri"
   ]
  },
  {
   "cell_type": "markdown",
   "id": "f77b0b3c-efc0-409c-920e-f52098bca52d",
   "metadata": {},
   "source": [
    "---"
   ]
  },
  {
   "cell_type": "markdown",
   "id": "c6821253-a8b0-4cb7-98d8-c86d9359b236",
   "metadata": {},
   "source": [
    "<a id='AudioFeatures'></a>\n",
    "\n",
    "## Audio Features\n",
    "Audio features are attributes of a song, such as tempo, loudness, danceability, etc. A breakdown of the 13 audio features and their definitions can be found on the [Spotify Developer Site](https://developer.spotify.com/documentation/web-api/reference/get-audio-features). While this project does not utilize any of these audio features, I have incorporated them in another project and can attest that they are a great, fun, and easy way to begin diving into musical attribute analysis. Even though we are not using them in this project, we will still see how to retrieve the audio features using the Spotipy API."
   ]
  },
  {
   "cell_type": "markdown",
   "id": "5e797424-5867-4c72-b901-628542d52d03",
   "metadata": {},
   "source": [
    "### Connect to Spotify\n",
    "Use the <code>connect_to_spotify()</code> function to connect to Spotify."
   ]
  },
  {
   "cell_type": "code",
   "execution_count": 3,
   "id": "c5462469-b9dc-488e-b10b-97619822f969",
   "metadata": {},
   "outputs": [
    {
     "name": "stdin",
     "output_type": "stream",
     "text": [
      "Enter your Spotify Client ID:  ed9307841d3542df8819aec9a4f0ec84\n",
      "Enter your Spotify Secret Token:  8208717955574be6a24163ed59675094\n"
     ]
    },
    {
     "name": "stdout",
     "output_type": "stream",
     "text": [
      "Connected to Spotify!\n"
     ]
    }
   ],
   "source": [
    "sp = connect_to_spotify()"
   ]
  },
  {
   "cell_type": "markdown",
   "id": "9e46f15f-419a-4cb4-b6c7-e047a2caba4e",
   "metadata": {},
   "source": [
    "### Find Track URI\n",
    "Use the <code>get_uri()</code> function to obtain a track URI.<br>"
   ]
  },
  {
   "cell_type": "code",
   "execution_count": 4,
   "id": "d803629c-36e9-423a-addb-75a7bd829877",
   "metadata": {},
   "outputs": [
    {
     "name": "stdin",
     "output_type": "stream",
     "text": [
      "Input artist name:  Radiohead\n",
      "Input song name:  Karma Police\n"
     ]
    },
    {
     "name": "stdout",
     "output_type": "stream",
     "text": [
      "Track name: Karma Police\n",
      "Artist name: Radiohead\n",
      "Track URI: spotify:track:63OQupATfueTdZMWTxW03A\n"
     ]
    }
   ],
   "source": [
    "track_uri = get_uri()"
   ]
  },
  {
   "cell_type": "markdown",
   "id": "0001ce0e-5a8c-446a-873f-4dcc4d4eab90",
   "metadata": {},
   "source": [
    "<a id='RetrieveAF'></a>\n",
    "\n",
    "### Retrieving Audio Features\n",
    "Next, we use the track URI to retrieve the audio features. The spotipy object, <code>sp</code>, has a built-in method for this, <code>audio_features</code>.<br>\n",
    "The only required parameter for <code>audio_features</code> is the track URI."
   ]
  },
  {
   "cell_type": "code",
   "execution_count": 5,
   "id": "e591586e-ede5-4853-bc1b-ba75983a828a",
   "metadata": {},
   "outputs": [
    {
     "data": {
      "text/plain": [
       "[{'danceability': 0.36,\n",
       "  'energy': 0.501,\n",
       "  'key': 7,\n",
       "  'loudness': -9.129,\n",
       "  'mode': 1,\n",
       "  'speechiness': 0.0258,\n",
       "  'acousticness': 0.0638,\n",
       "  'instrumentalness': 9.32e-05,\n",
       "  'liveness': 0.172,\n",
       "  'valence': 0.324,\n",
       "  'tempo': 74.807,\n",
       "  'type': 'audio_features',\n",
       "  'id': '63OQupATfueTdZMWTxW03A',\n",
       "  'uri': 'spotify:track:63OQupATfueTdZMWTxW03A',\n",
       "  'track_href': 'https://api.spotify.com/v1/tracks/63OQupATfueTdZMWTxW03A',\n",
       "  'analysis_url': 'https://api.spotify.com/v1/audio-analysis/63OQupATfueTdZMWTxW03A',\n",
       "  'duration_ms': 264067,\n",
       "  'time_signature': 4}]"
      ]
     },
     "execution_count": 5,
     "metadata": {},
     "output_type": "execute_result"
    }
   ],
   "source": [
    "# Use the track URI to retrieve audio features\n",
    "audio_features = sp.audio_features(track_uri)\n",
    "\n",
    "audio_features"
   ]
  },
  {
   "cell_type": "markdown",
   "id": "f13c504f-9f71-4200-aa79-d59aacef14e1",
   "metadata": {},
   "source": [
    "<a id='BuildAFDF'></a>\n",
    "\n",
    "### Building an Audio Feature Data Frame \n",
    "Finally, if desired we can use the result above to make a nice data frame for analyses and visuals."
   ]
  },
  {
   "cell_type": "code",
   "execution_count": 6,
   "id": "150ccc2c-8771-4854-83d8-fd11546fc61d",
   "metadata": {},
   "outputs": [
    {
     "data": {
      "text/html": [
       "<div>\n",
       "<style scoped>\n",
       "    .dataframe tbody tr th:only-of-type {\n",
       "        vertical-align: middle;\n",
       "    }\n",
       "\n",
       "    .dataframe tbody tr th {\n",
       "        vertical-align: top;\n",
       "    }\n",
       "\n",
       "    .dataframe thead th {\n",
       "        text-align: right;\n",
       "    }\n",
       "</style>\n",
       "<table border=\"1\" class=\"dataframe\">\n",
       "  <thead>\n",
       "    <tr style=\"text-align: right;\">\n",
       "      <th></th>\n",
       "      <th>danceability</th>\n",
       "      <th>energy</th>\n",
       "      <th>key</th>\n",
       "      <th>loudness</th>\n",
       "      <th>mode</th>\n",
       "      <th>speechiness</th>\n",
       "      <th>acousticness</th>\n",
       "      <th>instrumentalness</th>\n",
       "      <th>liveness</th>\n",
       "      <th>valence</th>\n",
       "      <th>tempo</th>\n",
       "      <th>duration_ms</th>\n",
       "      <th>time_signature</th>\n",
       "    </tr>\n",
       "  </thead>\n",
       "  <tbody>\n",
       "    <tr>\n",
       "      <th>0</th>\n",
       "      <td>0.36</td>\n",
       "      <td>0.501</td>\n",
       "      <td>7</td>\n",
       "      <td>-9.129</td>\n",
       "      <td>1</td>\n",
       "      <td>0.0258</td>\n",
       "      <td>0.0638</td>\n",
       "      <td>0.000093</td>\n",
       "      <td>0.172</td>\n",
       "      <td>0.324</td>\n",
       "      <td>74.807</td>\n",
       "      <td>264067</td>\n",
       "      <td>4</td>\n",
       "    </tr>\n",
       "  </tbody>\n",
       "</table>\n",
       "</div>"
      ],
      "text/plain": [
       "   danceability  energy  key  loudness  mode  speechiness  acousticness  \\\n",
       "0          0.36   0.501    7    -9.129     1       0.0258        0.0638   \n",
       "\n",
       "   instrumentalness  liveness  valence   tempo  duration_ms  time_signature  \n",
       "0          0.000093     0.172    0.324  74.807       264067               4  "
      ]
     },
     "execution_count": 6,
     "metadata": {},
     "output_type": "execute_result"
    }
   ],
   "source": [
    "import pandas as pd\n",
    "\n",
    "# Dropping a few unnecessary columns for readability\n",
    "audio_features_df = pd.DataFrame(audio_features).drop(['id', 'uri', 'type', 'track_href', 'analysis_url'], axis = 1)\n",
    "\n",
    "audio_features_df"
   ]
  },
  {
   "cell_type": "markdown",
   "id": "5ec07a05-8313-4b1d-a0df-254f266445f3",
   "metadata": {},
   "source": [
    "<br>\n",
    "\n",
    "From here we can easily add the artist and song name to the data frame. To to do this we will use the <code>track</code> method to find and store the artist and song name using <code>track_uri</code>."
   ]
  },
  {
   "cell_type": "code",
   "execution_count": 7,
   "id": "cafb6a56-07ad-489d-8299-da854917655c",
   "metadata": {},
   "outputs": [
    {
     "data": {
      "text/html": [
       "<div>\n",
       "<style scoped>\n",
       "    .dataframe tbody tr th:only-of-type {\n",
       "        vertical-align: middle;\n",
       "    }\n",
       "\n",
       "    .dataframe tbody tr th {\n",
       "        vertical-align: top;\n",
       "    }\n",
       "\n",
       "    .dataframe thead th {\n",
       "        text-align: right;\n",
       "    }\n",
       "</style>\n",
       "<table border=\"1\" class=\"dataframe\">\n",
       "  <thead>\n",
       "    <tr style=\"text-align: right;\">\n",
       "      <th></th>\n",
       "      <th>artist</th>\n",
       "      <th>song_title</th>\n",
       "      <th>danceability</th>\n",
       "      <th>energy</th>\n",
       "      <th>key</th>\n",
       "      <th>loudness</th>\n",
       "      <th>mode</th>\n",
       "      <th>speechiness</th>\n",
       "      <th>acousticness</th>\n",
       "      <th>instrumentalness</th>\n",
       "      <th>liveness</th>\n",
       "      <th>valence</th>\n",
       "      <th>tempo</th>\n",
       "      <th>duration_ms</th>\n",
       "      <th>time_signature</th>\n",
       "    </tr>\n",
       "  </thead>\n",
       "  <tbody>\n",
       "    <tr>\n",
       "      <th>0</th>\n",
       "      <td>Radiohead</td>\n",
       "      <td>Karma Police</td>\n",
       "      <td>0.36</td>\n",
       "      <td>0.501</td>\n",
       "      <td>7</td>\n",
       "      <td>-9.129</td>\n",
       "      <td>1</td>\n",
       "      <td>0.0258</td>\n",
       "      <td>0.0638</td>\n",
       "      <td>0.000093</td>\n",
       "      <td>0.172</td>\n",
       "      <td>0.324</td>\n",
       "      <td>74.807</td>\n",
       "      <td>264067</td>\n",
       "      <td>4</td>\n",
       "    </tr>\n",
       "  </tbody>\n",
       "</table>\n",
       "</div>"
      ],
      "text/plain": [
       "      artist    song_title  danceability  energy  key  loudness  mode  \\\n",
       "0  Radiohead  Karma Police          0.36   0.501    7    -9.129     1   \n",
       "\n",
       "   speechiness  acousticness  instrumentalness  liveness  valence   tempo  \\\n",
       "0       0.0258        0.0638          0.000093     0.172    0.324  74.807   \n",
       "\n",
       "   duration_ms  time_signature  \n",
       "0       264067               4  "
      ]
     },
     "execution_count": 7,
     "metadata": {},
     "output_type": "execute_result"
    }
   ],
   "source": [
    "# Store track artist name\n",
    "song_artist = sp.track(track_uri, market = 'US')['album']['artists'][0]['name']\n",
    "\n",
    "# Store track name\n",
    "song_name = sp.track(track_uri, market = 'US')['name']\n",
    "\n",
    "# Add previously stored artist name\n",
    "audio_features_df.insert(0, 'artist', song_artist)\n",
    "\n",
    "# Add previously stored track name\n",
    "audio_features_df.insert(1, 'song_title', song_name)\n",
    "\n",
    "# Final result\n",
    "audio_features_df"
   ]
  },
  {
   "cell_type": "markdown",
   "id": "839f9d3f-e5a8-4fa8-a7cb-d50587222d70",
   "metadata": {},
   "source": [
    "<br>\n",
    "\n",
    "With that we have a template by which we can build out a data frame or data frames! Again, we're not using this on this particular project, but it is a fun and easy share."
   ]
  },
  {
   "cell_type": "markdown",
   "id": "8d060817-7f2a-4bd5-8d25-c745fcdd5b13",
   "metadata": {},
   "source": [
    "---"
   ]
  },
  {
   "cell_type": "markdown",
   "id": "17a47fea-3145-4c54-8679-702537c7d25c",
   "metadata": {},
   "source": [
    "<a id='AudioAnalysis'></a>\n",
    "\n",
    "## Audio Analysis\n",
    "For this project, we will instead be using Spotify's audio analysis. According to [Spotify Developer's Site](https://developer.spotify.com/documentation/web-api/reference/get-audio-analysis), the audio analysis \"describes a track's musical structure, including rhythm, pitch, and timbre\". This musical structure is broken down at microsecond intervals of the song.<br>\n",
    "\n",
    "To retrieve the audio analysis, we use the <code>audio_analysis</code> method from our <code>sp</code> object. The portion we are looking for is found in <code>'segments'</code> key."
   ]
  },
  {
   "cell_type": "code",
   "execution_count": 8,
   "id": "fe127891-13f3-483b-b20a-3480b81e1076",
   "metadata": {},
   "outputs": [
    {
     "data": {
      "text/html": [
       "<div>\n",
       "<style scoped>\n",
       "    .dataframe tbody tr th:only-of-type {\n",
       "        vertical-align: middle;\n",
       "    }\n",
       "\n",
       "    .dataframe tbody tr th {\n",
       "        vertical-align: top;\n",
       "    }\n",
       "\n",
       "    .dataframe thead th {\n",
       "        text-align: right;\n",
       "    }\n",
       "</style>\n",
       "<table border=\"1\" class=\"dataframe\">\n",
       "  <thead>\n",
       "    <tr style=\"text-align: right;\">\n",
       "      <th></th>\n",
       "      <th>start</th>\n",
       "      <th>duration</th>\n",
       "      <th>confidence</th>\n",
       "      <th>loudness_start</th>\n",
       "      <th>loudness_max_time</th>\n",
       "      <th>loudness_max</th>\n",
       "      <th>loudness_end</th>\n",
       "      <th>pitches</th>\n",
       "      <th>timbre</th>\n",
       "    </tr>\n",
       "  </thead>\n",
       "  <tbody>\n",
       "    <tr>\n",
       "      <th>0</th>\n",
       "      <td>0.00000</td>\n",
       "      <td>0.11134</td>\n",
       "      <td>0.0</td>\n",
       "      <td>-60.000</td>\n",
       "      <td>0.00000</td>\n",
       "      <td>-60.000</td>\n",
       "      <td>0.0</td>\n",
       "      <td>[1.0, 0.725, 0.337, 0.371, 0.431, 0.408, 0.569...</td>\n",
       "      <td>[0.05, 169.954, 8.395, -29.988, 56.787, -50.22...</td>\n",
       "    </tr>\n",
       "    <tr>\n",
       "      <th>1</th>\n",
       "      <td>0.11134</td>\n",
       "      <td>0.84522</td>\n",
       "      <td>1.0</td>\n",
       "      <td>-60.000</td>\n",
       "      <td>0.05445</td>\n",
       "      <td>-19.323</td>\n",
       "      <td>0.0</td>\n",
       "      <td>[0.038, 0.03, 0.006, 0.01, 0.101, 0.013, 0.034...</td>\n",
       "      <td>[33.644, -23.384, -74.375, 34.627, 18.404, 63....</td>\n",
       "    </tr>\n",
       "    <tr>\n",
       "      <th>2</th>\n",
       "      <td>0.95655</td>\n",
       "      <td>0.57519</td>\n",
       "      <td>1.0</td>\n",
       "      <td>-34.527</td>\n",
       "      <td>0.04297</td>\n",
       "      <td>-15.601</td>\n",
       "      <td>0.0</td>\n",
       "      <td>[0.099, 0.042, 0.018, 0.017, 0.124, 0.028, 0.1...</td>\n",
       "      <td>[40.11, 5.728, -22.954, 30.254, 10.283, -4.349...</td>\n",
       "    </tr>\n",
       "  </tbody>\n",
       "</table>\n",
       "</div>"
      ],
      "text/plain": [
       "     start  duration  confidence  loudness_start  loudness_max_time  \\\n",
       "0  0.00000   0.11134         0.0         -60.000            0.00000   \n",
       "1  0.11134   0.84522         1.0         -60.000            0.05445   \n",
       "2  0.95655   0.57519         1.0         -34.527            0.04297   \n",
       "\n",
       "   loudness_max  loudness_end  \\\n",
       "0       -60.000           0.0   \n",
       "1       -19.323           0.0   \n",
       "2       -15.601           0.0   \n",
       "\n",
       "                                             pitches  \\\n",
       "0  [1.0, 0.725, 0.337, 0.371, 0.431, 0.408, 0.569...   \n",
       "1  [0.038, 0.03, 0.006, 0.01, 0.101, 0.013, 0.034...   \n",
       "2  [0.099, 0.042, 0.018, 0.017, 0.124, 0.028, 0.1...   \n",
       "\n",
       "                                              timbre  \n",
       "0  [0.05, 169.954, 8.395, -29.988, 56.787, -50.22...  \n",
       "1  [33.644, -23.384, -74.375, 34.627, 18.404, 63....  \n",
       "2  [40.11, 5.728, -22.954, 30.254, 10.283, -4.349...  "
      ]
     },
     "execution_count": 8,
     "metadata": {},
     "output_type": "execute_result"
    }
   ],
   "source": [
    "audio_analysis_df = pd.DataFrame(sp.audio_analysis(track_uri)['segments'])\n",
    "\n",
    "audio_analysis_df.head(3)"
   ]
  },
  {
   "cell_type": "markdown",
   "id": "67695f78-c5bf-43c6-97c8-92ede9b0f36c",
   "metadata": {},
   "source": [
    "<br>\n",
    "\n",
    "I have provided a quick review of the attributes [<code>pitch</code>](#Pitch) and [<code>timbre</code>](#Timbre) that we see here from the dictionary."
   ]
  },
  {
   "cell_type": "markdown",
   "id": "e3dbe996-a070-4032-802a-a2485c6602e8",
   "metadata": {},
   "source": [
    "<a id='Pitch'></a>\n",
    "\n",
    "### Pitch\n",
    "Imagine hitting a key on a piano. When you strike the key, the piano produces a sound wave that you perceive as the note played, such as C. If you play a different C key on the piano, it will sound the same note but at a different pitch, depending on whether it's a higher or lower octave. Pitch is how high or low a note sounds, with higher pitches corresponding to sound waves with higher frequencies and shorter wavelengths, while lower pitches are associated with lower frequencies and longer wavelengths.<br>\n",
    "In Western music, there are 12 unique pitches, known as semitones, which include the natural notes: C, D, E, F, G, A, B, along with their sharps and flats (C#, D#, F#, G#, A#). When analyzing the audio segments of a song, we can evaluate the prominence of each pitch class on a scale of 0 to 1. For example, if an analysis shows that G has a prevalence of 0.8 in a particular segment, this indicates that the note G is a prominent part of that section of the music.<br>\n",
    "<br>\n",
    "\n",
    "Let's use our <code>audio_analysis_df</code> object to provide some context."
   ]
  },
  {
   "cell_type": "code",
   "execution_count": 9,
   "id": "f69ddafb-da81-4ed4-92c7-8bd01cb56930",
   "metadata": {},
   "outputs": [
    {
     "data": {
      "text/html": [
       "<div>\n",
       "<style scoped>\n",
       "    .dataframe tbody tr th:only-of-type {\n",
       "        vertical-align: middle;\n",
       "    }\n",
       "\n",
       "    .dataframe tbody tr th {\n",
       "        vertical-align: top;\n",
       "    }\n",
       "\n",
       "    .dataframe thead th {\n",
       "        text-align: right;\n",
       "    }\n",
       "</style>\n",
       "<table border=\"1\" class=\"dataframe\">\n",
       "  <thead>\n",
       "    <tr style=\"text-align: right;\">\n",
       "      <th></th>\n",
       "      <th>start</th>\n",
       "      <th>C</th>\n",
       "      <th>C#</th>\n",
       "      <th>D</th>\n",
       "      <th>D#</th>\n",
       "      <th>E</th>\n",
       "      <th>F</th>\n",
       "      <th>F#</th>\n",
       "      <th>G</th>\n",
       "      <th>G#</th>\n",
       "      <th>A</th>\n",
       "      <th>A#</th>\n",
       "      <th>B</th>\n",
       "    </tr>\n",
       "  </thead>\n",
       "  <tbody>\n",
       "    <tr>\n",
       "      <th>0</th>\n",
       "      <td>0.00000</td>\n",
       "      <td>1.000</td>\n",
       "      <td>0.725</td>\n",
       "      <td>0.337</td>\n",
       "      <td>0.371</td>\n",
       "      <td>0.431</td>\n",
       "      <td>0.408</td>\n",
       "      <td>0.569</td>\n",
       "      <td>0.603</td>\n",
       "      <td>0.690</td>\n",
       "      <td>0.674</td>\n",
       "      <td>0.686</td>\n",
       "      <td>0.120</td>\n",
       "    </tr>\n",
       "    <tr>\n",
       "      <th>1</th>\n",
       "      <td>0.11134</td>\n",
       "      <td>0.038</td>\n",
       "      <td>0.030</td>\n",
       "      <td>0.006</td>\n",
       "      <td>0.010</td>\n",
       "      <td>0.101</td>\n",
       "      <td>0.013</td>\n",
       "      <td>0.034</td>\n",
       "      <td>0.048</td>\n",
       "      <td>0.031</td>\n",
       "      <td>1.000</td>\n",
       "      <td>0.042</td>\n",
       "      <td>0.016</td>\n",
       "    </tr>\n",
       "    <tr>\n",
       "      <th>2</th>\n",
       "      <td>0.95655</td>\n",
       "      <td>0.099</td>\n",
       "      <td>0.042</td>\n",
       "      <td>0.018</td>\n",
       "      <td>0.017</td>\n",
       "      <td>0.124</td>\n",
       "      <td>0.028</td>\n",
       "      <td>0.121</td>\n",
       "      <td>0.221</td>\n",
       "      <td>0.070</td>\n",
       "      <td>1.000</td>\n",
       "      <td>0.063</td>\n",
       "      <td>0.053</td>\n",
       "    </tr>\n",
       "    <tr>\n",
       "      <th>3</th>\n",
       "      <td>1.53175</td>\n",
       "      <td>0.135</td>\n",
       "      <td>0.064</td>\n",
       "      <td>0.053</td>\n",
       "      <td>0.038</td>\n",
       "      <td>0.170</td>\n",
       "      <td>0.044</td>\n",
       "      <td>0.116</td>\n",
       "      <td>0.127</td>\n",
       "      <td>0.149</td>\n",
       "      <td>1.000</td>\n",
       "      <td>0.248</td>\n",
       "      <td>0.035</td>\n",
       "    </tr>\n",
       "    <tr>\n",
       "      <th>4</th>\n",
       "      <td>1.76961</td>\n",
       "      <td>0.032</td>\n",
       "      <td>0.084</td>\n",
       "      <td>0.020</td>\n",
       "      <td>0.024</td>\n",
       "      <td>0.056</td>\n",
       "      <td>0.214</td>\n",
       "      <td>1.000</td>\n",
       "      <td>0.139</td>\n",
       "      <td>0.029</td>\n",
       "      <td>0.032</td>\n",
       "      <td>0.022</td>\n",
       "      <td>0.013</td>\n",
       "    </tr>\n",
       "  </tbody>\n",
       "</table>\n",
       "</div>"
      ],
      "text/plain": [
       "     start      C     C#      D     D#      E      F     F#      G     G#  \\\n",
       "0  0.00000  1.000  0.725  0.337  0.371  0.431  0.408  0.569  0.603  0.690   \n",
       "1  0.11134  0.038  0.030  0.006  0.010  0.101  0.013  0.034  0.048  0.031   \n",
       "2  0.95655  0.099  0.042  0.018  0.017  0.124  0.028  0.121  0.221  0.070   \n",
       "3  1.53175  0.135  0.064  0.053  0.038  0.170  0.044  0.116  0.127  0.149   \n",
       "4  1.76961  0.032  0.084  0.020  0.024  0.056  0.214  1.000  0.139  0.029   \n",
       "\n",
       "       A     A#      B  \n",
       "0  0.674  0.686  0.120  \n",
       "1  1.000  0.042  0.016  \n",
       "2  1.000  0.063  0.053  \n",
       "3  1.000  0.248  0.035  \n",
       "4  0.032  0.022  0.013  "
      ]
     },
     "execution_count": 9,
     "metadata": {},
     "output_type": "execute_result"
    }
   ],
   "source": [
    "# Create a list of the 12 pitch classes\n",
    "semitones = ['C', 'C#', 'D', 'D#', 'E', 'F', 'F#', 'G', 'G#', 'A', 'A#', 'B']\n",
    "\n",
    "# Create a pitch dataframe \n",
    "pitch_df = audio_analysis_df[['start', 'pitches']].copy()\n",
    "\n",
    "# Expand the pitches and label by class\n",
    "for i in range(12):\n",
    "    pitch_df[semitones[i]] = pitch_df['pitches'].apply(lambda x: x[i])\n",
    "\n",
    "# Drop the pitches column\n",
    "pitch_df.drop(['pitches'], axis = 1, inplace = True)\n",
    "\n",
    "# View pitches of first 5 segments\n",
    "pitch_df.head()"
   ]
  },
  {
   "cell_type": "markdown",
   "id": "674dfd65-a7fc-449f-a4bb-12fec9b0f186",
   "metadata": {},
   "source": [
    "<br>\n",
    "\n",
    "According to the documentation, pitches in our data are normalized on a scale of 0 to 1 based on their most prevalent pitch in the analysis. For example, in the data frame above, we can observe that the predominant first five notes are C, A, A, A, and F#.<br>\n",
    "While there has been considerable work done with these audio features, they may still not meet our specific needs."
   ]
  },
  {
   "cell_type": "markdown",
   "id": "b963133f-8419-45d4-bf7f-ce87e656be89",
   "metadata": {},
   "source": [
    "***Why is that?***<br>\n",
    "Even though different instruments can produce the same pitch—such as playing a C note on a piano versus a guitar—the sound we hear is distinct due to a characteristic known as... "
   ]
  },
  {
   "cell_type": "markdown",
   "id": "7bb859f5-ba2a-4b7d-9f70-d7be22303776",
   "metadata": {},
   "source": [
    "<a id='Timbre'></a>\n",
    "\n",
    "### Timbre \n",
    "Timbre (pronounced tam-ber) is a fundamental aspect of music that describes the unique tone color and quality of a sound. It's often described as the \"color\" of music, but it can also be thought of as the way a sound feels. Imagine two people singing the same notes at the same pitch – they might produce the same musical attributes, but they will undoubtedly have distinct timbres due to differences in their vocal qualities, such as breathiness, vibrato, or resonance.<br>\n",
    "I chose to focus on timbre for this project because it's a crucial factor in why people prefer certain songs over others. While rhythm may play a role in this preference, there are still distinctions between songs in the same key that can be attributed to timbre. For instance, a song with a bright, piercing timbre might evoke a different emotional response than one with a warm, mellow timbre. Looking at a 3D model of timbre, then, means we are looking at how a song <i>feels</i>. That's exactly what we are after.<br>\n",
    "Furthermore, it will be timbre that will help us find songs that sound like one another when we build our deep learning model. Look no further than the [audio analysis documentation on Spotify's Developer Site](https://developer.spotify.com/documentation/web-api/reference/get-audio-analysis) on timbre for verification of this: *\"Timbre vectors are best used in comparison with each another.\"*"
   ]
  },
  {
   "cell_type": "markdown",
   "id": "8651e7e4-5bb4-467d-bce0-ccc7c7b11535",
   "metadata": {},
   "source": [
    "Again, let's use the <code>audio_analysis_df</code> to see how these values appear in the audio analysis. We will explore further in the next notebook [Creating a 3D Audio Model](https://nbviewer.org/github/JonYarber/music_modeling/blob/main/python/04Creatinga3DAudioModel.ipynb)."
   ]
  },
  {
   "cell_type": "code",
   "execution_count": 10,
   "id": "c4e9f5b7-ccab-4187-a7be-c17ae658113e",
   "metadata": {},
   "outputs": [
    {
     "data": {
      "text/html": [
       "<div>\n",
       "<style scoped>\n",
       "    .dataframe tbody tr th:only-of-type {\n",
       "        vertical-align: middle;\n",
       "    }\n",
       "\n",
       "    .dataframe tbody tr th {\n",
       "        vertical-align: top;\n",
       "    }\n",
       "\n",
       "    .dataframe thead th {\n",
       "        text-align: right;\n",
       "    }\n",
       "</style>\n",
       "<table border=\"1\" class=\"dataframe\">\n",
       "  <thead>\n",
       "    <tr style=\"text-align: right;\">\n",
       "      <th></th>\n",
       "      <th>start</th>\n",
       "      <th>timbre_1</th>\n",
       "      <th>timbre_2</th>\n",
       "      <th>timbre_3</th>\n",
       "      <th>timbre_4</th>\n",
       "      <th>timbre_5</th>\n",
       "      <th>timbre_6</th>\n",
       "      <th>timbre_7</th>\n",
       "      <th>timbre_8</th>\n",
       "      <th>timbre_9</th>\n",
       "      <th>timbre_10</th>\n",
       "      <th>timbre_11</th>\n",
       "      <th>timbre_12</th>\n",
       "    </tr>\n",
       "  </thead>\n",
       "  <tbody>\n",
       "    <tr>\n",
       "      <th>0</th>\n",
       "      <td>0.00000</td>\n",
       "      <td>0.050</td>\n",
       "      <td>169.954</td>\n",
       "      <td>8.395</td>\n",
       "      <td>-29.988</td>\n",
       "      <td>56.787</td>\n",
       "      <td>-50.228</td>\n",
       "      <td>14.894</td>\n",
       "      <td>3.851</td>\n",
       "      <td>-27.467</td>\n",
       "      <td>0.920</td>\n",
       "      <td>-10.538</td>\n",
       "      <td>-6.641</td>\n",
       "    </tr>\n",
       "    <tr>\n",
       "      <th>1</th>\n",
       "      <td>0.11134</td>\n",
       "      <td>33.644</td>\n",
       "      <td>-23.384</td>\n",
       "      <td>-74.375</td>\n",
       "      <td>34.627</td>\n",
       "      <td>18.404</td>\n",
       "      <td>63.062</td>\n",
       "      <td>7.419</td>\n",
       "      <td>-30.435</td>\n",
       "      <td>-15.794</td>\n",
       "      <td>48.255</td>\n",
       "      <td>36.766</td>\n",
       "      <td>-8.482</td>\n",
       "    </tr>\n",
       "    <tr>\n",
       "      <th>2</th>\n",
       "      <td>0.95655</td>\n",
       "      <td>40.110</td>\n",
       "      <td>5.728</td>\n",
       "      <td>-22.954</td>\n",
       "      <td>30.254</td>\n",
       "      <td>10.283</td>\n",
       "      <td>-4.349</td>\n",
       "      <td>-4.717</td>\n",
       "      <td>-0.904</td>\n",
       "      <td>-1.862</td>\n",
       "      <td>-9.790</td>\n",
       "      <td>-17.182</td>\n",
       "      <td>5.178</td>\n",
       "    </tr>\n",
       "    <tr>\n",
       "      <th>3</th>\n",
       "      <td>1.53175</td>\n",
       "      <td>34.347</td>\n",
       "      <td>-6.780</td>\n",
       "      <td>5.479</td>\n",
       "      <td>-62.715</td>\n",
       "      <td>3.666</td>\n",
       "      <td>-8.412</td>\n",
       "      <td>-9.065</td>\n",
       "      <td>4.048</td>\n",
       "      <td>4.949</td>\n",
       "      <td>-0.829</td>\n",
       "      <td>-11.058</td>\n",
       "      <td>0.388</td>\n",
       "    </tr>\n",
       "    <tr>\n",
       "      <th>4</th>\n",
       "      <td>1.76961</td>\n",
       "      <td>33.805</td>\n",
       "      <td>-53.703</td>\n",
       "      <td>-75.956</td>\n",
       "      <td>43.627</td>\n",
       "      <td>-25.619</td>\n",
       "      <td>-46.175</td>\n",
       "      <td>7.318</td>\n",
       "      <td>-32.674</td>\n",
       "      <td>-14.825</td>\n",
       "      <td>25.307</td>\n",
       "      <td>-9.279</td>\n",
       "      <td>18.329</td>\n",
       "    </tr>\n",
       "  </tbody>\n",
       "</table>\n",
       "</div>"
      ],
      "text/plain": [
       "     start  timbre_1  timbre_2  timbre_3  timbre_4  timbre_5  timbre_6  \\\n",
       "0  0.00000     0.050   169.954     8.395   -29.988    56.787   -50.228   \n",
       "1  0.11134    33.644   -23.384   -74.375    34.627    18.404    63.062   \n",
       "2  0.95655    40.110     5.728   -22.954    30.254    10.283    -4.349   \n",
       "3  1.53175    34.347    -6.780     5.479   -62.715     3.666    -8.412   \n",
       "4  1.76961    33.805   -53.703   -75.956    43.627   -25.619   -46.175   \n",
       "\n",
       "   timbre_7  timbre_8  timbre_9  timbre_10  timbre_11  timbre_12  \n",
       "0    14.894     3.851   -27.467      0.920    -10.538     -6.641  \n",
       "1     7.419   -30.435   -15.794     48.255     36.766     -8.482  \n",
       "2    -4.717    -0.904    -1.862     -9.790    -17.182      5.178  \n",
       "3    -9.065     4.048     4.949     -0.829    -11.058      0.388  \n",
       "4     7.318   -32.674   -14.825     25.307     -9.279     18.329  "
      ]
     },
     "execution_count": 10,
     "metadata": {},
     "output_type": "execute_result"
    }
   ],
   "source": [
    "# Create a pitch dataframe \n",
    "timbre_df = audio_analysis_df[['start', 'timbre']].copy()\n",
    "\n",
    "# Expand the timbres and label\n",
    "for i in range(12):\n",
    "    timbre_df[f'timbre_{i + 1}'] = timbre_df['timbre'].apply(lambda x: x[i])\n",
    "\n",
    "# Drop the original timbre column\n",
    "timbre_df.drop(['timbre'], axis = 1, inplace = True)\n",
    "\n",
    "# Look at first 5 timbre vectors\n",
    "timbre_df.head()"
   ]
  },
  {
   "cell_type": "markdown",
   "id": "6489b753-adc5-4f52-8b0e-5c9944dd0a89",
   "metadata": {},
   "source": [
    "<br>\n",
    "Now that we know what we are looking for and how to obtain it, we will move on to the next step where I will show you how to create the 3D timbre model."
   ]
  },
  {
   "cell_type": "markdown",
   "id": "33331e6a",
   "metadata": {},
   "source": [
    "[Back to top](#top)"
   ]
  }
 ],
 "metadata": {
  "kernelspec": {
   "display_name": "Python 3 (ipykernel)",
   "language": "python",
   "name": "python3"
  },
  "language_info": {
   "codemirror_mode": {
    "name": "ipython",
    "version": 3
   },
   "file_extension": ".py",
   "mimetype": "text/x-python",
   "name": "python",
   "nbconvert_exporter": "python",
   "pygments_lexer": "ipython3",
   "version": "3.12.3"
  }
 },
 "nbformat": 4,
 "nbformat_minor": 5
}
