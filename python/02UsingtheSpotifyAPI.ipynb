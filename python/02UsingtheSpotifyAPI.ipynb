{
 "cells": [
  {
   "cell_type": "markdown",
   "id": "71aa1c10-7fd2-44ce-8505-c72ca0bafd00",
   "metadata": {},
   "source": [
    "<a id='top'></a>\n",
    "# Using the API\n",
    "In this notebook, we will see how to use *Spotipy* in Python to navigate the Spotify API."
   ]
  },
  {
   "cell_type": "markdown",
   "id": "e91dab32-20c1-47a4-97f1-027691ab9a1f",
   "metadata": {},
   "source": [
    "---"
   ]
  },
  {
   "cell_type": "markdown",
   "id": "94e3a983-850f-4206-ad61-ca14836ec2ee",
   "metadata": {},
   "source": [
    "## Prerequisites\n",
    "\n",
    ">I. [Setting up the API Connection](https://nbviewer.org/github/JonYarber/music_modeling/blob/main/python/01SettingUptheAPIConnection.ipynb)"
   ]
  },
  {
   "cell_type": "markdown",
   "id": "a8911958-8330-4716-a269-a6c6b479061c",
   "metadata": {},
   "source": [
    "---"
   ]
  },
  {
   "cell_type": "markdown",
   "id": "1479fe93-95e3-4a42-bfae-75e14f31aae3",
   "metadata": {},
   "source": [
    "## Table of Contents\n",
    "\n",
    "> I. [Connect to Spotify](#ConnectToSpotify)<br>\n",
    "> II. [The Search Function](#TheSearchFunction)<br>\n",
    "> III. [Performing a Search](#PerformSearch)<br>\n",
    "> IV. [Parsing the JSON](#ParsetheJSON)"
   ]
  },
  {
   "cell_type": "markdown",
   "id": "dd8f6612-1d1b-428f-b5e8-78802e236c0d",
   "metadata": {},
   "source": [
    "---"
   ]
  },
  {
   "cell_type": "markdown",
   "id": "65f960a3-b6f9-4a5e-a136-c03063851422",
   "metadata": {},
   "source": [
    "<a id='ConnectToSpotify'></a>\n",
    "\n",
    "### Connect to Spotify\n",
    "Let's create a function that will conveniently get us connected to the Spotify API using the method outlined in the [Setting Up the API Connection](https://nbviewer.org/github/JonYarber/music_modeling/blob/main/python/01SettingUptheAPIConnection.ipynb)."
   ]
  },
  {
   "cell_type": "code",
   "execution_count": 1,
   "id": "20bc89f3-0515-4120-b315-a25aed7ba25d",
   "metadata": {},
   "outputs": [],
   "source": [
    "import spotipy\n",
    "from spotipy.oauth2 import SpotifyClientCredentials\n",
    "\n",
    "def connect_to_spotify():\n",
    "    sp_client_id = input(\"Enter your Spotify Client ID: \")\n",
    "    sp_client_secret = input(\"Enter your Spotify Secret Token: \")\n",
    "    \n",
    "    credentials = SpotifyClientCredentials(client_id = sp_client_id,\n",
    "                                           client_secret = sp_client_secret)\n",
    "    \n",
    "    sp = spotipy.Spotify(client_credentials_manager = credentials)\n",
    "    \n",
    "    print(\"Connected to Spotify!\")\n",
    "\n",
    "    return sp"
   ]
  },
  {
   "cell_type": "code",
   "execution_count": 2,
   "id": "6f6e5f48-4bcd-4d8d-907a-77dd4cdbf43b",
   "metadata": {},
   "outputs": [
    {
     "name": "stdin",
     "output_type": "stream",
     "text": [
      "Enter your Spotify Client ID:  ed9307841d3542df8819aec9a4f0ec84\n",
      "Enter your Spotify Secret Token:  8208717955574be6a24163ed59675094\n"
     ]
    },
    {
     "name": "stdout",
     "output_type": "stream",
     "text": [
      "Connected to Spotify!\n"
     ]
    }
   ],
   "source": [
    "sp = connect_to_spotify()"
   ]
  },
  {
   "cell_type": "markdown",
   "id": "856a770a-6b9c-4700-ac8a-d7d173f95bad",
   "metadata": {},
   "source": [
    "<a name='TheSearchFunction'></a>\n",
    "<br>\n",
    "\n",
    "### The Search Function\n",
    "It all starts with a search!<br>\n",
    "Spotify assigns each track and artist a unique resource identifier (URI), which is essential for retrieving specific information about them. We obtain these URIs by using the <code>search</code> method from our connection object, <code>sp</code>. For detailed information on the <code>search</code> feature, please refer to the *[Spotipy documentation](https://spotipy.readthedocs.io/en/2.24.0/#spotipy.client.Spotify.search)*.<br>\n",
    "<br>\n",
    "\n",
    "For this project, we will be performing a **track** search by setting the <code>type</code> parameter to **'track'**. Here is an example of the syntax:<br>\n",
    "<br>\n",
    "\n",
    "<code>sp.search('Santa Baby', type = 'track')</code><br>\n",
    "<br>\n",
    "\n",
    "There are three reasons for utilizing search the type **'track'** on this project:<br>\n",
    "1. We need are modeling songs, so we need a track URI.\n",
    "1. We can obtain both the track and artist URI from a track search, if needed.\n",
    "1. We can add the name of the artist to the search term.<br>\n",
    "\n",
    "The search will always return the specified number of results (the <code>limit</code> parameter, default 10) regardless of how good a match the result is. To ensure the first result is the correct result, that third item in the list is important."
   ]
  },
  {
   "cell_type": "markdown",
   "id": "51dfe093-63cc-4de5-bc4c-e8840c073cc8",
   "metadata": {},
   "source": [
    "<a id='PerformSearch'></a>\n",
    "<br>\n",
    "\n",
    "### Performing a Search\n",
    "Assume we want the URI for Kelly Clarkson's version of the Christmas song <i>Santa Baby</i>. Without specifying the artist name and just executing a search for the track name we get the following results:<br>\n",
    "*(Ignore syntax for the time being. We will cover this next.)*"
   ]
  },
  {
   "cell_type": "code",
   "execution_count": 3,
   "id": "d9cda0ca-58c5-4c2b-bdf8-f9c981c7d681",
   "metadata": {},
   "outputs": [
    {
     "name": "stdout",
     "output_type": "stream",
     "text": [
      "Artist: Eartha Kitt\n",
      "Track: Santa Baby\n",
      "------------------------------\n",
      "Artist: Eartha Kitt\n",
      "Track: Santa Baby (with Henri René & His Orchestra)\n",
      "------------------------------\n",
      "Artist: Sleighbelle\n",
      "Track: Santa Baby\n",
      "------------------------------\n",
      "Artist: Michael Bublé\n",
      "Track: Santa Baby\n",
      "------------------------------\n",
      "Artist: Ariana Grande\n",
      "Track: Santa Baby\n",
      "------------------------------\n",
      "Artist: Madonna\n",
      "Track: Santa Baby\n",
      "------------------------------\n",
      "Artist: Taylor Swift\n",
      "Track: Santa Baby\n",
      "------------------------------\n",
      "Artist: Kellie Pickler\n",
      "Track: Santa Baby\n",
      "------------------------------\n",
      "Artist: SNAP!\n",
      "Track: The Power\n",
      "------------------------------\n",
      "Artist: Matt Marantz Quartet\n",
      "Track: Santa Baby\n",
      "------------------------------\n",
      "Artist: Kelly Clarkson\n",
      "Track: Santa Baby\n",
      "------------------------------\n",
      "Artist: Milli Vanilli\n",
      "Track: Girl You Know It's True\n",
      "------------------------------\n",
      "Artist: Michael Bublé\n",
      "Track: Santa Baby\n",
      "------------------------------\n",
      "Artist: Kelly Clarkson\n",
      "Track: Santa, Can’t You Hear Me\n",
      "------------------------------\n",
      "Artist: Sparrow & Bird\n",
      "Track: Santa Baby\n",
      "------------------------------\n"
     ]
    }
   ],
   "source": [
    "for item in sp.search('Santa Baby', type = 'track', limit = 15)['tracks']['items']:\n",
    "    print(f'Artist: {item['artists'][0]['name']}')\n",
    "    print(f'Track: {item['name']}')\n",
    "    print('-' * 30)"
   ]
  },
  {
   "cell_type": "markdown",
   "id": "77f18b9e-a370-4107-970d-67cf3e7dd865",
   "metadata": {},
   "source": [
    "<br>Notice I had to set the <code>limit</code> to 15 just to find our desired track. If this was the only way to retrieve that track URI, we would have to add some frustrating layers to our processing. However, we can avoid all that and ensure that we get the correct result by informing both the artist and track name in the search term as follows:"
   ]
  },
  {
   "cell_type": "code",
   "execution_count": 4,
   "id": "ceeda340-127c-4184-8b2e-f6136a9c0fd4",
   "metadata": {},
   "outputs": [
    {
     "name": "stdout",
     "output_type": "stream",
     "text": [
      "Artist: Kelly Clarkson\n",
      "Track: Santa Baby\n"
     ]
    }
   ],
   "source": [
    "# The spacing is important!\n",
    "search_term = f'artist:Kelly Clarkson track:Santa Baby'\n",
    "\n",
    "# Let's just see what the first result returns\n",
    "search_result = sp.search(search_term, type = 'track')['tracks']['items'][0]\n",
    "\n",
    "print(f'Artist: {search_result['artists'][0]['name']}')\n",
    "print(f'Track: {search_result['name']}')"
   ]
  },
  {
   "cell_type": "markdown",
   "id": "ff42d4ea-36dd-4330-918e-a6a3c8e0611d",
   "metadata": {},
   "source": [
    "<a id='ParsetheJSON'></a>\n",
    "<br>\n",
    "\n",
    "### Parsing the JSON\n",
    "Now that we know how to use <code>search</code>, let's see how to get what we need from the result.<br>\n",
    "As I'm sure you've already gathered, the results of the search are in JSON format. We will be examining how to retrieve *very specific* items from the result. If you are unfamiliar with JSON dictionaries I highly recommend giving [this](https://en.wikipedia.org/wiki/JSON) a quick read.<br>\n",
    "I will be displaying the JSON results in a data frame format for readability.<br>\n",
    "<br>\n",
    "Before proceeding let's store the search results of <i>Santa Baby</i> into a variable."
   ]
  },
  {
   "cell_type": "code",
   "execution_count": 5,
   "id": "b360ed80-8422-4a5e-92ea-7d38730c81c4",
   "metadata": {},
   "outputs": [],
   "source": [
    "search_results = sp.search('Santa Baby', limit = 15)"
   ]
  },
  {
   "cell_type": "markdown",
   "id": "58174a42-1447-4157-a421-89ee3ec936dc",
   "metadata": {},
   "source": [
    "<br>\n",
    "\n",
    "#### Layer 1: 'tracks'\n",
    "With 15 results specificied, we would expect the length of our dictionary to be 15. However, it is not:"
   ]
  },
  {
   "cell_type": "code",
   "execution_count": 6,
   "id": "628218f6-ce5b-4f82-b8d1-f5b7552aa330",
   "metadata": {},
   "outputs": [
    {
     "data": {
      "text/plain": [
       "1"
      ]
     },
     "execution_count": 6,
     "metadata": {},
     "output_type": "execute_result"
    }
   ],
   "source": [
    "len(search_results)"
   ]
  },
  {
   "cell_type": "markdown",
   "id": "568de828-2509-4e7a-8c5d-575c8acb41f2",
   "metadata": {},
   "source": [
    "<br>\n",
    "\n",
    "This is because everything the very first term the dictionary, **'tracks'**, stores information regarding the query itself. Here's a better view:"
   ]
  },
  {
   "cell_type": "code",
   "execution_count": 7,
   "id": "1bad84de-c9b9-4419-b011-f2ffa328c862",
   "metadata": {},
   "outputs": [
    {
     "data": {
      "text/html": [
       "<div>\n",
       "<style scoped>\n",
       "    .dataframe tbody tr th:only-of-type {\n",
       "        vertical-align: middle;\n",
       "    }\n",
       "\n",
       "    .dataframe tbody tr th {\n",
       "        vertical-align: top;\n",
       "    }\n",
       "\n",
       "    .dataframe thead th {\n",
       "        text-align: right;\n",
       "    }\n",
       "</style>\n",
       "<table border=\"1\" class=\"dataframe\">\n",
       "  <thead>\n",
       "    <tr style=\"text-align: right;\">\n",
       "      <th></th>\n",
       "      <th>tracks</th>\n",
       "    </tr>\n",
       "  </thead>\n",
       "  <tbody>\n",
       "    <tr>\n",
       "      <th>href</th>\n",
       "      <td>https://api.spotify.com/v1/search?query=Withou...</td>\n",
       "    </tr>\n",
       "    <tr>\n",
       "      <th>items</th>\n",
       "      <td>[{'album': {'album_type': 'album', 'artists': ...</td>\n",
       "    </tr>\n",
       "    <tr>\n",
       "      <th>limit</th>\n",
       "      <td>15</td>\n",
       "    </tr>\n",
       "    <tr>\n",
       "      <th>next</th>\n",
       "      <td>https://api.spotify.com/v1/search?query=Withou...</td>\n",
       "    </tr>\n",
       "    <tr>\n",
       "      <th>offset</th>\n",
       "      <td>0</td>\n",
       "    </tr>\n",
       "    <tr>\n",
       "      <th>previous</th>\n",
       "      <td>None</td>\n",
       "    </tr>\n",
       "    <tr>\n",
       "      <th>total</th>\n",
       "      <td>991</td>\n",
       "    </tr>\n",
       "  </tbody>\n",
       "</table>\n",
       "</div>"
      ],
      "text/plain": [
       "                                                     tracks\n",
       "href      https://api.spotify.com/v1/search?query=Withou...\n",
       "items     [{'album': {'album_type': 'album', 'artists': ...\n",
       "limit                                                    15\n",
       "next      https://api.spotify.com/v1/search?query=Withou...\n",
       "offset                                                    0\n",
       "previous                                               None\n",
       "total                                                   991"
      ]
     },
     "execution_count": 7,
     "metadata": {},
     "output_type": "execute_result"
    }
   ],
   "source": [
    "import pandas as pd\n",
    "\n",
    "pd.DataFrame(search_results)"
   ]
  },
  {
   "cell_type": "markdown",
   "id": "08e96ce2-3aa3-498e-b551-d2d87d018511",
   "metadata": {},
   "source": [
    "To get what we need, we need to go down another layer."
   ]
  },
  {
   "cell_type": "markdown",
   "id": "c636ab5e-098e-4add-a2cb-7bfb8661ee9f",
   "metadata": {},
   "source": [
    "<br>\n",
    "\n",
    "#### Layer 2: 'items'\n",
    "From the above data frame we see that the information we need appears in **'items'**:"
   ]
  },
  {
   "cell_type": "code",
   "execution_count": 8,
   "id": "810a3dd1-df11-44ad-a62f-d29ee3efd50a",
   "metadata": {},
   "outputs": [
    {
     "data": {
      "text/plain": [
       "15"
      ]
     },
     "execution_count": 8,
     "metadata": {},
     "output_type": "execute_result"
    }
   ],
   "source": [
    "len(search_results['tracks']['items'])"
   ]
  },
  {
   "cell_type": "markdown",
   "id": "53a37cc5-f69c-4bb6-9d34-bb08573c405d",
   "metadata": {},
   "source": [
    "<br>\n",
    "\n",
    "That's what we want to see. This means that any time we perform a search, we can immediately go down two layers to **'items'**."
   ]
  },
  {
   "cell_type": "code",
   "execution_count": 9,
   "id": "6f9778f7-2db5-4654-a170-e02e47244d08",
   "metadata": {},
   "outputs": [
    {
     "data": {
      "text/html": [
       "<div>\n",
       "<style scoped>\n",
       "    .dataframe tbody tr th:only-of-type {\n",
       "        vertical-align: middle;\n",
       "    }\n",
       "\n",
       "    .dataframe tbody tr th {\n",
       "        vertical-align: top;\n",
       "    }\n",
       "\n",
       "    .dataframe thead th {\n",
       "        text-align: right;\n",
       "    }\n",
       "</style>\n",
       "<table border=\"1\" class=\"dataframe\">\n",
       "  <thead>\n",
       "    <tr style=\"text-align: right;\">\n",
       "      <th></th>\n",
       "      <th>album</th>\n",
       "      <th>artists</th>\n",
       "      <th>available_markets</th>\n",
       "      <th>disc_number</th>\n",
       "      <th>duration_ms</th>\n",
       "      <th>explicit</th>\n",
       "      <th>external_ids</th>\n",
       "      <th>external_urls</th>\n",
       "      <th>href</th>\n",
       "      <th>id</th>\n",
       "      <th>is_local</th>\n",
       "      <th>name</th>\n",
       "      <th>popularity</th>\n",
       "      <th>preview_url</th>\n",
       "      <th>track_number</th>\n",
       "      <th>type</th>\n",
       "      <th>uri</th>\n",
       "    </tr>\n",
       "  </thead>\n",
       "  <tbody>\n",
       "    <tr>\n",
       "      <th>0</th>\n",
       "      <td>{'album_type': 'compilation', 'artists': [{'ex...</td>\n",
       "      <td>[{'external_urls': {'spotify': 'https://open.s...</td>\n",
       "      <td>[AR, AU, AT, BE, BO, BR, BG, CA, CL, CO, CR, C...</td>\n",
       "      <td>1</td>\n",
       "      <td>206506</td>\n",
       "      <td>False</td>\n",
       "      <td>{'isrc': 'USRC15302564'}</td>\n",
       "      <td>{'spotify': 'https://open.spotify.com/track/59...</td>\n",
       "      <td>https://api.spotify.com/v1/tracks/59hKzj0h6Elh...</td>\n",
       "      <td>59hKzj0h6ElhQv8rBqvpUz</td>\n",
       "      <td>False</td>\n",
       "      <td>Santa Baby</td>\n",
       "      <td>41</td>\n",
       "      <td>https://p.scdn.co/mp3-preview/142f12b53eb0cbec...</td>\n",
       "      <td>9</td>\n",
       "      <td>track</td>\n",
       "      <td>spotify:track:59hKzj0h6ElhQv8rBqvpUz</td>\n",
       "    </tr>\n",
       "    <tr>\n",
       "      <th>1</th>\n",
       "      <td>{'album_type': 'album', 'artists': [{'external...</td>\n",
       "      <td>[{'external_urls': {'spotify': 'https://open.s...</td>\n",
       "      <td>[AR, AU, AT, BE, BO, BR, BG, CA, CL, CO, CR, C...</td>\n",
       "      <td>1</td>\n",
       "      <td>206066</td>\n",
       "      <td>False</td>\n",
       "      <td>{'isrc': 'USBB10101085'}</td>\n",
       "      <td>{'spotify': 'https://open.spotify.com/track/1f...</td>\n",
       "      <td>https://api.spotify.com/v1/tracks/1foCxQtxBweJ...</td>\n",
       "      <td>1foCxQtxBweJtZmdxhEHVO</td>\n",
       "      <td>False</td>\n",
       "      <td>Santa Baby (with Henri René &amp; His Orchestra)</td>\n",
       "      <td>59</td>\n",
       "      <td>https://p.scdn.co/mp3-preview/0103100b0fab715e...</td>\n",
       "      <td>13</td>\n",
       "      <td>track</td>\n",
       "      <td>spotify:track:1foCxQtxBweJtZmdxhEHVO</td>\n",
       "    </tr>\n",
       "    <tr>\n",
       "      <th>2</th>\n",
       "      <td>{'album_type': 'single', 'artists': [{'externa...</td>\n",
       "      <td>[{'external_urls': {'spotify': 'https://open.s...</td>\n",
       "      <td>[AR, AU, AT, BE, BO, BR, BG, CA, CL, CO, CR, C...</td>\n",
       "      <td>1</td>\n",
       "      <td>120592</td>\n",
       "      <td>False</td>\n",
       "      <td>{'isrc': 'QZTB72300934'}</td>\n",
       "      <td>{'spotify': 'https://open.spotify.com/track/0K...</td>\n",
       "      <td>https://api.spotify.com/v1/tracks/0Kj9Ft2fbVqS...</td>\n",
       "      <td>0Kj9Ft2fbVqSyulX2tOBS5</td>\n",
       "      <td>False</td>\n",
       "      <td>Santa Baby</td>\n",
       "      <td>39</td>\n",
       "      <td>https://p.scdn.co/mp3-preview/3da43f651229bfe2...</td>\n",
       "      <td>1</td>\n",
       "      <td>track</td>\n",
       "      <td>spotify:track:0Kj9Ft2fbVqSyulX2tOBS5</td>\n",
       "    </tr>\n",
       "    <tr>\n",
       "      <th>3</th>\n",
       "      <td>{'album_type': 'album', 'artists': [{'external...</td>\n",
       "      <td>[{'external_urls': {'spotify': 'https://open.s...</td>\n",
       "      <td>[AR, AU, AT, BE, BO, BR, BG, CA, CL, CO, CR, C...</td>\n",
       "      <td>1</td>\n",
       "      <td>231626</td>\n",
       "      <td>False</td>\n",
       "      <td>{'isrc': 'USRE11100706'}</td>\n",
       "      <td>{'spotify': 'https://open.spotify.com/track/3m...</td>\n",
       "      <td>https://api.spotify.com/v1/tracks/3m2gfwcxl77o...</td>\n",
       "      <td>3m2gfwcxl77ojJTWH3wZkb</td>\n",
       "      <td>False</td>\n",
       "      <td>Santa Baby</td>\n",
       "      <td>36</td>\n",
       "      <td>https://p.scdn.co/mp3-preview/d9d4755e733e0d55...</td>\n",
       "      <td>7</td>\n",
       "      <td>track</td>\n",
       "      <td>spotify:track:3m2gfwcxl77ojJTWH3wZkb</td>\n",
       "    </tr>\n",
       "    <tr>\n",
       "      <th>4</th>\n",
       "      <td>{'album_type': 'single', 'artists': [{'externa...</td>\n",
       "      <td>[{'external_urls': {'spotify': 'https://open.s...</td>\n",
       "      <td>[AR, AU, AT, BE, BO, BR, BG, CA, CL, CO, CR, C...</td>\n",
       "      <td>1</td>\n",
       "      <td>170933</td>\n",
       "      <td>False</td>\n",
       "      <td>{'isrc': 'USUM71318549'}</td>\n",
       "      <td>{'spotify': 'https://open.spotify.com/track/6Y...</td>\n",
       "      <td>https://api.spotify.com/v1/tracks/6YJdPrH3i2PO...</td>\n",
       "      <td>6YJdPrH3i2POzu7hdHIRrb</td>\n",
       "      <td>False</td>\n",
       "      <td>Santa Baby</td>\n",
       "      <td>53</td>\n",
       "      <td>None</td>\n",
       "      <td>4</td>\n",
       "      <td>track</td>\n",
       "      <td>spotify:track:6YJdPrH3i2POzu7hdHIRrb</td>\n",
       "    </tr>\n",
       "  </tbody>\n",
       "</table>\n",
       "</div>"
      ],
      "text/plain": [
       "                                               album  \\\n",
       "0  {'album_type': 'compilation', 'artists': [{'ex...   \n",
       "1  {'album_type': 'album', 'artists': [{'external...   \n",
       "2  {'album_type': 'single', 'artists': [{'externa...   \n",
       "3  {'album_type': 'album', 'artists': [{'external...   \n",
       "4  {'album_type': 'single', 'artists': [{'externa...   \n",
       "\n",
       "                                             artists  \\\n",
       "0  [{'external_urls': {'spotify': 'https://open.s...   \n",
       "1  [{'external_urls': {'spotify': 'https://open.s...   \n",
       "2  [{'external_urls': {'spotify': 'https://open.s...   \n",
       "3  [{'external_urls': {'spotify': 'https://open.s...   \n",
       "4  [{'external_urls': {'spotify': 'https://open.s...   \n",
       "\n",
       "                                   available_markets  disc_number  \\\n",
       "0  [AR, AU, AT, BE, BO, BR, BG, CA, CL, CO, CR, C...            1   \n",
       "1  [AR, AU, AT, BE, BO, BR, BG, CA, CL, CO, CR, C...            1   \n",
       "2  [AR, AU, AT, BE, BO, BR, BG, CA, CL, CO, CR, C...            1   \n",
       "3  [AR, AU, AT, BE, BO, BR, BG, CA, CL, CO, CR, C...            1   \n",
       "4  [AR, AU, AT, BE, BO, BR, BG, CA, CL, CO, CR, C...            1   \n",
       "\n",
       "   duration_ms  explicit              external_ids  \\\n",
       "0       206506     False  {'isrc': 'USRC15302564'}   \n",
       "1       206066     False  {'isrc': 'USBB10101085'}   \n",
       "2       120592     False  {'isrc': 'QZTB72300934'}   \n",
       "3       231626     False  {'isrc': 'USRE11100706'}   \n",
       "4       170933     False  {'isrc': 'USUM71318549'}   \n",
       "\n",
       "                                       external_urls  \\\n",
       "0  {'spotify': 'https://open.spotify.com/track/59...   \n",
       "1  {'spotify': 'https://open.spotify.com/track/1f...   \n",
       "2  {'spotify': 'https://open.spotify.com/track/0K...   \n",
       "3  {'spotify': 'https://open.spotify.com/track/3m...   \n",
       "4  {'spotify': 'https://open.spotify.com/track/6Y...   \n",
       "\n",
       "                                                href                      id  \\\n",
       "0  https://api.spotify.com/v1/tracks/59hKzj0h6Elh...  59hKzj0h6ElhQv8rBqvpUz   \n",
       "1  https://api.spotify.com/v1/tracks/1foCxQtxBweJ...  1foCxQtxBweJtZmdxhEHVO   \n",
       "2  https://api.spotify.com/v1/tracks/0Kj9Ft2fbVqS...  0Kj9Ft2fbVqSyulX2tOBS5   \n",
       "3  https://api.spotify.com/v1/tracks/3m2gfwcxl77o...  3m2gfwcxl77ojJTWH3wZkb   \n",
       "4  https://api.spotify.com/v1/tracks/6YJdPrH3i2PO...  6YJdPrH3i2POzu7hdHIRrb   \n",
       "\n",
       "   is_local                                          name  popularity  \\\n",
       "0     False                                    Santa Baby          41   \n",
       "1     False  Santa Baby (with Henri René & His Orchestra)          59   \n",
       "2     False                                    Santa Baby          39   \n",
       "3     False                                    Santa Baby          36   \n",
       "4     False                                    Santa Baby          53   \n",
       "\n",
       "                                         preview_url  track_number   type  \\\n",
       "0  https://p.scdn.co/mp3-preview/142f12b53eb0cbec...             9  track   \n",
       "1  https://p.scdn.co/mp3-preview/0103100b0fab715e...            13  track   \n",
       "2  https://p.scdn.co/mp3-preview/3da43f651229bfe2...             1  track   \n",
       "3  https://p.scdn.co/mp3-preview/d9d4755e733e0d55...             7  track   \n",
       "4                                               None             4  track   \n",
       "\n",
       "                                    uri  \n",
       "0  spotify:track:59hKzj0h6ElhQv8rBqvpUz  \n",
       "1  spotify:track:1foCxQtxBweJtZmdxhEHVO  \n",
       "2  spotify:track:0Kj9Ft2fbVqSyulX2tOBS5  \n",
       "3  spotify:track:3m2gfwcxl77ojJTWH3wZkb  \n",
       "4  spotify:track:6YJdPrH3i2POzu7hdHIRrb  "
      ]
     },
     "execution_count": 9,
     "metadata": {},
     "output_type": "execute_result"
    }
   ],
   "source": [
    "# Redo search result, except parse JSON down to 'items'\n",
    "search_results = sp.search('Santa Baby', limit = 15)['tracks']['items']\n",
    "\n",
    "# View search results (first 5)\n",
    "pd.DataFrame(search_results).head()"
   ]
  },
  {
   "cell_type": "markdown",
   "id": "83878e82-1788-4a27-a1f7-a706b09d61b7",
   "metadata": {},
   "source": [
    "<br>\n",
    "\n",
    "This is where we find our track URI (**'uri'**). Knowing how to search for a specific track and artist, how to limit our search results, and how to get down to this layer, we can now easily retrieve this:"
   ]
  },
  {
   "cell_type": "code",
   "execution_count": 10,
   "id": "3a5c77e0-9506-41c2-acbc-e6e4475169f6",
   "metadata": {},
   "outputs": [
    {
     "name": "stdout",
     "output_type": "stream",
     "text": [
      "Track URI: spotify:track:4sZBHxlO97cnA7SUbNjvNy\n"
     ]
    }
   ],
   "source": [
    "search_term = f'artist:Kelly Clarkson track:Santa Baby'\n",
    "\n",
    "# Even though we're only specifying 1 result, we still have to specify the index of that item, [0]\n",
    "specific_search_result = sp.search(search_term, type = 'track', limit = 1)['tracks']['items'][0]\n",
    "\n",
    "print(f'Track URI: {specific_search_result['uri']}')"
   ]
  },
  {
   "cell_type": "markdown",
   "id": "45d0730f-32dd-427c-976e-b5604618377f",
   "metadata": {},
   "source": [
    "<br>\n",
    "\n",
    "#### Layer 3: 'artists'\n",
    "Even though we feel good about using the song and artist name in the search term, we are still going to want to be sure we got the right artist. For this, we need to go down one more layer to **'artists'**."
   ]
  },
  {
   "cell_type": "code",
   "execution_count": 11,
   "id": "652fb576-bba6-46fc-a410-d80593c3e9a4",
   "metadata": {},
   "outputs": [
    {
     "data": {
      "text/html": [
       "<div>\n",
       "<style scoped>\n",
       "    .dataframe tbody tr th:only-of-type {\n",
       "        vertical-align: middle;\n",
       "    }\n",
       "\n",
       "    .dataframe tbody tr th {\n",
       "        vertical-align: top;\n",
       "    }\n",
       "\n",
       "    .dataframe thead th {\n",
       "        text-align: right;\n",
       "    }\n",
       "</style>\n",
       "<table border=\"1\" class=\"dataframe\">\n",
       "  <thead>\n",
       "    <tr style=\"text-align: right;\">\n",
       "      <th></th>\n",
       "      <th>external_urls</th>\n",
       "      <th>href</th>\n",
       "      <th>id</th>\n",
       "      <th>name</th>\n",
       "      <th>type</th>\n",
       "      <th>uri</th>\n",
       "    </tr>\n",
       "  </thead>\n",
       "  <tbody>\n",
       "    <tr>\n",
       "      <th>0</th>\n",
       "      <td>{'spotify': 'https://open.spotify.com/artist/3...</td>\n",
       "      <td>https://api.spotify.com/v1/artists/3BmGtnKgCSG...</td>\n",
       "      <td>3BmGtnKgCSGYIUhmivXKWX</td>\n",
       "      <td>Kelly Clarkson</td>\n",
       "      <td>artist</td>\n",
       "      <td>spotify:artist:3BmGtnKgCSGYIUhmivXKWX</td>\n",
       "    </tr>\n",
       "  </tbody>\n",
       "</table>\n",
       "</div>"
      ],
      "text/plain": [
       "                                       external_urls  \\\n",
       "0  {'spotify': 'https://open.spotify.com/artist/3...   \n",
       "\n",
       "                                                href                      id  \\\n",
       "0  https://api.spotify.com/v1/artists/3BmGtnKgCSG...  3BmGtnKgCSGYIUhmivXKWX   \n",
       "\n",
       "             name    type                                    uri  \n",
       "0  Kelly Clarkson  artist  spotify:artist:3BmGtnKgCSGYIUhmivXKWX  "
      ]
     },
     "execution_count": 11,
     "metadata": {},
     "output_type": "execute_result"
    }
   ],
   "source": [
    "pd.DataFrame(specific_search_result['artists'])"
   ]
  },
  {
   "cell_type": "markdown",
   "id": "3eacc561-76ff-4874-a417-7110b2e8ca74",
   "metadata": {},
   "source": [
    "<br>\n",
    "\n",
    "There's what we need in **'name'**:"
   ]
  },
  {
   "cell_type": "code",
   "execution_count": 12,
   "id": "4920a4df-a62b-491e-b7cf-b82384bbe818",
   "metadata": {},
   "outputs": [
    {
     "name": "stdout",
     "output_type": "stream",
     "text": [
      "Artist Name: Kelly Clarkson\n"
     ]
    }
   ],
   "source": [
    "# Again, must specify the specific item by using the index number, [0]\n",
    "print(f'Artist Name: {specific_search_result['artists'][0]['name']}')"
   ]
  },
  {
   "cell_type": "markdown",
   "id": "8ca311f8-339f-411e-8e76-acbe1a51e970",
   "metadata": {},
   "source": [
    "<br>"
   ]
  },
  {
   "cell_type": "markdown",
   "id": "b3cf0449-e130-416a-8d8c-c2c9c33700c5",
   "metadata": {},
   "source": [
    "<br>\n",
    "\n",
    "#### Put It All Together\n",
    "Let's do one last search in which we put it all together to get the track name, track URI, and artist name."
   ]
  },
  {
   "cell_type": "code",
   "execution_count": 13,
   "id": "a9576ade-d579-418d-8c9d-5efe9284d261",
   "metadata": {},
   "outputs": [
    {
     "name": "stdout",
     "output_type": "stream",
     "text": [
      "Artist:\t\tThe Beatles\n",
      "Track:\t\tHello, Goodbye - Remastered 2009\n",
      "Track URI:\tspotify:track:0vZ97gHhemKm6c64hTfJNA\n"
     ]
    }
   ],
   "source": [
    "# Create search term\n",
    "search_term = f'artist:Beatles track:Hello Goodbye'\n",
    "\n",
    "# Store result of search\n",
    "search_result = sp.search(search_term, type = 'track', limit = 1)['tracks']['items'][0]\n",
    "\n",
    "# Store track name as returned by Spotify\n",
    "track_title = search_result['name']\n",
    "\n",
    "# Store track URI\n",
    "track_uri = search_result['uri']\n",
    "\n",
    "# Store artist name \n",
    "track_artist = search_result['artists'][0]['name']\n",
    "\n",
    "\n",
    "print(f'Artist:\\t\\t{track_artist}')\n",
    "print(f'Track:\\t\\t{track_title}')\n",
    "print(f'Track URI:\\t{track_uri}')"
   ]
  },
  {
   "cell_type": "markdown",
   "id": "6bbde4e5-1bd1-401e-840f-9080909d1a6f",
   "metadata": {},
   "source": [
    "<br>\n",
    "\n",
    "In the next notebook, [Spotify Audio Data Insights](https://nbviewer.org/github/JonYarber/music_modeling/blob/main/python/03SpotifyAudioDataInsights.ipynb), we will learn how to use this information to retrieve track features and analyses."
   ]
  },
  {
   "cell_type": "markdown",
   "id": "bf76acd9-73b8-4712-bb29-f852ea018646",
   "metadata": {},
   "source": [
    "<a href='#top'>Back to Top</a>"
   ]
  }
 ],
 "metadata": {
  "kernelspec": {
   "display_name": "Python 3 (ipykernel)",
   "language": "python",
   "name": "python3"
  },
  "language_info": {
   "codemirror_mode": {
    "name": "ipython",
    "version": 3
   },
   "file_extension": ".py",
   "mimetype": "text/x-python",
   "name": "python",
   "nbconvert_exporter": "python",
   "pygments_lexer": "ipython3",
   "version": "3.12.3"
  }
 },
 "nbformat": 4,
 "nbformat_minor": 5
}
