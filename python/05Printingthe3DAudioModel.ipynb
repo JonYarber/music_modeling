{
 "cells": [
  {
   "cell_type": "markdown",
   "id": "30f01438-e0c9-45c2-947f-1a4e824af6cb",
   "metadata": {},
   "source": [
    "# <a id='top'></a> Creating a 3D Print\n",
    "In this notebook we will use everything we've learned to create an STL file to send to our 3D printer.<br>\n",
    "<br>\n",
    "*The methodology works, but unfortunately the model created was not able to be printed. Read on for more details.*"
   ]
  },
  {
   "cell_type": "markdown",
   "id": "6364ef4a-20ed-4e2a-9e87-70e28a8b91d8",
   "metadata": {},
   "source": [
    "---"
   ]
  },
  {
   "cell_type": "markdown",
   "id": "a7ea6088-d677-4f42-9e19-2bd8e8efd816",
   "metadata": {},
   "source": [
    "## Prerequisites\n",
    "[1) Setting Up the API Connection](https://nbviewer.org/github/JonYarber/music_modeling/blob/main/python/01SettingUptheAPIConnection.ipynb)<br>\n",
    "[2) Using the Spotify API](https://nbviewer.org/github/JonYarber/music_modeling/blob/main/python/02UsingtheSpotifyAPI.ipynb)<br>\n",
    "[3) Spotify Audio Data Insights](https://nbviewer.org/github/JonYarber/music_modeling/blob/main/python/03SpotifyAudioDataInsights.ipynb)<br>\n",
    "[4) Creating a 3D Audio Model](https://nbviewer.org/github/JonYarber/music_modeling/blob/main/python/04Creatinga3DAudioModel.ipynb)\n"
   ]
  },
  {
   "cell_type": "markdown",
   "id": "5663d74b-5a65-4cae-8c35-4ebea080a894",
   "metadata": {},
   "source": [
    "---"
   ]
  },
  {
   "cell_type": "markdown",
   "id": "0d14c235-16b6-4b32-a8a0-c520c4651335",
   "metadata": {},
   "source": [
    "## Table of Contents\n",
    "* [Libraries](#Librarires)\n",
    "* [Functions](#Functions)\n",
    "  * [Connect to Spotify](#ConnectToSpotify)\n",
    "  * [Find Track URI](#FindURI)\n",
    "  * [Create Timbre Data Frame](#CreateTimbreDF)\n",
    "* [Create STL File](#CreateSTL)\n",
    "  1. [Build Data Frame](#BuildDF)\n",
    "  1. [Set X, Y, & Z](#SetXYZ)\n",
    "  1. [Extract STL File](#ExtractSTL)\n",
    "* [Printing the STL](#PrintSTL)"
   ]
  },
  {
   "cell_type": "markdown",
   "id": "9c1a64c0-2343-4a2c-ba4f-ef766eabf730",
   "metadata": {},
   "source": [
    "---"
   ]
  },
  {
   "cell_type": "markdown",
   "id": "185074e4-bf5c-464a-bb48-2978d5608bfc",
   "metadata": {},
   "source": [
    "## <a id='Libraries'></a>Libraries"
   ]
  },
  {
   "cell_type": "code",
   "execution_count": 1,
   "id": "c826d94f-b55a-418f-b901-23671064483e",
   "metadata": {},
   "outputs": [],
   "source": [
    "import math\n",
    "import spotipy\n",
    "import numpy as np\n",
    "import pandas as pd\n",
    "from sklearn.preprocessing import MinMaxScaler\n",
    "from spotipy.oauth2 import SpotifyClientCredentials"
   ]
  },
  {
   "cell_type": "markdown",
   "id": "f236e069-d9c5-41a0-9deb-55856501c7f4",
   "metadata": {},
   "source": [
    "---"
   ]
  },
  {
   "cell_type": "markdown",
   "id": "b4e1ea10-6884-45be-89b3-17d7dc4bf4d5",
   "metadata": {},
   "source": [
    "## <a id='Functions'></a> Functions\n",
    "We will condense everything we learned in our first 4 notebooks into three, convenient functions."
   ]
  },
  {
   "cell_type": "markdown",
   "id": "c28891ab-5014-45a0-ad93-25ed5dbf7718",
   "metadata": {},
   "source": [
    "### <a id='ConnectToAPID'></a> Connect to Spotify API\n",
    "From [Setting Up the API Connection](https://nbviewer.org/github/JonYarber/music_modeling/blob/main/python/01SettingUptheAPIConnection.ipynb)."
   ]
  },
  {
   "cell_type": "code",
   "execution_count": 2,
   "id": "393dde85-e998-46a0-8944-ea838696e9d5",
   "metadata": {},
   "outputs": [],
   "source": [
    "def connect_to_spotify():\n",
    "    sp_client_id = input(\"Enter your Spotify Client ID: \")\n",
    "    sp_client_secret = input(\"Enter your Spotify Secret Token: \")\n",
    "    \n",
    "    credentials = SpotifyClientCredentials(client_id = sp_client_id,\n",
    "                                           client_secret = sp_client_secret)\n",
    "    \n",
    "    sp = spotipy.Spotify(client_credentials_manager = credentials)\n",
    "    \n",
    "    print(\"Connected to Spotify!\")\n",
    "\n",
    "    return sp"
   ]
  },
  {
   "cell_type": "markdown",
   "id": "7cc79166-6046-4e28-bca2-bbb95c99f4bc",
   "metadata": {},
   "source": [
    "### <a href='FindURI'></a> Find Track URI\n",
    "From [Using the Spotify API](https://nbviewer.org/github/JonYarber/music_modeling/blob/main/python/02UsingtheSpotifyAPI.ipynb)."
   ]
  },
  {
   "cell_type": "code",
   "execution_count": 3,
   "id": "e3e376b3-c23a-4e06-8dc3-f456e62e0398",
   "metadata": {},
   "outputs": [],
   "source": [
    "def get_uri(connection):\n",
    "\n",
    "    print('\\nRetrieving Track URI.')\n",
    "\n",
    "    artist = input(\"Input artist name: \")\n",
    "    track = input(\"Input track name: \")\n",
    "\n",
    "    search_term = f'artist:{artist} track:{track}'\n",
    "\n",
    "    result = connection.search(search_term, type = 'track')['tracks']['items'][0]\n",
    "\n",
    "    # If no result, return to user\n",
    "    if not result:\n",
    "        return print(\"Search returned no result\")\n",
    "    else:\n",
    "        print(\"\\nTrack found!\")\n",
    "\n",
    "    track_uri = result['uri']\n",
    "\n",
    "    artist_name = result['artists'][0]['name']\n",
    "\n",
    "    track_name = result['name']\n",
    "\n",
    "    print(f'\\nTrack name: {track_name}')\n",
    "    print(f'Artist name: {artist_name}')\n",
    "    print(f'Track URI: {track_uri}')\n",
    "\n",
    "    return track_uri"
   ]
  },
  {
   "cell_type": "markdown",
   "id": "ea9c6693-cc91-4ecb-b205-772f0550159c",
   "metadata": {},
   "source": [
    "### <a id='CreateTimbreDF'></a> Create Timbre DataFrame\n",
    "From [Creating a 3D Audio Model](https://nbviewer.org/github/JonYarber/music_modeling/blob/main/python/04Creatinga3DAudioModel.ipynb)."
   ]
  },
  {
   "cell_type": "code",
   "execution_count": 4,
   "id": "9251347b-a9ee-4321-b7d8-8fadc1fd92db",
   "metadata": {},
   "outputs": [],
   "source": [
    "def create_timbre_df(uri):\n",
    "\n",
    "   # Use the track URI to get the audio analysis. We only need the 'segments' portion\n",
    "    segments = sp.audio_analysis(uri)['segments']\n",
    "\n",
    "    # Convert it to a dataframe\n",
    "    segment_df = pd.DataFrame(segments)\n",
    "\n",
    "    # Create the timbre dataframe by selecting only the columns we need: start, loudness_start, timbre\n",
    "    timbre_df = segment_df[['start', 'loudness_start', 'timbre']].copy()\n",
    "\n",
    "    # Rename loudness and start columns\n",
    "    timbre_df = timbre_df.rename(columns = {'loudness_start': 'loudness', 'start': 'start_time'})\n",
    "\n",
    "    # Expand timbres\n",
    "    for i in range(12):\n",
    "        timbre_df[f'timbre_{i + 1}'] = timbre_df['timbre'].apply(lambda x: x[i])\n",
    "\n",
    "    # Drop the original timbre column\n",
    "    timbre_df.drop(['timbre'], axis = 1, inplace = True)\n",
    "\n",
    "    # Add '13th timbre'\n",
    "    timbre_df['timbre_13'] = timbre_df.timbre_1\n",
    "\n",
    "    # Create a list of the timbre columns\n",
    "    timbre_cols = [col for col in timbre_df.columns if col.startswith('timbre_')]\n",
    "    \n",
    "    # Melt the timbres\n",
    "    timbre_df = timbre_df.melt(id_vars = ['start_time', 'loudness'],\n",
    "                               value_vars = timbre_cols,\n",
    "                               var_name = 'timbre_which',\n",
    "                               value_name = 'timbre')\n",
    "    \n",
    "    # Create the 'timbre_num' column by removing the the word 'timbre' in the 'timbre_which' column\n",
    "    timbre_df['timbre_num'] = [int(timbre_which.split('_')[1]) for timbre_which in timbre_df['timbre_which']]\n",
    "    \n",
    "    # Drop the timbre_which column\n",
    "    timbre_df.drop(['timbre_which'], axis = 1, inplace = True)\n",
    "    \n",
    "    # Sort the dataframe by start_time and timbre_num\n",
    "    timbre_df = timbre_df.sort_values(by = ['start_time', 'timbre_num']).reset_index(drop = True)\n",
    "\n",
    "    # Apply the log transform\n",
    "    timbre_df['timbre_log'] = np.log10(timbre_df['timbre'] + 400)\n",
    "\n",
    "    # Apply the MinMax scaler to the timbre column\n",
    "    timbre_df['timbre_scaled'] = MinMaxScaler().fit_transform(timbre_df['timbre'].values.reshape(-1, 1))\n",
    "\n",
    "    # Adjust values to bounds [1, 2]\n",
    "    timbre_df['timbre_scaled'] = timbre_df['timbre_scaled'] + 1\n",
    "\n",
    "    # Apply MinMax scaler to the loudness column. \n",
    "    timbre_df['loudness_scaled'] = MinMaxScaler().fit_transform(timbre_df['loudness'].values.reshape(-1, 1))\n",
    "\n",
    "    # Adjust values to bounds [1, 2]\n",
    "    timbre_df['loudness_scaled'] = timbre_df['loudness_scaled'] + 1\n",
    "\n",
    "    #  Scale timbre_log with loudness\n",
    "    timbre_df['timbre_log_w_loud'] = timbre_df['loudness_scaled'] * timbre_df['timbre_log']\n",
    "    \n",
    "    # Scale timbre_scaled with loudness\n",
    "    timbre_df['timbre_scaled_w_loud'] = timbre_df['loudness_scaled'] * timbre_df['timbre_scaled']\n",
    "\n",
    "    # Create a column of angles based on timbre number (timbre_num)\n",
    "    timbre_df['timbre_angle'] = 30 * timbre_df['timbre_num']\n",
    "    \n",
    "    # The sin and cos functions in the math package will only take the angles as radians. \n",
    "    # Convert the column just created to radians\n",
    "    timbre_df['timbre_angle'] = (math.pi * timbre_df['timbre_angle']) / 180\n",
    "    \n",
    "    # Create timbre_X\n",
    "    # For this, we want to use the timbre_log_w_loud variable\n",
    "    timbre_df['timbre_X'] = round(timbre_df['timbre_log_w_loud'] * timbre_df['timbre_angle'].apply(lambda z: math.cos(z)), 3)\n",
    "    \n",
    "    # Create timbre_Y using timbre_log_w_loud\n",
    "    timbre_df['timbre_Y'] = round(timbre_df['timbre_log_w_loud'] * timbre_df['timbre_angle'].apply(lambda z: math.sin(z)), 3)\n",
    "    \n",
    "    # We don't need the angle column anymore\n",
    "    timbre_df.drop(['timbre_angle'], axis = 1, inplace = True)\n",
    "\n",
    "    return timbre_df"
   ]
  },
  {
   "cell_type": "markdown",
   "id": "26ba2213-6596-43f9-ac20-6102aa3f7970",
   "metadata": {},
   "source": [
    "---"
   ]
  },
  {
   "cell_type": "markdown",
   "id": "8983b1c5-cbf4-400c-bace-4b74ed74117d",
   "metadata": {},
   "source": [
    "## <a id='CreateSTL'></a> Create STL File"
   ]
  },
  {
   "cell_type": "markdown",
   "id": "889520d5-4918-4479-9c89-e85803f45735",
   "metadata": {},
   "source": [
    "### <a id='BuildDF'></a> Build the Data Frame\n",
    "Using the pre-built functions to construct the timbre data frame."
   ]
  },
  {
   "cell_type": "code",
   "execution_count": 5,
   "id": "0e318485-ffa9-446f-8a00-a88747ea8c59",
   "metadata": {},
   "outputs": [
    {
     "name": "stdin",
     "output_type": "stream",
     "text": [
      "Enter your Spotify Client ID:  ed9307841d3542df8819aec9a4f0ec84\n",
      "Enter your Spotify Secret Token:  8208717955574be6a24163ed59675094\n"
     ]
    },
    {
     "name": "stdout",
     "output_type": "stream",
     "text": [
      "Connected to Spotify!\n",
      "\n",
      "Retrieving Track URI.\n"
     ]
    },
    {
     "name": "stdin",
     "output_type": "stream",
     "text": [
      "Input artist name:  Chris Stapleton\n",
      "Input track name:  Tennessee Whiskey\n"
     ]
    },
    {
     "name": "stdout",
     "output_type": "stream",
     "text": [
      "\n",
      "Track found!\n",
      "\n",
      "Track name: Tennessee Whiskey\n",
      "Artist name: Chris Stapleton\n",
      "Track URI: spotify:track:3fqwjXwUGN6vbzIwvyFMhx\n"
     ]
    }
   ],
   "source": [
    "# Don't run if already done\n",
    "if 'sp' not in locals():\n",
    "    sp = connect_to_spotify()\n",
    "\n",
    "# Search and retrieve a track URI\n",
    "track_uri = get_uri(sp)\n",
    "\n",
    "# Create timbre dataframe\n",
    "timbre_df = create_timbre_df(track_uri)"
   ]
  },
  {
   "cell_type": "code",
   "execution_count": 6,
   "id": "c6a97976-1e50-46e2-9f8a-cfa6c32214e4",
   "metadata": {},
   "outputs": [
    {
     "data": {
      "text/html": [
       "<div>\n",
       "<style scoped>\n",
       "    .dataframe tbody tr th:only-of-type {\n",
       "        vertical-align: middle;\n",
       "    }\n",
       "\n",
       "    .dataframe tbody tr th {\n",
       "        vertical-align: top;\n",
       "    }\n",
       "\n",
       "    .dataframe thead th {\n",
       "        text-align: right;\n",
       "    }\n",
       "</style>\n",
       "<table border=\"1\" class=\"dataframe\">\n",
       "  <thead>\n",
       "    <tr style=\"text-align: right;\">\n",
       "      <th></th>\n",
       "      <th>start_time</th>\n",
       "      <th>loudness</th>\n",
       "      <th>timbre</th>\n",
       "      <th>timbre_num</th>\n",
       "      <th>timbre_log</th>\n",
       "      <th>timbre_scaled</th>\n",
       "      <th>loudness_scaled</th>\n",
       "      <th>timbre_log_w_loud</th>\n",
       "      <th>timbre_scaled_w_loud</th>\n",
       "      <th>timbre_X</th>\n",
       "      <th>timbre_Y</th>\n",
       "    </tr>\n",
       "  </thead>\n",
       "  <tbody>\n",
       "    <tr>\n",
       "      <th>0</th>\n",
       "      <td>0.0</td>\n",
       "      <td>-60.0</td>\n",
       "      <td>0.000</td>\n",
       "      <td>1</td>\n",
       "      <td>2.602060</td>\n",
       "      <td>1.445857</td>\n",
       "      <td>1.0</td>\n",
       "      <td>2.602060</td>\n",
       "      <td>1.445857</td>\n",
       "      <td>2.253</td>\n",
       "      <td>1.301</td>\n",
       "    </tr>\n",
       "    <tr>\n",
       "      <th>1</th>\n",
       "      <td>0.0</td>\n",
       "      <td>-60.0</td>\n",
       "      <td>171.130</td>\n",
       "      <td>2</td>\n",
       "      <td>2.756735</td>\n",
       "      <td>1.812343</td>\n",
       "      <td>1.0</td>\n",
       "      <td>2.756735</td>\n",
       "      <td>1.812343</td>\n",
       "      <td>1.378</td>\n",
       "      <td>2.387</td>\n",
       "    </tr>\n",
       "    <tr>\n",
       "      <th>2</th>\n",
       "      <td>0.0</td>\n",
       "      <td>-60.0</td>\n",
       "      <td>9.469</td>\n",
       "      <td>3</td>\n",
       "      <td>2.612221</td>\n",
       "      <td>1.466135</td>\n",
       "      <td>1.0</td>\n",
       "      <td>2.612221</td>\n",
       "      <td>1.466135</td>\n",
       "      <td>0.000</td>\n",
       "      <td>2.612</td>\n",
       "    </tr>\n",
       "    <tr>\n",
       "      <th>3</th>\n",
       "      <td>0.0</td>\n",
       "      <td>-60.0</td>\n",
       "      <td>-28.480</td>\n",
       "      <td>4</td>\n",
       "      <td>2.569982</td>\n",
       "      <td>1.384865</td>\n",
       "      <td>1.0</td>\n",
       "      <td>2.569982</td>\n",
       "      <td>1.384865</td>\n",
       "      <td>-1.285</td>\n",
       "      <td>2.226</td>\n",
       "    </tr>\n",
       "    <tr>\n",
       "      <th>4</th>\n",
       "      <td>0.0</td>\n",
       "      <td>-60.0</td>\n",
       "      <td>57.491</td>\n",
       "      <td>5</td>\n",
       "      <td>2.660383</td>\n",
       "      <td>1.568978</td>\n",
       "      <td>1.0</td>\n",
       "      <td>2.660383</td>\n",
       "      <td>1.568978</td>\n",
       "      <td>-2.304</td>\n",
       "      <td>1.330</td>\n",
       "    </tr>\n",
       "  </tbody>\n",
       "</table>\n",
       "</div>"
      ],
      "text/plain": [
       "   start_time  loudness   timbre  timbre_num  timbre_log  timbre_scaled  \\\n",
       "0         0.0     -60.0    0.000           1    2.602060       1.445857   \n",
       "1         0.0     -60.0  171.130           2    2.756735       1.812343   \n",
       "2         0.0     -60.0    9.469           3    2.612221       1.466135   \n",
       "3         0.0     -60.0  -28.480           4    2.569982       1.384865   \n",
       "4         0.0     -60.0   57.491           5    2.660383       1.568978   \n",
       "\n",
       "   loudness_scaled  timbre_log_w_loud  timbre_scaled_w_loud  timbre_X  \\\n",
       "0              1.0           2.602060              1.445857     2.253   \n",
       "1              1.0           2.756735              1.812343     1.378   \n",
       "2              1.0           2.612221              1.466135     0.000   \n",
       "3              1.0           2.569982              1.384865    -1.285   \n",
       "4              1.0           2.660383              1.568978    -2.304   \n",
       "\n",
       "   timbre_Y  \n",
       "0     1.301  \n",
       "1     2.387  \n",
       "2     2.612  \n",
       "3     2.226  \n",
       "4     1.330  "
      ]
     },
     "execution_count": 6,
     "metadata": {},
     "output_type": "execute_result"
    }
   ],
   "source": [
    "# Check \n",
    "timbre_df.head()"
   ]
  },
  {
   "cell_type": "markdown",
   "id": "8ff9ac3d-c595-4cfc-86c3-41abdd686c87",
   "metadata": {},
   "source": [
    "<br>\n",
    "\n",
    "### <a id='SetXYZ'></a> Set X, Y, and Z Variables\n",
    "From [Creating a 3D Audio Model](https://nbviewer.org/github/JonYarber/music_modeling/blob/main/python/04Creatinga3DAudioModel.ipynb) notebook, generate the two-dimensional X, Y, and Z arrays."
   ]
  },
  {
   "cell_type": "code",
   "execution_count": 8,
   "id": "3c240a0f-b46a-4423-9591-667c18977532",
   "metadata": {},
   "outputs": [
    {
     "name": "stdout",
     "output_type": "stream",
     "text": [
      "Shape of X: (13, 866)\n",
      "Shape of Y: (13, 866)\n",
      "Shape of Z: (13, 866)\n"
     ]
    }
   ],
   "source": [
    "# Store the number of segments in the song for our reshapes\n",
    "num_segments = len(timbre_df.start_time.unique())\n",
    "\n",
    "X = timbre_df.timbre_X.values.reshape(num_segments, 13).T\n",
    "\n",
    "Y = timbre_df.timbre_Y.values.reshape(num_segments, 13).T\n",
    "\n",
    "Z = timbre_df.start_time.values.reshape(num_segments, 13).T\n",
    "\n",
    "print(f'Shape of X: {X.shape}')\n",
    "print(f'Shape of Y: {Y.shape}')\n",
    "print(f'Shape of Z: {Z.shape}')"
   ]
  },
  {
   "cell_type": "markdown",
   "id": "fe2b5a52-8244-43a6-a6e9-b7405871fede",
   "metadata": {},
   "source": [
    "<br>\n",
    "\n",
    "### <a id='ExtractSTL'></a> Extract the STL file\n",
    "This task ultimately comes down to just three lines of code. However, it was by far the most challenging part of the project. At one point, I honestly believed it was impossible to create a 3D print file using data from Python, as there is very little literature on how to accomplish this. While I successfully generated what I needed, I cannot say with complete certainty that the same approach would work for other models. For this one, it ultimately required having the data in the correct format and a thorough understanding of the <a href = 'https://pyvista.org/'><b>PyVista</b></a> library."
   ]
  },
  {
   "cell_type": "code",
   "execution_count": 9,
   "id": "e1b5b494-5715-4bb1-ad16-9eb2e2ffeee5",
   "metadata": {},
   "outputs": [],
   "source": [
    "import pyvista as pv\n",
    "\n",
    "# Create Structured Grid\n",
    "mesh = pv.StructuredGrid(X, Y, Z)\n",
    "\n",
    "# Convert to PolyData\n",
    "poly_data = mesh.extract_surface()\n",
    "\n",
    "# Extract to .stl\n",
    "poly_data.save('song_polydata.stl')"
   ]
  },
  {
   "cell_type": "markdown",
   "id": "8a354056-5d83-4c28-91e9-223a2312b0e5",
   "metadata": {},
   "source": [
    "----"
   ]
  },
  {
   "cell_type": "markdown",
   "id": "6b3716d3-e6d7-4d95-8a62-273b8b9bcd3b",
   "metadata": {},
   "source": [
    "## <a id='PrintSTL'></a> Printing the STL\n",
    "Unfortunately, this is where this part of the project came to a grinding halt. <br>\n",
    "When I imported the model into the 3D printing software, it appeared extremely disproportionate. I estimated its dimensions to be around 2 inches in diameter and 6 feet long. My printer couldn’t handle that scale, and even if it could, the model would look awkward. I spent considerable time tweaking parameters, but without success. I also attempted to adjust the original model, but that didn't help either.<br>\n",
    "Ultimately, I realized that to create a comprehensible, reasonable, and aesthetically pleasing cylindrical shape, the model needs to be quite long. While it can be 'squished,' it doesn’t look good and results in ridges that the 3D printer can't accommodate.<br>\n",
    "I will soon include some screenshots of what the model looked like in the 3D printing software. The STL file can be found in the project repository. If anyone has ideas or suggestions for fixing this issue, please reach out to me on GitHub."
   ]
  },
  {
   "cell_type": "raw",
   "id": "f40fdd04-3bf7-4379-a21a-c4c0934a6793",
   "metadata": {},
   "source": [
    "Need:\n",
    "-Picture of squished model\n",
    "-Picture of model in 3D software\n",
    "-Link to 3D software\n",
    "-Link to STL"
   ]
  },
  {
   "cell_type": "markdown",
   "id": "560c5184-305e-4000-9c2b-036f0c991707",
   "metadata": {},
   "source": [
    "[Back to top](#top)"
   ]
  }
 ],
 "metadata": {
  "kernelspec": {
   "display_name": "Python 3 (ipykernel)",
   "language": "python",
   "name": "python3"
  },
  "language_info": {
   "codemirror_mode": {
    "name": "ipython",
    "version": 3
   },
   "file_extension": ".py",
   "mimetype": "text/x-python",
   "name": "python",
   "nbconvert_exporter": "python",
   "pygments_lexer": "ipython3",
   "version": "3.12.3"
  }
 },
 "nbformat": 4,
 "nbformat_minor": 5
}
