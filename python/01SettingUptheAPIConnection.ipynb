{
 "cells": [
  {
   "cell_type": "markdown",
   "id": "66647221-471a-47b4-8853-3f686e9f717c",
   "metadata": {},
   "source": [
    "<a name = 'top'></a><h1>Setting Up the API Connection</h1>\n",
    "In this notebook we will walk through the steps to set up a connection to the Spotify API using the <i>Spotipy</i>."
   ]
  },
  {
   "cell_type": "markdown",
   "id": "0a30820c-e8be-40c3-bc4c-e7f1a2b84fa8",
   "metadata": {},
   "source": [
    "---"
   ]
  },
  {
   "cell_type": "markdown",
   "id": "f3948ce2-2b37-4b64-8d57-e975b1ac309c",
   "metadata": {},
   "source": [
    "<h2>Table of Contents</h2>\n",
    "<ol type = 'I'>\n",
    "<li><a href='#CreateKeys'>Creating Client ID and Secret keys</a></li>\n",
    "<li><a href='#ConnectToAPI'>Connecting to the API</a></li>\n",
    "</ol>"
   ]
  },
  {
   "cell_type": "markdown",
   "id": "225c2042-27a6-42fe-8259-ffca09b36d09",
   "metadata": {},
   "source": [
    "---"
   ]
  },
  {
   "cell_type": "markdown",
   "id": "b407f008-1a0b-47ac-9f02-6a5bf858b827",
   "metadata": {},
   "source": [
    "<a name='CreateKeys'></a><h2>Creating Client ID and Secret Keys</h2>\n",
    "To use the Spotify API, we need to first create user keys on Spotify's Developer site."
   ]
  },
  {
   "cell_type": "markdown",
   "id": "2dbea7c8-32f0-4a14-b00e-603c55d47e59",
   "metadata": {},
   "source": [
    "<h3>1. Login to Spotify for Devlopers</h3>\n",
    "Vist the <a href = 'https://developer.spotify.com/'>Spotify for Developers</a> page and login using your Spotify account credentials. \n",
    "If you don't have a login, you can create one using your Google, Facebook, Apple, or an email account. Don't worry, it's free!<br>\n",
    "<br>"
   ]
  },
  {
   "cell_type": "markdown",
   "id": "976d7140-d324-4d1f-aa0d-6fa2acd81062",
   "metadata": {},
   "source": [
    "<h3>2. Navigate to the Dashboard</h3>\n",
    "Once logged in, click on your username in the upper right hand corner of the page and click 'Dashboard'.<br>\n",
    "<br>\n",
    "<img src = 'https://github.com/JonYarber/music_modeling/blob/main/media/accessing_the_dashboard.png?raw=true' alt = 'Dashboard'><br>\n",
    "<br>"
   ]
  },
  {
   "cell_type": "markdown",
   "id": "96e43327-f903-42d3-9333-125998afbb5d",
   "metadata": {},
   "source": [
    "<h3>3. Create an App</h3>\n",
    "Click the 'Create app' button on the Dashboard.<br>\n",
    "<br>\n",
    "<img src = 'https://github.com/JonYarber/music_modeling/blob/main/media/create_app_button.png?raw=true' alt = 'Create app Button'>\n",
    "<br>"
   ]
  },
  {
   "cell_type": "markdown",
   "id": "726bfd61-3104-4c6f-97f8-2070ce27dddc",
   "metadata": {},
   "source": [
    "<h3>4. Fill in Required Fields in Create App</h3>\n",
    "You may name your project whatever you wish with whatever description you choose.<br>\n",
    "We don't need the redirect URI, so we just put in any URL.<br>\n",
    "Agree to the terms and conditions at the bottom of the page and 'Save'.<br>\n",
    "<br>\n",
    "<img src = 'https://github.com/JonYarber/music_modeling/blob/main/media/create_app_application.png?raw=true' alt = 'Create App Application'>\n",
    "<br>"
   ]
  },
  {
   "cell_type": "markdown",
   "id": "620d0ec5-2c15-490b-a50d-8765d5d85098",
   "metadata": {},
   "source": [
    "<h3>5. Navigate to App Settings</h3>\n",
    "Once we click 'Save' we will be sent to the app dashboard. Click the 'Settings' button.<br>\n",
    "<br>\n",
    "<img src = 'https://github.com/JonYarber/music_modeling/blob/main/media/settings_button.png?raw=true' alt = 'Settings Button'><br>\n",
    "<br>"
   ]
  },
  {
   "attachments": {},
   "cell_type": "markdown",
   "id": "62a18f2c-ba8f-4b17-a756-a59caf6197fd",
   "metadata": {},
   "source": [
    "<h3>6. Retreive Client ID and Client Secret</h3>\n",
    "In Settings, we immediately see our Client ID token on the Basic Information page. <br>\n",
    "<i>Client ID and Secret Token shown were created for this demonstration and immediately removed.</i><br>\n",
    "<br>\n",
    "<img src = 'https://github.com/JonYarber/music_modeling/blob/main/media/client_id.png?raw=true' alt = 'Client ID'><br>\n",
    "<br>\n",
    "Clicking the <b>View client secret</b> link reveals the Client secret token.<br>\n",
    "<br>\n",
    "<img src = 'https://github.com/JonYarber/music_modeling/blob/main/media/client_id_client_secret.png?raw=true' alt = 'Client ID & Secret'><br>"
   ]
  },
  {
   "attachments": {},
   "cell_type": "markdown",
   "id": "61c41efc-47bd-43dd-9b3b-306f50d590d8",
   "metadata": {},
   "source": [
    "<h3>Done!</li></h3>\n",
    "With that, we have all we need to proceed to the next step, accessing the API in Python using <i>Spotipy</i>."
   ]
  },
  {
   "cell_type": "markdown",
   "id": "463ce2b0-fbcd-489d-97f0-4928a214563f",
   "metadata": {},
   "source": [
    "---"
   ]
  },
  {
   "cell_type": "markdown",
   "id": "3737a4a2-71b8-4583-bdac-df4656fe36ab",
   "metadata": {},
   "source": [
    "<h2>Connecting to the API</h2>\n",
    "Now that we have our Client ID and Secret tokens, we can use them to connect to Spotify Web API. To do this in Python we will use <a href = 'https://spotipy.readthedocs.io/en/2.24.0/'><i>Spotipy</i></a>."
   ]
  },
  {
   "cell_type": "markdown",
   "id": "a706f2c8-86e4-4a89-87f0-5a7be9aa5274",
   "metadata": {},
   "source": [
    "<h3>Install Spotipy</h3>"
   ]
  },
  {
   "cell_type": "code",
   "execution_count": 1,
   "id": "ba46242c-019a-4836-98a2-7759f9e83ef8",
   "metadata": {},
   "outputs": [
    {
     "name": "stdout",
     "output_type": "stream",
     "text": [
      "Requirement already satisfied: spotipy in /opt/anaconda3/lib/python3.11/site-packages (2.24.0)\n",
      "Requirement already satisfied: redis>=3.5.3 in /opt/anaconda3/lib/python3.11/site-packages (from spotipy) (5.0.7)\n",
      "Requirement already satisfied: requests>=2.25.0 in /opt/anaconda3/lib/python3.11/site-packages (from spotipy) (2.31.0)\n",
      "Requirement already satisfied: urllib3>=1.26.0 in /opt/anaconda3/lib/python3.11/site-packages (from spotipy) (2.0.7)\n",
      "Requirement already satisfied: charset-normalizer<4,>=2 in /opt/anaconda3/lib/python3.11/site-packages (from requests>=2.25.0->spotipy) (2.0.4)\n",
      "Requirement already satisfied: idna<4,>=2.5 in /opt/anaconda3/lib/python3.11/site-packages (from requests>=2.25.0->spotipy) (3.4)\n",
      "Requirement already satisfied: certifi>=2017.4.17 in /opt/anaconda3/lib/python3.11/site-packages (from requests>=2.25.0->spotipy) (2024.7.4)\n"
     ]
    }
   ],
   "source": [
    "!pip install spotipy"
   ]
  },
  {
   "cell_type": "markdown",
   "id": "b3d2f021-fa0e-4c0a-bcc8-35a38d764447",
   "metadata": {},
   "source": [
    "<h3>Import Spotipy</h3>\n",
    "Now import the <code>spotipy</code> library. We will also need <code>SpotifyClientCredentials</code> from the <code>oauth2</code> module."
   ]
  },
  {
   "cell_type": "code",
   "execution_count": 2,
   "id": "6c071ea8-7319-4e8d-b63e-831e7a6521eb",
   "metadata": {},
   "outputs": [],
   "source": [
    "import spotipy\n",
    "from spotipy.oauth2 import SpotifyClientCredentials"
   ]
  },
  {
   "cell_type": "markdown",
   "id": "4f0c44a6-c8bb-4492-ad65-7b14a1483f08",
   "metadata": {},
   "source": [
    "<h3>Connect to the API</h3>\n",
    "Using <code>SpotifyClientCredentials</code> we create a <code>credentials</code> object. The credentials object will store our Client ID and Client Secret created above. Then <i>Spotipy</i> will use this object to then connect to Spotify."
   ]
  },
  {
   "cell_type": "code",
   "execution_count": 3,
   "id": "eaeaf3a6-56c1-4cf9-9823-ea6dc37cfc3f",
   "metadata": {},
   "outputs": [
    {
     "name": "stdin",
     "output_type": "stream",
     "text": [
      "Enter your Spotify Client ID:  ed9307841d3542df8819aec9a4f0ec84\n",
      "Enter your Spotify Secret Token:  8208717955574be6a24163ed59675094\n"
     ]
    }
   ],
   "source": [
    "# Store your Client ID and Client Secret keys. \n",
    "# I'm using input() to hide mine. Feel free to hard code or get creative!\n",
    "client_id_input = input(\"Enter your Spotify Client ID: \")\n",
    "client_secret_input = input(\"Enter your Spotify Secret Token: \")\n",
    "\n",
    "# Create credentials object\n",
    "# SpotifyClientCredentials requires two parameters: client_id and client_secret\n",
    "credentials = SpotifyClientCredentials(client_id = client_id_input,\n",
    "                                       client_secret = client_secret_input)\n",
    "\n",
    "# Connect to Spotify\n",
    "# Create an object, sp, which stores the connection\n",
    "sp = spotipy.Spotify(client_credentials_manager = credentials)"
   ]
  },
  {
   "cell_type": "markdown",
   "id": "b409211c-1c5d-47ea-b5ba-44cd157c28f0",
   "metadata": {},
   "source": [
    "<h3>Checking the Connection</h3>\n",
    "Besides just trying to perform a search using the <code>sp</code> object, I'm still working on this. Unfortunately, <i>Spotipy</i>'s documentation is not very clear on testing the connection. I will continue my research and will update the notebooks once I have found a solution.<br>\n",
    "With that, let's do a quick search and see if we're connected. We'll take a look at this context in the next notebook, <a href = 'https://nbviewer.org/github/JonYarber/music_modeling/blob/main/python/2.%20Using%20the%20Spotify%20API.ipynb'>Using the Spotify API</a>."
   ]
  },
  {
   "cell_type": "code",
   "execution_count": 4,
   "id": "14958b49-e0aa-47e1-84a3-1cdccf7689db",
   "metadata": {},
   "outputs": [
    {
     "data": {
      "text/plain": [
       "'What’s The Frequency, Kenneth? - Remastered'"
      ]
     },
     "execution_count": 4,
     "metadata": {},
     "output_type": "execute_result"
    }
   ],
   "source": [
    "# Quick search using sp\n",
    "sp.search(f'track:Whats the Frequency Kenneth', type = 'track')['tracks']['items'][0]['name']"
   ]
  },
  {
   "cell_type": "markdown",
   "id": "a9ac0ad0-d856-41a5-8813-a924337f88b0",
   "metadata": {},
   "source": [
    "<a href='#top'>Back to top</a>"
   ]
  }
 ],
 "metadata": {
  "kernelspec": {
   "display_name": "Python 3 (ipykernel)",
   "language": "python",
   "name": "python3"
  },
  "language_info": {
   "codemirror_mode": {
    "name": "ipython",
    "version": 3
   },
   "file_extension": ".py",
   "mimetype": "text/x-python",
   "name": "python",
   "nbconvert_exporter": "python",
   "pygments_lexer": "ipython3",
   "version": "3.12.3"
  }
 },
 "nbformat": 4,
 "nbformat_minor": 5
}
