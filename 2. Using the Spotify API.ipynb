{
 "cells": [
  {
   "cell_type": "markdown",
   "id": "71aa1c10-7fd2-44ce-8505-c72ca0bafd00",
   "metadata": {},
   "source": [
    "<h1>Using the API</h1>\n",
    "In this notebook, we will see how to use the Spotipy to navigate the Spotify API."
   ]
  },
  {
   "cell_type": "markdown",
   "id": "e91dab32-20c1-47a4-97f1-027691ab9a1f",
   "metadata": {},
   "source": [
    "---"
   ]
  },
  {
   "cell_type": "markdown",
   "id": "94e3a983-850f-4206-ad61-ca14836ec2ee",
   "metadata": {},
   "source": [
    "<h2>Prerequisites</h2>\n",
    "<ol>\n",
    "    <li><a href = 'https://nbviewer.org/github/JonYarber/music_modeling/blob/main/1.%20Setting%20Up%20the%20API%20Connection.ipynb'>Setting up the API Connection</a></li>\n",
    "</ol>"
   ]
  },
  {
   "cell_type": "markdown",
   "id": "a8911958-8330-4716-a269-a6c6b479061c",
   "metadata": {},
   "source": [
    "---"
   ]
  },
  {
   "cell_type": "markdown",
   "id": "65f960a3-b6f9-4a5e-a136-c03063851422",
   "metadata": {},
   "source": [
    "<h3>Connect to Spotify</h3>\n",
    "Let's create a function that will conveniently get us connected to the Spotify API using the method outlined in the <a href = 'https://nbviewer.org/github/JonYarber/music_modeling/blob/main/1.%20Setting%20Up%20the%20API%20Connection.ipynb'>Setting up the API Connection</a>."
   ]
  },
  {
   "cell_type": "code",
   "execution_count": 3,
   "id": "20bc89f3-0515-4120-b315-a25aed7ba25d",
   "metadata": {},
   "outputs": [],
   "source": [
    "import spotipy\n",
    "from spotipy.oauth2 import SpotifyClientCredentials\n",
    "\n",
    "def connect_to_spotify():\n",
    "    sp_client_id = input(\"Enter your Spotify Client ID: \")\n",
    "    sp_client_secret = input(\"Enter your Spotify Secret Token: \")\n",
    "    \n",
    "    credentials = SpotifyClientCredentials(client_id = sp_client_id,\n",
    "                                           client_secret = sp_client_secret)\n",
    "    \n",
    "    sp = spotipy.Spotify(client_credentials_manager = credentials)\n",
    "    \n",
    "    print(\"Connected to Spotify!\")\n",
    "\n",
    "    return sp"
   ]
  },
  {
   "cell_type": "code",
   "execution_count": 4,
   "id": "6f6e5f48-4bcd-4d8d-907a-77dd4cdbf43b",
   "metadata": {},
   "outputs": [
    {
     "name": "stdin",
     "output_type": "stream",
     "text": [
      "Enter your Spotify Client ID:  ed9307841d3542df8819aec9a4f0ec84\n",
      "Enter your Spotify Secret Token:  8208717955574be6a24163ed59675094\n"
     ]
    },
    {
     "name": "stdout",
     "output_type": "stream",
     "text": [
      "Connected to Spotify!\n"
     ]
    }
   ],
   "source": [
    "sp = connect_to_spotify()"
   ]
  },
  {
   "cell_type": "markdown",
   "id": "856a770a-6b9c-4700-ac8a-d7d173f95bad",
   "metadata": {},
   "source": [
    "<h3>Using the Search Function</h3>\n",
    "It all starts with a search!<br>\n",
    "Spotify identifies tracks and artists with their own unique resource identifier or URI. The URI is key to retrieving desired artist or track information. We find these URIs by utilizing the <b>search</b> method of our connection object, <b>sp</b>. Refer to the <a href = 'https://spotipy.readthedocs.io/en/2.24.0/#spotipy.client.Spotify.search'>Spotipy documentation</a> for complete information regarding the <b>search</b> feature.<br>\n",
    "<br>\n",
    "For this project, we will be performing a <i>track</i> search by setting the <b>type</b> parameter to <b>'track'</b>. Here is an example of the syntax:"
   ]
  },
  {
   "cell_type": "raw",
   "id": "38f86651-f936-4b6b-87b8-2ade052a5f71",
   "metadata": {},
   "source": [
    "sp.search('Without You', type = 'track')"
   ]
  },
  {
   "cell_type": "markdown",
   "id": "0fe9fff4-ba4c-4ea2-94d0-82545f0a0efd",
   "metadata": {},
   "source": [
    "<br>\n",
    "There are three reasons for utilizing search type <b>'track'</b> on this project:<br>\n",
    "<ol>\n",
    "    <li>We need are modeling songs, so we need a track URI.</li>\n",
    "    <li>We can obtain both the track and artist URI from a track search, if needed.</li>\n",
    "    <li>We can add the name of the artist to the search term.</li>\n",
    "</ol>\n",
    "The search will always return the specified number of results (the <b>limit</b> parameter, default 10) regardless of how good a match the result is. To ensure the first result is the correct result, that third item is important."
   ]
  },
  {
   "cell_type": "markdown",
   "id": "51dfe093-63cc-4de5-bc4c-e8840c073cc8",
   "metadata": {},
   "source": [
    "<h3>Performing a Search</h3>\n",
    "Assume we want the URI for the song <i>Without You</i> by Mariah Carey. Without specifying the artist name and just executing a search for the track 'Without You', we get the following results:<br>\n",
    "<i>(Ignore syntax for the time being. We will cover this next.)</i>"
   ]
  },
  {
   "cell_type": "code",
   "execution_count": 53,
   "id": "d9cda0ca-58c5-4c2b-bdf8-f9c981c7d681",
   "metadata": {},
   "outputs": [
    {
     "name": "stdout",
     "output_type": "stream",
     "text": [
      "Artist: The Kid LAROI\n",
      "Track: WITHOUT YOU\n",
      "------------------------------\n",
      "Artist: Rosario Dawson\n",
      "Track: Without You\n",
      "------------------------------\n",
      "Artist: David Guetta\n",
      "Track: Without You (feat. Usher)\n",
      "------------------------------\n",
      "Artist: George Lamond\n",
      "Track: Without You\n",
      "------------------------------\n",
      "Artist: Avicii\n",
      "Track: Without You (feat. Sandro Cavazza)\n",
      "------------------------------\n",
      "Artist: DJ Max Star\n",
      "Track: WITHOUT YOU (Freestyle)\n",
      "------------------------------\n",
      "Artist: Strawberry Guy\n",
      "Track: Without You\n",
      "------------------------------\n",
      "Artist: Billi Royce\n",
      "Track: Without You\n",
      "------------------------------\n",
      "Artist: Chris Stapleton\n",
      "Track: Without Your Love\n",
      "------------------------------\n",
      "Artist: Grant\n",
      "Track: Without You\n",
      "------------------------------\n",
      "Artist: 3 Doors Down\n",
      "Track: Here Without You\n",
      "------------------------------\n",
      "Artist: Inhavit\n",
      "Track: Without You\n",
      "------------------------------\n",
      "Artist: Matt Hansen\n",
      "Track: without you with me\n",
      "------------------------------\n",
      "Artist: Luvbird\n",
      "Track: Without U\n",
      "------------------------------\n",
      "Artist: Mariah Carey\n",
      "Track: Without You\n",
      "------------------------------\n"
     ]
    }
   ],
   "source": [
    "for item in sp.search('Without You', type = 'track', limit = 15)['tracks']['items']:\n",
    "    print(f'Artist: {item['artists'][0]['name']}')\n",
    "    print(f'Track: {item['name']}')\n",
    "    print('-' * 30)"
   ]
  },
  {
   "cell_type": "markdown",
   "id": "77f18b9e-a370-4107-970d-67cf3e7dd865",
   "metadata": {},
   "source": [
    "<br>I had to set the <b>limit</b> to 15 just to get the result we wanted! If this was the only way to retrieve that track URI, we would have to add some frustrating layers to our processing. However, we can avoid that and ensure that we get the correct result by informing both the artist and track name in the search term as follows:"
   ]
  },
  {
   "cell_type": "code",
   "execution_count": 51,
   "id": "ceeda340-127c-4184-8b2e-f6136a9c0fd4",
   "metadata": {},
   "outputs": [
    {
     "name": "stdout",
     "output_type": "stream",
     "text": [
      "Artist: Mariah Carey\n",
      "Track: Without You\n"
     ]
    }
   ],
   "source": [
    "# The spacing is important!\n",
    "search_term = f'artist:Mariah Carey track:Without You'\n",
    "\n",
    "# Let's just see what the first result returns\n",
    "search_result = sp.search(search_term, type = 'track')['tracks']['items'][0]\n",
    "\n",
    "print(f'Artist: {search_result['artists'][0]['name']}')\n",
    "print(f'Track: {search_result['name']}')"
   ]
  },
  {
   "cell_type": "markdown",
   "id": "ff42d4ea-36dd-4330-918e-a6a3c8e0611d",
   "metadata": {},
   "source": [
    "<h3>Parsing the JSON</h3>\n",
    "Now that we know how to use <b>search</b>, let's see how to get what we need from the result.<br>\n",
    "As I'm sure you've already gathered, the results of the search are in JSON format. We will be examining how to retrieve <i>very specific</i> items from the result. If you are unfamiliar with JSON dictionaries I highly recommend giving <a href='https://en.wikipedia.org/wiki/JSON'>this</a> a quick read. I will also be displaying the JSON results in a pandas dataframe format for readability.<br>\n",
    "<br>\n",
    "Before proceeding let's store the search results of 'Without You' into a variable."
   ]
  },
  {
   "cell_type": "code",
   "execution_count": 64,
   "id": "b360ed80-8422-4a5e-92ea-7d38730c81c4",
   "metadata": {},
   "outputs": [],
   "source": [
    "search_results = sp.search('Without You', limit = 15)"
   ]
  },
  {
   "cell_type": "markdown",
   "id": "58174a42-1447-4157-a421-89ee3ec936dc",
   "metadata": {},
   "source": [
    "<h4>Layer 1: 'tracks'</h4>\n",
    "With 15 results specificied, we would expect the length of our dictionary to be 15. However, it is not:"
   ]
  },
  {
   "cell_type": "code",
   "execution_count": 65,
   "id": "628218f6-ce5b-4f82-b8d1-f5b7552aa330",
   "metadata": {},
   "outputs": [
    {
     "data": {
      "text/plain": [
       "1"
      ]
     },
     "execution_count": 65,
     "metadata": {},
     "output_type": "execute_result"
    }
   ],
   "source": [
    "len(search_results)"
   ]
  },
  {
   "cell_type": "markdown",
   "id": "568de828-2509-4e7a-8c5d-575c8acb41f2",
   "metadata": {},
   "source": [
    "This is because everything the very first term the dictionary, 'tracks', stores information regarding the query itself. Here's a better view:"
   ]
  },
  {
   "cell_type": "code",
   "execution_count": 73,
   "id": "1bad84de-c9b9-4419-b011-f2ffa328c862",
   "metadata": {},
   "outputs": [
    {
     "data": {
      "text/html": [
       "<div>\n",
       "<style scoped>\n",
       "    .dataframe tbody tr th:only-of-type {\n",
       "        vertical-align: middle;\n",
       "    }\n",
       "\n",
       "    .dataframe tbody tr th {\n",
       "        vertical-align: top;\n",
       "    }\n",
       "\n",
       "    .dataframe thead th {\n",
       "        text-align: right;\n",
       "    }\n",
       "</style>\n",
       "<table border=\"1\" class=\"dataframe\">\n",
       "  <thead>\n",
       "    <tr style=\"text-align: right;\">\n",
       "      <th></th>\n",
       "      <th>tracks</th>\n",
       "    </tr>\n",
       "  </thead>\n",
       "  <tbody>\n",
       "    <tr>\n",
       "      <th>href</th>\n",
       "      <td>https://api.spotify.com/v1/search?query=Withou...</td>\n",
       "    </tr>\n",
       "    <tr>\n",
       "      <th>items</th>\n",
       "      <td>[{'album': {'album_type': 'album', 'artists': ...</td>\n",
       "    </tr>\n",
       "    <tr>\n",
       "      <th>limit</th>\n",
       "      <td>15</td>\n",
       "    </tr>\n",
       "    <tr>\n",
       "      <th>next</th>\n",
       "      <td>https://api.spotify.com/v1/search?query=Withou...</td>\n",
       "    </tr>\n",
       "    <tr>\n",
       "      <th>offset</th>\n",
       "      <td>0</td>\n",
       "    </tr>\n",
       "    <tr>\n",
       "      <th>previous</th>\n",
       "      <td>None</td>\n",
       "    </tr>\n",
       "    <tr>\n",
       "      <th>total</th>\n",
       "      <td>899</td>\n",
       "    </tr>\n",
       "  </tbody>\n",
       "</table>\n",
       "</div>"
      ],
      "text/plain": [
       "                                                     tracks\n",
       "href      https://api.spotify.com/v1/search?query=Withou...\n",
       "items     [{'album': {'album_type': 'album', 'artists': ...\n",
       "limit                                                    15\n",
       "next      https://api.spotify.com/v1/search?query=Withou...\n",
       "offset                                                    0\n",
       "previous                                               None\n",
       "total                                                   899"
      ]
     },
     "execution_count": 73,
     "metadata": {},
     "output_type": "execute_result"
    }
   ],
   "source": [
    "import pandas as pd\n",
    "pd.DataFrame(search_results)"
   ]
  },
  {
   "cell_type": "markdown",
   "id": "08e96ce2-3aa3-498e-b551-d2d87d018511",
   "metadata": {},
   "source": [
    "To get what we need, we need to go down another layer."
   ]
  },
  {
   "cell_type": "markdown",
   "id": "c636ab5e-098e-4add-a2cb-7bfb8661ee9f",
   "metadata": {},
   "source": [
    "<h4>Layer 2: 'items'</h4>\n",
    "From the above dataframe we see that the information we need appears in 'items':"
   ]
  },
  {
   "cell_type": "code",
   "execution_count": 74,
   "id": "810a3dd1-df11-44ad-a62f-d29ee3efd50a",
   "metadata": {},
   "outputs": [
    {
     "data": {
      "text/plain": [
       "15"
      ]
     },
     "execution_count": 74,
     "metadata": {},
     "output_type": "execute_result"
    }
   ],
   "source": [
    "len(search_results['tracks']['items'])"
   ]
  },
  {
   "cell_type": "markdown",
   "id": "53a37cc5-f69c-4bb6-9d34-bb08573c405d",
   "metadata": {},
   "source": [
    "That's what we want to see. This means that any time we perform a search, we can immediately go down two layers to 'items'"
   ]
  },
  {
   "cell_type": "code",
   "execution_count": 92,
   "id": "6f9778f7-2db5-4654-a170-e02e47244d08",
   "metadata": {},
   "outputs": [
    {
     "data": {
      "text/html": [
       "<div>\n",
       "<style scoped>\n",
       "    .dataframe tbody tr th:only-of-type {\n",
       "        vertical-align: middle;\n",
       "    }\n",
       "\n",
       "    .dataframe tbody tr th {\n",
       "        vertical-align: top;\n",
       "    }\n",
       "\n",
       "    .dataframe thead th {\n",
       "        text-align: right;\n",
       "    }\n",
       "</style>\n",
       "<table border=\"1\" class=\"dataframe\">\n",
       "  <thead>\n",
       "    <tr style=\"text-align: right;\">\n",
       "      <th></th>\n",
       "      <th>album</th>\n",
       "      <th>artists</th>\n",
       "      <th>available_markets</th>\n",
       "      <th>disc_number</th>\n",
       "      <th>duration_ms</th>\n",
       "      <th>explicit</th>\n",
       "      <th>external_ids</th>\n",
       "      <th>external_urls</th>\n",
       "      <th>href</th>\n",
       "      <th>id</th>\n",
       "      <th>is_local</th>\n",
       "      <th>name</th>\n",
       "      <th>popularity</th>\n",
       "      <th>preview_url</th>\n",
       "      <th>track_number</th>\n",
       "      <th>type</th>\n",
       "      <th>uri</th>\n",
       "    </tr>\n",
       "  </thead>\n",
       "  <tbody>\n",
       "    <tr>\n",
       "      <th>0</th>\n",
       "      <td>{'album_type': 'album', 'artists': [{'external...</td>\n",
       "      <td>[{'external_urls': {'spotify': 'https://open.s...</td>\n",
       "      <td>[AR, AU, AT, BE, BO, BR, BG, CA, CL, CO, CR, C...</td>\n",
       "      <td>2</td>\n",
       "      <td>161384</td>\n",
       "      <td>True</td>\n",
       "      <td>{'isrc': 'USSM12006586'}</td>\n",
       "      <td>{'spotify': 'https://open.spotify.com/track/1K...</td>\n",
       "      <td>https://api.spotify.com/v1/tracks/1KMkcUvF7m3S...</td>\n",
       "      <td>1KMkcUvF7m3SDChDOa7i5L</td>\n",
       "      <td>False</td>\n",
       "      <td>WITHOUT YOU</td>\n",
       "      <td>74</td>\n",
       "      <td>https://p.scdn.co/mp3-preview/0cacbf2acaef9fc5...</td>\n",
       "      <td>7</td>\n",
       "      <td>track</td>\n",
       "      <td>spotify:track:1KMkcUvF7m3SDChDOa7i5L</td>\n",
       "    </tr>\n",
       "    <tr>\n",
       "      <th>1</th>\n",
       "      <td>{'album_type': 'album', 'artists': [{'external...</td>\n",
       "      <td>[{'external_urls': {'spotify': 'https://open.s...</td>\n",
       "      <td>[AR, AU, AT, BE, BO, BR, BG, CA, CL, CO, CR, C...</td>\n",
       "      <td>1</td>\n",
       "      <td>255033</td>\n",
       "      <td>False</td>\n",
       "      <td>{'isrc': 'USQY51478307'}</td>\n",
       "      <td>{'spotify': 'https://open.spotify.com/track/4e...</td>\n",
       "      <td>https://api.spotify.com/v1/tracks/4e0SLDU1gDDy...</td>\n",
       "      <td>4e0SLDU1gDDyJSscUmA8hm</td>\n",
       "      <td>False</td>\n",
       "      <td>Without You (feat. Nichole)</td>\n",
       "      <td>35</td>\n",
       "      <td>https://p.scdn.co/mp3-preview/9ed747c6dddb84b2...</td>\n",
       "      <td>16</td>\n",
       "      <td>track</td>\n",
       "      <td>spotify:track:4e0SLDU1gDDyJSscUmA8hm</td>\n",
       "    </tr>\n",
       "    <tr>\n",
       "      <th>2</th>\n",
       "      <td>{'album_type': 'album', 'artists': [{'external...</td>\n",
       "      <td>[{'external_urls': {'spotify': 'https://open.s...</td>\n",
       "      <td>[CA, PR, US]</td>\n",
       "      <td>1</td>\n",
       "      <td>208133</td>\n",
       "      <td>False</td>\n",
       "      <td>{'isrc': 'GB28K1100030'}</td>\n",
       "      <td>{'spotify': 'https://open.spotify.com/track/1t...</td>\n",
       "      <td>https://api.spotify.com/v1/tracks/1tAutlhI9Fwn...</td>\n",
       "      <td>1tAutlhI9FwnKn7fVgmd5P</td>\n",
       "      <td>False</td>\n",
       "      <td>Without You (feat. Usher)</td>\n",
       "      <td>64</td>\n",
       "      <td>https://p.scdn.co/mp3-preview/d4c235ddc1029890...</td>\n",
       "      <td>4</td>\n",
       "      <td>track</td>\n",
       "      <td>spotify:track:1tAutlhI9FwnKn7fVgmd5P</td>\n",
       "    </tr>\n",
       "    <tr>\n",
       "      <th>3</th>\n",
       "      <td>{'album_type': 'compilation', 'artists': [{'ex...</td>\n",
       "      <td>[{'external_urls': {'spotify': 'https://open.s...</td>\n",
       "      <td>[AR, AU, AT, BE, BO, BR, BG, CA, CL, CO, CR, C...</td>\n",
       "      <td>1</td>\n",
       "      <td>256746</td>\n",
       "      <td>False</td>\n",
       "      <td>{'isrc': 'USBYQ0500020'}</td>\n",
       "      <td>{'spotify': 'https://open.spotify.com/track/2b...</td>\n",
       "      <td>https://api.spotify.com/v1/tracks/2btI9j6ov2Ig...</td>\n",
       "      <td>2btI9j6ov2IgC5tAacIGvQ</td>\n",
       "      <td>False</td>\n",
       "      <td>Without You</td>\n",
       "      <td>38</td>\n",
       "      <td>https://p.scdn.co/mp3-preview/b2886c9c6d30b8d8...</td>\n",
       "      <td>20</td>\n",
       "      <td>track</td>\n",
       "      <td>spotify:track:2btI9j6ov2IgC5tAacIGvQ</td>\n",
       "    </tr>\n",
       "    <tr>\n",
       "      <th>4</th>\n",
       "      <td>{'album_type': 'single', 'artists': [{'externa...</td>\n",
       "      <td>[{'external_urls': {'spotify': 'https://open.s...</td>\n",
       "      <td>[AR, AU, AT, BE, BO, BR, BG, CA, CL, CO, CR, C...</td>\n",
       "      <td>1</td>\n",
       "      <td>228080</td>\n",
       "      <td>False</td>\n",
       "      <td>{'isrc': 'TCADO1884573'}</td>\n",
       "      <td>{'spotify': 'https://open.spotify.com/track/2h...</td>\n",
       "      <td>https://api.spotify.com/v1/tracks/2hIrHUgeI2cK...</td>\n",
       "      <td>2hIrHUgeI2cKYwM18MkGPK</td>\n",
       "      <td>False</td>\n",
       "      <td>Without You</td>\n",
       "      <td>63</td>\n",
       "      <td>https://p.scdn.co/mp3-preview/e3b1578cb8e6d9da...</td>\n",
       "      <td>1</td>\n",
       "      <td>track</td>\n",
       "      <td>spotify:track:2hIrHUgeI2cKYwM18MkGPK</td>\n",
       "    </tr>\n",
       "  </tbody>\n",
       "</table>\n",
       "</div>"
      ],
      "text/plain": [
       "                                               album  \\\n",
       "0  {'album_type': 'album', 'artists': [{'external...   \n",
       "1  {'album_type': 'album', 'artists': [{'external...   \n",
       "2  {'album_type': 'album', 'artists': [{'external...   \n",
       "3  {'album_type': 'compilation', 'artists': [{'ex...   \n",
       "4  {'album_type': 'single', 'artists': [{'externa...   \n",
       "\n",
       "                                             artists  \\\n",
       "0  [{'external_urls': {'spotify': 'https://open.s...   \n",
       "1  [{'external_urls': {'spotify': 'https://open.s...   \n",
       "2  [{'external_urls': {'spotify': 'https://open.s...   \n",
       "3  [{'external_urls': {'spotify': 'https://open.s...   \n",
       "4  [{'external_urls': {'spotify': 'https://open.s...   \n",
       "\n",
       "                                   available_markets  disc_number  \\\n",
       "0  [AR, AU, AT, BE, BO, BR, BG, CA, CL, CO, CR, C...            2   \n",
       "1  [AR, AU, AT, BE, BO, BR, BG, CA, CL, CO, CR, C...            1   \n",
       "2                                       [CA, PR, US]            1   \n",
       "3  [AR, AU, AT, BE, BO, BR, BG, CA, CL, CO, CR, C...            1   \n",
       "4  [AR, AU, AT, BE, BO, BR, BG, CA, CL, CO, CR, C...            1   \n",
       "\n",
       "   duration_ms  explicit              external_ids  \\\n",
       "0       161384      True  {'isrc': 'USSM12006586'}   \n",
       "1       255033     False  {'isrc': 'USQY51478307'}   \n",
       "2       208133     False  {'isrc': 'GB28K1100030'}   \n",
       "3       256746     False  {'isrc': 'USBYQ0500020'}   \n",
       "4       228080     False  {'isrc': 'TCADO1884573'}   \n",
       "\n",
       "                                       external_urls  \\\n",
       "0  {'spotify': 'https://open.spotify.com/track/1K...   \n",
       "1  {'spotify': 'https://open.spotify.com/track/4e...   \n",
       "2  {'spotify': 'https://open.spotify.com/track/1t...   \n",
       "3  {'spotify': 'https://open.spotify.com/track/2b...   \n",
       "4  {'spotify': 'https://open.spotify.com/track/2h...   \n",
       "\n",
       "                                                href                      id  \\\n",
       "0  https://api.spotify.com/v1/tracks/1KMkcUvF7m3S...  1KMkcUvF7m3SDChDOa7i5L   \n",
       "1  https://api.spotify.com/v1/tracks/4e0SLDU1gDDy...  4e0SLDU1gDDyJSscUmA8hm   \n",
       "2  https://api.spotify.com/v1/tracks/1tAutlhI9Fwn...  1tAutlhI9FwnKn7fVgmd5P   \n",
       "3  https://api.spotify.com/v1/tracks/2btI9j6ov2Ig...  2btI9j6ov2IgC5tAacIGvQ   \n",
       "4  https://api.spotify.com/v1/tracks/2hIrHUgeI2cK...  2hIrHUgeI2cKYwM18MkGPK   \n",
       "\n",
       "   is_local                         name  popularity  \\\n",
       "0     False                  WITHOUT YOU          74   \n",
       "1     False  Without You (feat. Nichole)          35   \n",
       "2     False    Without You (feat. Usher)          64   \n",
       "3     False                  Without You          38   \n",
       "4     False                  Without You          63   \n",
       "\n",
       "                                         preview_url  track_number   type  \\\n",
       "0  https://p.scdn.co/mp3-preview/0cacbf2acaef9fc5...             7  track   \n",
       "1  https://p.scdn.co/mp3-preview/9ed747c6dddb84b2...            16  track   \n",
       "2  https://p.scdn.co/mp3-preview/d4c235ddc1029890...             4  track   \n",
       "3  https://p.scdn.co/mp3-preview/b2886c9c6d30b8d8...            20  track   \n",
       "4  https://p.scdn.co/mp3-preview/e3b1578cb8e6d9da...             1  track   \n",
       "\n",
       "                                    uri  \n",
       "0  spotify:track:1KMkcUvF7m3SDChDOa7i5L  \n",
       "1  spotify:track:4e0SLDU1gDDyJSscUmA8hm  \n",
       "2  spotify:track:1tAutlhI9FwnKn7fVgmd5P  \n",
       "3  spotify:track:2btI9j6ov2IgC5tAacIGvQ  \n",
       "4  spotify:track:2hIrHUgeI2cKYwM18MkGPK  "
      ]
     },
     "execution_count": 92,
     "metadata": {},
     "output_type": "execute_result"
    }
   ],
   "source": [
    "# Redo search result, except parse JSON down to 'items'\n",
    "search_results = sp.search('Without You', limit = 15)['tracks']['items']\n",
    "\n",
    "# View search results (first 5)\n",
    "pd.DataFrame(search_results).head()"
   ]
  },
  {
   "cell_type": "markdown",
   "id": "83878e82-1788-4a27-a1f7-a706b09d61b7",
   "metadata": {},
   "source": [
    "This is where we find our track URI (<b>uri</b>). Knowing how to search for a specific track and artist, how to limit our search results, and how to get down to this layer, we can now easily retrieve this:"
   ]
  },
  {
   "cell_type": "code",
   "execution_count": 108,
   "id": "3a5c77e0-9506-41c2-acbc-e6e4475169f6",
   "metadata": {},
   "outputs": [
    {
     "name": "stdout",
     "output_type": "stream",
     "text": [
      "Track URI: spotify:track:0pkIJFV6mviH9dmBYsFwTM\n"
     ]
    }
   ],
   "source": [
    "search_term = f'artist:Mariah Carey track:Without You'\n",
    "\n",
    "# Even though we're only specifying 1 result, we still have to specify that item ([0])\n",
    "specific_search_result = sp.search(search_term, type = 'track', limit = 1)['tracks']['items'][0]\n",
    "\n",
    "print(f'Track URI: {specific_search_result['uri']}')"
   ]
  },
  {
   "cell_type": "markdown",
   "id": "45d0730f-32dd-427c-976e-b5604618377f",
   "metadata": {},
   "source": [
    "<h4>Layer 3: 'artists'</h4>\n",
    "Even though we feel good about using the song and artist name in the search term, we are still going to want to be sure we got the right artist. For this, we need to go down one more layer to 'artists'"
   ]
  },
  {
   "cell_type": "code",
   "execution_count": 103,
   "id": "652fb576-bba6-46fc-a410-d80593c3e9a4",
   "metadata": {},
   "outputs": [
    {
     "data": {
      "text/html": [
       "<div>\n",
       "<style scoped>\n",
       "    .dataframe tbody tr th:only-of-type {\n",
       "        vertical-align: middle;\n",
       "    }\n",
       "\n",
       "    .dataframe tbody tr th {\n",
       "        vertical-align: top;\n",
       "    }\n",
       "\n",
       "    .dataframe thead th {\n",
       "        text-align: right;\n",
       "    }\n",
       "</style>\n",
       "<table border=\"1\" class=\"dataframe\">\n",
       "  <thead>\n",
       "    <tr style=\"text-align: right;\">\n",
       "      <th></th>\n",
       "      <th>external_urls</th>\n",
       "      <th>href</th>\n",
       "      <th>id</th>\n",
       "      <th>name</th>\n",
       "      <th>type</th>\n",
       "      <th>uri</th>\n",
       "    </tr>\n",
       "  </thead>\n",
       "  <tbody>\n",
       "    <tr>\n",
       "      <th>0</th>\n",
       "      <td>{'spotify': 'https://open.spotify.com/artist/4...</td>\n",
       "      <td>https://api.spotify.com/v1/artists/4iHNK0tOyZP...</td>\n",
       "      <td>4iHNK0tOyZPYnBU7nGAgpQ</td>\n",
       "      <td>Mariah Carey</td>\n",
       "      <td>artist</td>\n",
       "      <td>spotify:artist:4iHNK0tOyZPYnBU7nGAgpQ</td>\n",
       "    </tr>\n",
       "  </tbody>\n",
       "</table>\n",
       "</div>"
      ],
      "text/plain": [
       "                                       external_urls  \\\n",
       "0  {'spotify': 'https://open.spotify.com/artist/4...   \n",
       "\n",
       "                                                href                      id  \\\n",
       "0  https://api.spotify.com/v1/artists/4iHNK0tOyZP...  4iHNK0tOyZPYnBU7nGAgpQ   \n",
       "\n",
       "           name    type                                    uri  \n",
       "0  Mariah Carey  artist  spotify:artist:4iHNK0tOyZPYnBU7nGAgpQ  "
      ]
     },
     "execution_count": 103,
     "metadata": {},
     "output_type": "execute_result"
    }
   ],
   "source": [
    "pd.DataFrame(specific_search_result['artists'])"
   ]
  },
  {
   "cell_type": "markdown",
   "id": "3eacc561-76ff-4874-a417-7110b2e8ca74",
   "metadata": {},
   "source": [
    "<br>There's what we need in 'name':"
   ]
  },
  {
   "cell_type": "code",
   "execution_count": 106,
   "id": "4920a4df-a62b-491e-b7cf-b82384bbe818",
   "metadata": {},
   "outputs": [
    {
     "name": "stdout",
     "output_type": "stream",
     "text": [
      "Artist Name: Mariah Carey\n"
     ]
    }
   ],
   "source": [
    "print(f'Artist Name: {specific_search_result['artists'][0]['name']}')"
   ]
  },
  {
   "cell_type": "markdown",
   "id": "b3cf0449-e130-416a-8d8c-c2c9c33700c5",
   "metadata": {},
   "source": [
    "<h4>Put It All Together</h4>\n",
    "Let's do one last search in which we put it all together to get the track name, track URI, and artist name."
   ]
  },
  {
   "cell_type": "code",
   "execution_count": 122,
   "id": "a9576ade-d579-418d-8c9d-5efe9284d261",
   "metadata": {},
   "outputs": [
    {
     "name": "stdout",
     "output_type": "stream",
     "text": [
      "Artist:\t\tThe Beatles\n",
      "Track:\t\tHello, Goodbye - Remastered 2009\n",
      "Track URI:\tspotify:track:0vZ97gHhemKm6c64hTfJNA\n"
     ]
    }
   ],
   "source": [
    "# Create search term\n",
    "search_term = f'artist:Beatles track:Hello Goodbye'\n",
    "\n",
    "# Store result of search\n",
    "search_result = sp.search(search_term, type = 'track', limit = 1)['tracks']['items'][0]\n",
    "\n",
    "# Store track name as returned by Spotify\n",
    "track_title = search_result['name']\n",
    "\n",
    "# Store track URI\n",
    "track_uri = search_result['uri']\n",
    "\n",
    "# Store artist name \n",
    "track_artist = search_result['artists'][0]['name']\n",
    "\n",
    "\n",
    "print(f'Artist:\\t\\t{track_artist}')\n",
    "print(f'Track:\\t\\t{track_title}')\n",
    "print(f'Track URI:\\t{track_uri}')"
   ]
  },
  {
   "cell_type": "code",
   "execution_count": null,
   "id": "dbea4998-6da6-4731-865c-c30b7d0fd164",
   "metadata": {},
   "outputs": [],
   "source": []
  }
 ],
 "metadata": {
  "kernelspec": {
   "display_name": "Python 3 (ipykernel)",
   "language": "python",
   "name": "python3"
  },
  "language_info": {
   "codemirror_mode": {
    "name": "ipython",
    "version": 3
   },
   "file_extension": ".py",
   "mimetype": "text/x-python",
   "name": "python",
   "nbconvert_exporter": "python",
   "pygments_lexer": "ipython3",
   "version": "3.12.3"
  }
 },
 "nbformat": 4,
 "nbformat_minor": 5
}
