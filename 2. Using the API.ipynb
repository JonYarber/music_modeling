{
 "cells": [
  {
   "cell_type": "markdown",
   "id": "71aa1c10-7fd2-44ce-8505-c72ca0bafd00",
   "metadata": {},
   "source": [
    "<h1>Using the API</h1>\n",
    "In this notebook, we will see how to use the Spotipy to navigate the Spotify API using our connection."
   ]
  },
  {
   "cell_type": "markdown",
   "id": "e91dab32-20c1-47a4-97f1-027691ab9a1f",
   "metadata": {},
   "source": [
    "---"
   ]
  },
  {
   "cell_type": "markdown",
   "id": "94e3a983-850f-4206-ad61-ca14836ec2ee",
   "metadata": {},
   "source": [
    "<h2>Prerequisites</h2>\n",
    "1. Setting Up the API Connection"
   ]
  },
  {
   "cell_type": "markdown",
   "id": "a8911958-8330-4716-a269-a6c6b479061c",
   "metadata": {},
   "source": [
    "---"
   ]
  },
  {
   "cell_type": "code",
   "execution_count": null,
   "id": "b325acf1-8694-4f78-b4d4-0df563cda49c",
   "metadata": {},
   "outputs": [],
   "source": []
  }
 ],
 "metadata": {
  "kernelspec": {
   "display_name": "Python 3 (ipykernel)",
   "language": "python",
   "name": "python3"
  },
  "language_info": {
   "codemirror_mode": {
    "name": "ipython",
    "version": 3
   },
   "file_extension": ".py",
   "mimetype": "text/x-python",
   "name": "python",
   "nbconvert_exporter": "python",
   "pygments_lexer": "ipython3",
   "version": "3.12.3"
  }
 },
 "nbformat": 4,
 "nbformat_minor": 5
}
